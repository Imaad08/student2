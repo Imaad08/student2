{
 "cells": [
  {
   "cell_type": "markdown",
   "metadata": {},
   "source": [
    "---\n",
    "toc: false\n",
    "comments: true\n",
    "layout: post\n",
    "title: Lists\n",
    "courses: { compsci: {week: 9} }\n",
    "type: tangibles\n",
    "---"
   ]
  },
  {
   "cell_type": "markdown",
   "metadata": {},
   "source": [
    "## LISTS:\n",
    "\n",
    "A Python list is an ordered and changeable collection of data objects. Unlike an array, which can contain objects of a single type, a list can contain a mixture of objects.\n",
    "They start from 0. (The 1st element would actually be the 0th element)"
   ]
  },
  {
   "cell_type": "markdown",
   "metadata": {},
   "source": [
    "**List Functions**"
   ]
  },
  {
   "cell_type": "markdown",
   "metadata": {},
   "source": [
    "**Creating a list:**\n",
    "\n",
    "In order to create a list named \"aList\", type aList = [].\n",
    "This creates an empty list.\n",
    "A list with elements would look like this aList = [element1,element2,element3]\n",
    "\n",
    "**Append:**\n",
    "\n",
    "In Python, the append() method is used to add an element to the end of a list.\n",
    "The element in the parenthesis is what is added to the list."
   ]
  },
  {
   "cell_type": "code",
   "execution_count": null,
   "metadata": {},
   "outputs": [],
   "source": [
    "# College Board Pseudo Code\n",
    "aList ← []\n",
    "\n",
    "USER_INPUT ← (\"Enter an item you want (or 'q' to quit): \")\n",
    "\n",
    "REPEAT UNTIL USER_INPUT ← q{\n",
    "    APPEND (aList, USER_INPUT)\n",
    "}\n",
    "\n",
    "DISPLAY(aList)"
   ]
  },
  {
   "cell_type": "code",
   "execution_count": 2,
   "metadata": {},
   "outputs": [
    {
     "name": "stdout",
     "output_type": "stream",
     "text": [
      "Things You Want: ['1', 'item', '1']\n"
     ]
    }
   ],
   "source": [
    "aList = []\n",
    "\n",
    "while True:\n",
    "    user_input = input(\"Enter an item you want (or 'q' to quit): \")\n",
    "    \n",
    "    if user_input.lower() == 'q':\n",
    "        break\n",
    "    \n",
    "    aList.append(user_input)\n",
    "\n",
    "print(\"Things You Want:\", aList)"
   ]
  },
  {
   "cell_type": "markdown",
   "metadata": {},
   "source": [
    "**Accessing an element:**\n",
    "\n",
    "In order to access a specific element from a list, you would put the element in []. For example, If I had to access the third element in the list aList, I would say \"aList[2]\". "
   ]
  },
  {
   "cell_type": "code",
   "execution_count": null,
   "metadata": {},
   "outputs": [],
   "source": [
    "# College Board Pseudo Code\n",
    "aList ← []\n",
    "\n",
    "USER_INPUT ← (\"Enter an item you want (or 'q' to quit): \")\n",
    "\n",
    "REPEAT UNTIL USER_INPUT ← q{\n",
    "    APPEND (aList, USER_INPUT)\n",
    "}\n",
    "\n",
    "DISPLAY(aList[2])"
   ]
  },
  {
   "cell_type": "code",
   "execution_count": 9,
   "metadata": {},
   "outputs": [
    {
     "name": "stdout",
     "output_type": "stream",
     "text": [
      "The Second thing on your list is 3\n",
      "['2', '3', '6', 'hunt']\n"
     ]
    }
   ],
   "source": [
    "aList = []\n",
    "\n",
    "while True:\n",
    "    user_input = input(\"Enter an item you want (or 'q' to quit): \")\n",
    "    \n",
    "    if user_input.lower() == 'q':\n",
    "        break\n",
    "    \n",
    "    aList.append(user_input)\n",
    "\n",
    "print(\"The Second thing on your list is\", aList[1])\n",
    "print(aList)"
   ]
  },
  {
   "cell_type": "markdown",
   "metadata": {},
   "source": [
    "**Deleting an element:**\n",
    "\n",
    "In order to delete an element, choose the element the same way you would access it but put \"del\" before it. For example, If I had to delete the third element in a list called aList, I would say \"del aList[2]\"."
   ]
  },
  {
   "cell_type": "code",
   "execution_count": null,
   "metadata": {},
   "outputs": [],
   "source": [
    "# College Board Pseudo Code\n",
    "aList ← []\n",
    "\n",
    "USER_INPUT ← (\"Enter an item you want (or 'q' to quit): \")\n",
    "\n",
    "REPEAT UNTIL USER_INPUT ← q{\n",
    "    APPEND (aList, USER_INPUT)\n",
    "}\n",
    "\n",
    "REMOVE (aList, 2)\n",
    "\n",
    "DISPLAY(aList)"
   ]
  },
  {
   "cell_type": "code",
   "execution_count": 10,
   "metadata": {},
   "outputs": [
    {
     "name": "stdout",
     "output_type": "stream",
     "text": [
      "This is your list:  ['5', '4', '4']\n",
      "This is your new list:  ['5', '4']\n"
     ]
    }
   ],
   "source": [
    "aList = []\n",
    "\n",
    "while True:\n",
    "    user_input = input(\"Enter an item you want (or 'q' to quit): \")\n",
    "    \n",
    "    if user_input.lower() == 'q':\n",
    "        break\n",
    "    \n",
    "    aList.append(user_input)\n",
    "\n",
    "print(\"This is your list: \", aList)\n",
    "\n",
    "del aList[1]\n",
    "\n",
    "print(\"This is your new list: \", aList)"
   ]
  },
  {
   "cell_type": "markdown",
   "metadata": {},
   "source": [
    "# Popcorn Hack #1\n",
    "\n",
    "Create a list (with user input) using objects with different types. Remove the first element from the list and print the list. "
   ]
  },
  {
   "cell_type": "code",
   "execution_count": 3,
   "metadata": {},
   "outputs": [
    {
     "name": "stdout",
     "output_type": "stream",
     "text": [
      "list: ['tanay', 'imaad', 'arnav']\n",
      "first element removed: ['imaad', 'arnav']\n"
     ]
    }
   ],
   "source": [
    "# Code goes here:\n",
    "my_list = []\n",
    "\n",
    "num_elements = int(input(\"number of items in list: \"))\n",
    "\n",
    "for i in range(num_elements):\n",
    "    element = input(f\"enter element {i + 1}: \")\n",
    "    my_list.append(element)\n",
    "\n",
    "print(\"list:\", my_list)\n",
    "\n",
    "if my_list:\n",
    "    my_list.pop(0)\n",
    "    print(\"first element removed:\", my_list)\n",
    "else:\n",
    "    print(\"empty lol\")"
   ]
  },
  {
   "cell_type": "markdown",
   "metadata": {},
   "source": [
    "**Assigning a value:**\n",
    "\n",
    "To assign the values a list named bList to aList of one list to another you simply have to do aList = bList.\n",
    "\n",
    "**Length of a list:**\n",
    "\n",
    "To get the length of a list named aList, you just need to do len(aList). This gives you the number of elements in a list."
   ]
  },
  {
   "cell_type": "code",
   "execution_count": 11,
   "metadata": {},
   "outputs": [
    {
     "name": "stdout",
     "output_type": "stream",
     "text": [
      "Things I want: ['Yeezys', 'Yeezys']\n",
      "How many yeezys: 2\n"
     ]
    }
   ],
   "source": [
    "aList = [\"Yeezys\",\"Yeezys\"]\n",
    "bList = [\"No Yeezys\"]\n",
    "\n",
    "bList = aList\n",
    "list_length = len(bList)\n",
    "\n",
    "print(\"Things I want:\", bList)\n",
    "print(\"How many yeezys:\",list_length)"
   ]
  },
  {
   "cell_type": "markdown",
   "metadata": {},
   "source": [
    "For each item in a list:\n",
    "\n",
    "If you want to do something to each item in a list, you will need to use this. an example of it is shown below."
   ]
  },
  {
   "cell_type": "code",
   "execution_count": 19,
   "metadata": {},
   "outputs": [
    {
     "name": "stdout",
     "output_type": "stream",
     "text": [
      "Original List: [1, 2, 3, 4, 5]\n",
      "Modified List: [2, 3, 4, 5, 6]\n",
      "Length of the list: 5\n"
     ]
    }
   ],
   "source": [
    "my_list = [1, 2, 3, 4, 5]\n",
    "print(\"Original List:\", my_list)\n",
    "\n",
    "for i in range(len(my_list)):\n",
    "    my_list[i] += 1\n",
    "\n",
    "print(\"Modified List:\", my_list)\n",
    "print(\"Length of the list:\", len(my_list))"
   ]
  },
  {
   "cell_type": "markdown",
   "metadata": {},
   "source": [
    "# Popcorn Hack #2\n",
    "\n",
    "Create a new list that modifies the original list by multiplying each element by 2 and prints the length of the list.\n"
   ]
  },
  {
   "cell_type": "code",
   "execution_count": 6,
   "metadata": {},
   "outputs": [
    {
     "name": "stdout",
     "output_type": "stream",
     "text": [
      "modified: [2, 4, 6, 8, 10]\n",
      "length: 5\n"
     ]
    }
   ],
   "source": [
    "my_list = [1, 2, 3, 4, 5]\n",
    "\n",
    "modified_list = [x * 2 for x in my_list]\n",
    "\n",
    "print(\"modified:\", modified_list)\n",
    "\n",
    "print(\"length:\", len(modified_list))\n"
   ]
  },
  {
   "cell_type": "markdown",
   "metadata": {},
   "source": [
    "# Search:"
   ]
  },
  {
   "cell_type": "markdown",
   "metadata": {},
   "source": [
    "A search algorithm is an algorithm that retrieves information stored in a data structure or calculated in the search space of a problem domain, with either discrete or continuous values."
   ]
  },
  {
   "cell_type": "markdown",
   "metadata": {},
   "source": [
    "**Linear Search**\n",
    "\n",
    "The most basic way of searching in which each element is searched in the order it appears in the list. The list doesn't need to be organized.\n",
    "\n",
    "For the code given below, the algorithm compares each value to the previous value, and if the value is smaller than the previous value, that value becomes the new min. The algorithm continues until it reaches the end of the list. "
   ]
  },
  {
   "cell_type": "code",
   "execution_count": null,
   "metadata": {},
   "outputs": [],
   "source": [
    "nums[] ← [86, 75, 98, 100, 71, 65, 84]\n",
    "\n",
    "min ← nums[0] \n",
    "\n",
    "FOR EACH score IN nums[] DO\n",
    "    IF score < min THEN\n",
    "        min ← score\n",
    "    END IF\n",
    "END FOR\n",
    "\n",
    "OUTPUT \"The minimum value in the list is:\", min\n"
   ]
  },
  {
   "cell_type": "code",
   "execution_count": 25,
   "metadata": {},
   "outputs": [
    {
     "name": "stdout",
     "output_type": "stream",
     "text": [
      "[86, 75, 98, 100, 71, 65, 84]\n",
      "The minimum value in the list is: 65\n"
     ]
    }
   ],
   "source": [
    "nums = [86, 75, 98, 100, 71, 65, 84]\n",
    "print(nums)\n",
    "\n",
    "min = nums[0]\n",
    "\n",
    "for score in nums:\n",
    "    if (score < min):\n",
    "        min = score\n",
    "\n",
    "print(\"The minimum value in the list is:\", min)"
   ]
  },
  {
   "cell_type": "markdown",
   "metadata": {},
   "source": [
    "# Popcorn Hack #3\n",
    "\n",
    "Create a linear search algorithm that determines the maximum value in a list."
   ]
  },
  {
   "cell_type": "code",
   "execution_count": 7,
   "metadata": {},
   "outputs": [
    {
     "name": "stdout",
     "output_type": "stream",
     "text": [
      "[86, 75, 98, 100, 71, 65, 84]\n",
      "max is:  100\n"
     ]
    }
   ],
   "source": [
    "nums = [86, 75, 98, 100, 71, 65, 84]\n",
    "print(nums)\n",
    "\n",
    "max = nums[3]\n",
    "\n",
    "for i in nums:\n",
    "    if(i > max):\n",
    "        max = i\n",
    "        \n",
    "print(\"max is: \", max)\n"
   ]
  },
  {
   "cell_type": "markdown",
   "metadata": {},
   "source": [
    "**Binary Search**\n",
    "\n",
    "A binary search, also known as half-interval search, logarithmic search, or binary chop is a search algorithm that finds the position of a target value within a sorted array."
   ]
  },
  {
   "cell_type": "markdown",
   "metadata": {},
   "source": [
    "How does Binary Search work:\n",
    "\n",
    "     - Binary search works on sorted arrays. \n",
    "\n",
    "     - Binary search begins by comparing an element in the middle of the array with the target value. \n",
    "\n",
    "     - If the target value matches the element:\n",
    "\n",
    "         - Its position in the array is returned and exit the program.\n",
    "\n",
    "     - If the target value is less than the element:\n",
    "\n",
    "         - The search continues in the lower half of the array. Go to Step-2\n",
    "\n",
    "     - If the target value is greater than the element, the search continues in the upper half of the \n",
    "     array. Go to Step-2\n",
    "     \n",
    "     - Go back to Step-2\n"
   ]
  },
  {
   "cell_type": "code",
   "execution_count": 27,
   "metadata": {},
   "outputs": [
    {
     "name": "stdout",
     "output_type": "stream",
     "text": [
      "The Element is in index 3\n"
     ]
    }
   ],
   "source": [
    "# Returns index of x in arr if present, else -1\n",
    "def binary_search(arr, low, high, x):\n",
    " \n",
    "    # Check base case\n",
    "    if high >= low:\n",
    " \n",
    "        mid = (high + low) // 2\n",
    " \n",
    "        # If element is present at the middle itself\n",
    "        if arr[mid] == x:\n",
    "            return mid\n",
    " \n",
    "        # If element is smaller than mid, then it can only\n",
    "        # be present in left subarray\n",
    "        elif arr[mid] > x:\n",
    "            return binary_search(arr, low, mid - 1, x)\n",
    " \n",
    "        # Else the element can only be present in right subarray\n",
    "        else:\n",
    "            return binary_search(arr, mid + 1, high, x)\n",
    " \n",
    "    else:\n",
    "        # Element is not present in the array\n",
    "        return -1\n",
    " \n",
    "# Test array\n",
    "arr = [ 2, 3, 4, 10, 40 ]\n",
    "x = 10\n",
    " \n",
    "# Function call\n",
    "result = binary_search(arr, 0, len(arr)-1, x)\n",
    " \n",
    "if result != -1:\n",
    "    print(\"The Element is in index\", str(result))\n",
    "else:\n",
    "    print(\"Element is not present in array\")"
   ]
  },
  {
   "cell_type": "markdown",
   "metadata": {},
   "source": [
    "#"
   ]
  },
  {
   "cell_type": "markdown",
   "metadata": {},
   "source": [
    "# Big O Notation\n",
    "\n",
    "Usually used to denote how much run time an algorithm takes or how much memory is used by an algorithm.\n",
    "\n",
    "In our case we are using it to show how many tries it will take for a search algorithm to find something. "
   ]
  },
  {
   "cell_type": "markdown",
   "metadata": {},
   "source": [
    "Linear Search vs Binary Search big O notation:\n",
    "    \n",
    "     - Linear search complexity is denoted by O(n) as every element in the array is compared only once. \n",
    "    \n",
    "         - In linear search, best-case complexity is O(1) where the element is found at the first index. \n",
    "    \n",
    "         - Worst-case complexity is O(n) where the element is found at the last index or the element is not present in the array.\n",
    "    \n",
    "     - Binary search, best-case complexity is O(1) where the element is found at the middle index. The worst-case complexity is O(log base 2 n)."
   ]
  },
  {
   "cell_type": "markdown",
   "metadata": {},
   "source": [
    "# Homework Hack \n",
    "\n",
    "Create a binary search algorithm that sorts for the value 25."
   ]
  },
  {
   "cell_type": "code",
   "execution_count": 9,
   "metadata": {},
   "outputs": [
    {
     "name": "stdout",
     "output_type": "stream",
     "text": [
      "25 found at number 3 in list\n"
     ]
    }
   ],
   "source": [
    "def binary_search(nums, target):\n",
    "    left, right = 0, len(nums) - 1\n",
    "\n",
    "    while left <= right:\n",
    "        mid = (left + right) // 2\n",
    "\n",
    "        if nums[mid] == target:\n",
    "            return mid\n",
    "        elif nums[mid] < target:\n",
    "            left = mid + 1\n",
    "        else:\n",
    "            right = mid - 1\n",
    "\n",
    "    return -1  \n",
    "\n",
    "nums = [12, 23, 25, 45, 47, 89, 91]\n",
    "target = 25\n",
    "\n",
    "result = binary_search(nums, target)\n",
    "\n",
    "if result != -1:\n",
    "    print(f\"{target} is number {result +1} in the list\")\n",
    "else:\n",
    "    print(f\"{target} not found\")\n"
   ]
  },
  {
   "cell_type": "markdown",
   "metadata": {},
   "source": [
    "<style> \n",
    "@import url('https://fonts.googleapis.com/css2?family=Roboto');\n",
    "h1{ text-align: center; font-size: 50px; color: #0352fc; font-family: 'Roboto', serif;}\n",
    "h2{ text-align: left; font-size: 18px; color: #0352fc;}\n",
    "body{ text-align: left; font-size: 15px; font-family: 'Roboto', serif; background: black; }\n",
    "</style>"
   ]
  }
 ],
 "metadata": {
  "kernelspec": {
   "display_name": "Python 3",
   "language": "python",
   "name": "python3"
  },
  "language_info": {
   "codemirror_mode": {
    "name": "ipython",
    "version": 3
   },
   "file_extension": ".py",
   "mimetype": "text/x-python",
   "name": "python",
   "nbconvert_exporter": "python",
   "pygments_lexer": "ipython3",
   "version": "3.11.4"
  },
  "orig_nbformat": 4
 },
 "nbformat": 4,
 "nbformat_minor": 2
}
