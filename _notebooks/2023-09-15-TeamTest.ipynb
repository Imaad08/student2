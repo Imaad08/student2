{
 "cells": [
  {
   "cell_type": "markdown",
   "metadata": {},
   "source": [
    "---\n",
    "toc: false\n",
    "comments: True\n",
    "layout: post\n",
    "title: Team Test\n",
    "description: Jupyter Notebook for team test.\n",
    "courses: { compsci: {week: 4} }\n",
    "type: hacks\n",
    "---\n",
    "\n",
    "# Team Test\n",
    "> • someone add an intro here\n",
    "\n"
   ]
  },
  {
   "cell_type": "markdown",
   "metadata": {},
   "source": [
    "\n",
    "---\n",
    "\n",
    "## Program with Output:\n",
    "> • Simple print line"
   ]
  },
  {
   "cell_type": "code",
   "execution_count": null,
   "metadata": {},
   "outputs": [],
   "source": [
    "print(\"This is a Jupyter Notebook made for the team test\")"
   ]
  },
  {
   "cell_type": "markdown",
   "metadata": {},
   "source": [
    "\n",
    "---\n",
    "\n",
    "## Program with Input/Output:\n",
    "> • Program to prompt user to input name and generate a greeting"
   ]
  },
  {
   "cell_type": "code",
   "execution_count": null,
   "metadata": {},
   "outputs": [],
   "source": [
    "user_name = input(\"Please enter your name: \")\n",
    "\n",
    "print(f\"Hello, {user_name}! Welcome to our notebook.\")\n"
   ]
  },
  {
   "cell_type": "markdown",
   "metadata": {},
   "source": [
    "\n",
    "---\n",
    "\n",
    "## Program with list:\n",
    "> • Simple function to display a shopping list with bullets"
   ]
  },
  {
   "cell_type": "code",
   "execution_count": null,
   "metadata": {},
   "outputs": [],
   "source": [
    "shopping_list = [\"Milk\", \"Bread\", \"Onions\", \"Oil\"]\n",
    "print(\"Shopping List:\")\n",
    "for item in shopping_list:\n",
    "    print(\"• \" + item)"
   ]
  },
  {
   "cell_type": "markdown",
   "metadata": {},
   "source": [
    "\n",
    "---\n",
    "\n",
    "## Program with a dictionary:\n",
    "> • Dictionary to display different aspects of a book\n"
   ]
  },
  {
   "cell_type": "code",
   "execution_count": null,
   "metadata": {},
   "outputs": [],
   "source": [
    "book = {\"name\": \"Harry Potter\", \"author\": \"J. K. Rowling\", \"description\": \"Harry Potter is a young wizard destined for greatness in the magical world.\"} \n",
    "print(\"Name:\", book[\"name\"])\n",
    "print(\"Author:\", book[\"author\"])\n",
    "print(\"Description:\", book[\"description\"])"
   ]
  },
  {
   "cell_type": "markdown",
   "metadata": {},
   "source": [
    "\n",
    "---\n",
    "\n",
    "## Program with iteration\n",
    "> • Simple loop that prints numbers in a loop to generate a pyramid shape out of numbers"
   ]
  },
  {
   "cell_type": "code",
   "execution_count": null,
   "metadata": {},
   "outputs": [],
   "source": [
    "rows = 5\n",
    "for i in range(1, rows + 1):\n",
    "    print(\" \" * (rows - i) + \" \".join(str(j) for j in range(1, i * 2)))\n"
   ]
  },
  {
   "cell_type": "markdown",
   "metadata": {},
   "source": [
    "\n",
    "---\n",
    "\n",
    "## Program with a function\n",
    "> • Simple addition function"
   ]
  },
  {
   "cell_type": "code",
   "execution_count": null,
   "metadata": {},
   "outputs": [],
   "source": [
    "def calculate_sum(a, b):\n",
    "    return a + b\n",
    "\n",
    "print(\"Pick two numbers to be added together\")\n",
    "a = int(input(\"Pick number one: \"))\n",
    "b = int(input(\"Pick number two: \"))\n",
    "\n",
    "result = calculate_sum(a, b)\n",
    "print(\"Number one:\", a)\n",
    "print(\"Number two:\", b)\n",
    "print(\"Sum:\", result)\n"
   ]
  },
  {
   "cell_type": "markdown",
   "metadata": {},
   "source": [
    "\n",
    "---\n",
    "\n",
    "## Program with a Selection/Condition\n",
    "> • Program that takes user input on weather and displays what you should do using the if, elif, and else functions"
   ]
  },
  {
   "cell_type": "code",
   "execution_count": null,
   "metadata": {},
   "outputs": [],
   "source": [
    "print(\"Enter the weather type right now for advice\")\n",
    "weather = input(\"Enter the weather (sunny, rainy): \").lower()\n",
    "\n",
    "\n",
    "if weather == \"sunny\":\n",
    "    print(\"If the weather is sunny, enjoy the sun and use sunscreen\")\n",
    "elif weather == \"rainy\":\n",
    "    print(\"If the weather is rainy, try to stay inside but if not, use an umbrella and wear a poncho\")\n",
    "else:\n",
    "    print(\"Sorry, \", weather, \"was not one of the options. Please try again\")\n"
   ]
  },
  {
   "cell_type": "markdown",
   "metadata": {},
   "source": [
    "\n",
    "---\n",
    "\n",
    "## Program with purpose:\n",
    "> • talk about this later? a little confusing"
   ]
  },
  {
   "cell_type": "code",
   "execution_count": null,
   "metadata": {},
   "outputs": [],
   "source": [
    "print(\"work in progress\")"
   ]
  },
  {
   "cell_type": "markdown",
   "metadata": {},
   "source": [
    "\n",
    "---\n",
    "\n",
    "## Tester function\n"
   ]
  },
  {
   "cell_type": "markdown",
   "metadata": {},
   "source": [
    "First import that math module to take square roots"
   ]
  },
  {
   "cell_type": "code",
   "execution_count": null,
   "metadata": {},
   "outputs": [],
   "source": [
    "import math"
   ]
  },
  {
   "cell_type": "markdown",
   "metadata": {},
   "source": [
    "Create a function that takes a square root of a number. However, there is an error where the code doesn't know what to do if the number is negative as square roots of negative numbers are not real and it can cause issues."
   ]
  },
  {
   "cell_type": "code",
   "execution_count": null,
   "metadata": {},
   "outputs": [],
   "source": [
    "def calculate_square_root(num):\n",
    "    return math.sqrt(num)"
   ]
  },
  {
   "cell_type": "markdown",
   "metadata": {},
   "source": [
    "Start debugging the function with try, except, if, and else. Then give the function two numbers. One negative and one positive. The negative will print an error but the positive will print a real number"
   ]
  },
  {
   "cell_type": "code",
   "execution_count": null,
   "metadata": {},
   "outputs": [],
   "source": [
    "def test_calculate_square_root(num):\n",
    "    try:\n",
    "        if num < 0:\n",
    "            raise ValueError(\"Cannot calculate square root for a negative number\")\n",
    "        else:\n",
    "            print(f\"The square root of {num} is: {math.sqrt(num)}\")\n",
    "    except ValueError as e:\n",
    "        print(f\"Error: {e}\")\n",
    "\n",
    "\n",
    "# Test and debug function\n",
    "test_calculate_square_root(-9)  \n",
    "test_calculate_square_root(25)   "
   ]
  },
  {
   "cell_type": "markdown",
   "metadata": {},
   "source": [
    "Correct the function to explain the error"
   ]
  },
  {
   "cell_type": "code",
   "execution_count": null,
   "metadata": {},
   "outputs": [],
   "source": [
    "def calculate_square_root(num):\n",
    "    try:\n",
    "        if num < 0:\n",
    "            raise ValueError(f\"Cannot calculate square root for {num} as it is a negative number.\")\n",
    "        else:\n",
    "            print(f\"The square root of {num} is: {math.sqrt(num)}\")\n",
    "    except ValueError as e:\n",
    "        print(f\"{e}\")\n",
    "        return None\n",
    "\n",
    "# Test the final function\n",
    "calculate_square_root(-9)  \n",
    "calculate_square_root(25) "
   ]
  }
 ],
 "metadata": {
  "kernelspec": {
   "display_name": "Python 3",
   "language": "python",
   "name": "python3"
  },
  "language_info": {
   "codemirror_mode": {
    "name": "ipython",
    "version": 3
   },
   "file_extension": ".py",
   "mimetype": "text/x-python",
   "name": "python",
   "nbconvert_exporter": "python",
   "pygments_lexer": "ipython3",
   "version": "3.10.12"
  },
  "orig_nbformat": 4
 },
 "nbformat": 4,
 "nbformat_minor": 2
}
