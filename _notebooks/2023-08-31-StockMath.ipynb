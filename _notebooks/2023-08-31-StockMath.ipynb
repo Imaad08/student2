{
 "cells": [
  {
   "cell_type": "markdown",
   "metadata": {},
   "source": [
    "---\n",
    "toc: true\n",
    "comments: false\n",
    "layout: post\n",
    "title: Stock Protfolio Simulation\n",
    "description: Python Invesment Portfolio Simulator\n",
    "courses: { compsci: {week: 2} }\n",
    "type: hacks\n",
    "---"
   ]
  },
  {
   "cell_type": "markdown",
   "metadata": {},
   "source": [
    "This blog takes 8 stocks and simulates how well a portfolio would do if invested. It also tells what the best weighting for each stock would be the most optimal. It gives important information such as risk, volatility, profit, Sharpe Ratio, etc. \n",
    "\n",
    "8 stocks have been chosen at random which are Intel (INTC), Ford Motor Company (F), Walt Disney Co (DIS), Tesla (TSLA), Amazon (AMZN), Bank of America (BAC), Sony (SONY), and Meta (META)"
   ]
  },
  {
   "cell_type": "code",
   "execution_count": 1,
   "metadata": {},
   "outputs": [
    {
     "ename": "ModuleNotFoundError",
     "evalue": "No module named 'numpy'",
     "output_type": "error",
     "traceback": [
      "\u001b[0;31m---------------------------------------------------------------------------\u001b[0m",
      "\u001b[0;31mModuleNotFoundError\u001b[0m                       Traceback (most recent call last)",
      "Cell \u001b[0;32mIn[1], line 3\u001b[0m\n\u001b[1;32m      1\u001b[0m \u001b[39m# Reading in the stocks of each stock and then creating a central data frame of each. \u001b[39;00m\n\u001b[0;32m----> 3\u001b[0m \u001b[39mimport\u001b[39;00m \u001b[39mnumpy\u001b[39;00m \u001b[39mas\u001b[39;00m \u001b[39mnp\u001b[39;00m\n\u001b[1;32m      4\u001b[0m \u001b[39mimport\u001b[39;00m \u001b[39mpandas\u001b[39;00m \u001b[39mas\u001b[39;00m \u001b[39mpd\u001b[39;00m\n\u001b[1;32m      5\u001b[0m \u001b[39mimport\u001b[39;00m \u001b[39mpandas_datareader\u001b[39;00m\u001b[39m.\u001b[39;00m\u001b[39mdata\u001b[39;00m \u001b[39mas\u001b[39;00m \u001b[39mweb\u001b[39;00m\n",
      "\u001b[0;31mModuleNotFoundError\u001b[0m: No module named 'numpy'"
     ]
    }
   ],
   "source": [
    "# Reading in the stocks of each stock and then creating a central data frame of each. \n",
    "\n",
    "import numpy as np\n",
    "import pandas as pd\n",
    "import pandas_datareader.data as web\n",
    "# Get stock data  \n",
    "all_data = {ticker: web.DataReader(ticker,'stooq')\n",
    "           for ticker in ['INTC', 'F', 'DIS', 'TSLA', 'AMZN', 'BAC', 'SONY', 'META']}\n",
    "# Extract the 'Adjusted Closing Price'\n",
    "price = pd.DataFrame({ticker: data['Close']\n",
    "                     for ticker, data in all_data.items() })\n",
    "\n",
    "price"
   ]
  },
  {
   "cell_type": "markdown",
   "metadata": {},
   "source": [
    "The standard deviation is how investors measure volatility and risk. STD measures the average distance from the mean, so the higher the STD the less concise the data is. In the finance world, if the STD is higher, that means that the price of the stock can be more unpredictable. This equates to risk. The lower the STD the better, and vice versa. "
   ]
  },
  {
   "cell_type": "code",
   "execution_count": 3,
   "metadata": {},
   "outputs": [
    {
     "data": {
      "text/plain": [
       "INTC      9.261005\n",
       "F         3.719340\n",
       "DELL     11.215586\n",
       "TSLA    112.395614\n",
       "AMZN     32.606867\n",
       "BAC       6.758436\n",
       "SONY     21.724307\n",
       "LYFT     17.977489\n",
       "dtype: float64"
      ]
     },
     "execution_count": 3,
     "metadata": {},
     "output_type": "execute_result"
    }
   ],
   "source": [
    "# finding standard deviation\n",
    "price.std()"
   ]
  },
  {
   "cell_type": "markdown",
   "metadata": {},
   "source": [
    "The correlation between each of the stocks shows how well the portfolio will do. The correlation in math shows the relationship and the proportion between two variables. In finance the correlation dictates how two stocks will react in relationship. In layman terms it shows if one stock will go up what will another stock do. Correlation ranges from -1 to 1, where -1 is the most optimal. "
   ]
  },
  {
   "cell_type": "code",
   "execution_count": 4,
   "metadata": {},
   "outputs": [
    {
     "data": {
      "text/html": [
       "<div>\n",
       "<style scoped>\n",
       "    .dataframe tbody tr th:only-of-type {\n",
       "        vertical-align: middle;\n",
       "    }\n",
       "\n",
       "    .dataframe tbody tr th {\n",
       "        vertical-align: top;\n",
       "    }\n",
       "\n",
       "    .dataframe thead th {\n",
       "        text-align: right;\n",
       "    }\n",
       "</style>\n",
       "<table border=\"1\" class=\"dataframe\">\n",
       "  <thead>\n",
       "    <tr style=\"text-align: right;\">\n",
       "      <th></th>\n",
       "      <th>INTC</th>\n",
       "      <th>F</th>\n",
       "      <th>DELL</th>\n",
       "      <th>TSLA</th>\n",
       "      <th>AMZN</th>\n",
       "      <th>BAC</th>\n",
       "      <th>SONY</th>\n",
       "      <th>LYFT</th>\n",
       "    </tr>\n",
       "  </thead>\n",
       "  <tbody>\n",
       "    <tr>\n",
       "      <th>INTC</th>\n",
       "      <td>1.000000</td>\n",
       "      <td>-0.206477</td>\n",
       "      <td>-0.196873</td>\n",
       "      <td>-0.136137</td>\n",
       "      <td>0.375671</td>\n",
       "      <td>0.087358</td>\n",
       "      <td>0.103368</td>\n",
       "      <td>0.763920</td>\n",
       "    </tr>\n",
       "    <tr>\n",
       "      <th>F</th>\n",
       "      <td>-0.206477</td>\n",
       "      <td>1.000000</td>\n",
       "      <td>0.876058</td>\n",
       "      <td>0.827536</td>\n",
       "      <td>0.448809</td>\n",
       "      <td>0.880314</td>\n",
       "      <td>0.749404</td>\n",
       "      <td>-0.082744</td>\n",
       "    </tr>\n",
       "    <tr>\n",
       "      <th>DELL</th>\n",
       "      <td>-0.196873</td>\n",
       "      <td>0.876058</td>\n",
       "      <td>1.000000</td>\n",
       "      <td>0.876392</td>\n",
       "      <td>0.596801</td>\n",
       "      <td>0.794300</td>\n",
       "      <td>0.831929</td>\n",
       "      <td>-0.133084</td>\n",
       "    </tr>\n",
       "    <tr>\n",
       "      <th>TSLA</th>\n",
       "      <td>-0.136137</td>\n",
       "      <td>0.827536</td>\n",
       "      <td>0.876392</td>\n",
       "      <td>1.000000</td>\n",
       "      <td>0.724181</td>\n",
       "      <td>0.745392</td>\n",
       "      <td>0.887772</td>\n",
       "      <td>-0.213905</td>\n",
       "    </tr>\n",
       "    <tr>\n",
       "      <th>AMZN</th>\n",
       "      <td>0.375671</td>\n",
       "      <td>0.448809</td>\n",
       "      <td>0.596801</td>\n",
       "      <td>0.724181</td>\n",
       "      <td>1.000000</td>\n",
       "      <td>0.523433</td>\n",
       "      <td>0.806234</td>\n",
       "      <td>0.271340</td>\n",
       "    </tr>\n",
       "    <tr>\n",
       "      <th>BAC</th>\n",
       "      <td>0.087358</td>\n",
       "      <td>0.880314</td>\n",
       "      <td>0.794300</td>\n",
       "      <td>0.745392</td>\n",
       "      <td>0.523433</td>\n",
       "      <td>1.000000</td>\n",
       "      <td>0.763487</td>\n",
       "      <td>0.189696</td>\n",
       "    </tr>\n",
       "    <tr>\n",
       "      <th>SONY</th>\n",
       "      <td>0.103368</td>\n",
       "      <td>0.749404</td>\n",
       "      <td>0.831929</td>\n",
       "      <td>0.887772</td>\n",
       "      <td>0.806234</td>\n",
       "      <td>0.763487</td>\n",
       "      <td>1.000000</td>\n",
       "      <td>0.012364</td>\n",
       "    </tr>\n",
       "    <tr>\n",
       "      <th>LYFT</th>\n",
       "      <td>0.763920</td>\n",
       "      <td>-0.082744</td>\n",
       "      <td>-0.133084</td>\n",
       "      <td>-0.213905</td>\n",
       "      <td>0.271340</td>\n",
       "      <td>0.189696</td>\n",
       "      <td>0.012364</td>\n",
       "      <td>1.000000</td>\n",
       "    </tr>\n",
       "  </tbody>\n",
       "</table>\n",
       "</div>"
      ],
      "text/plain": [
       "          INTC         F      DELL      TSLA      AMZN       BAC      SONY  \\\n",
       "INTC  1.000000 -0.206477 -0.196873 -0.136137  0.375671  0.087358  0.103368   \n",
       "F    -0.206477  1.000000  0.876058  0.827536  0.448809  0.880314  0.749404   \n",
       "DELL -0.196873  0.876058  1.000000  0.876392  0.596801  0.794300  0.831929   \n",
       "TSLA -0.136137  0.827536  0.876392  1.000000  0.724181  0.745392  0.887772   \n",
       "AMZN  0.375671  0.448809  0.596801  0.724181  1.000000  0.523433  0.806234   \n",
       "BAC   0.087358  0.880314  0.794300  0.745392  0.523433  1.000000  0.763487   \n",
       "SONY  0.103368  0.749404  0.831929  0.887772  0.806234  0.763487  1.000000   \n",
       "LYFT  0.763920 -0.082744 -0.133084 -0.213905  0.271340  0.189696  0.012364   \n",
       "\n",
       "          LYFT  \n",
       "INTC  0.763920  \n",
       "F    -0.082744  \n",
       "DELL -0.133084  \n",
       "TSLA -0.213905  \n",
       "AMZN  0.271340  \n",
       "BAC   0.189696  \n",
       "SONY  0.012364  \n",
       "LYFT  1.000000  "
      ]
     },
     "execution_count": 4,
     "metadata": {},
     "output_type": "execute_result"
    }
   ],
   "source": [
    "# finding correlation of stocks\n",
    "price.corr()"
   ]
  },
  {
   "cell_type": "markdown",
   "metadata": {},
   "source": [
    "By finding the correlation of the entire portfolio, it will show how well it will do. The closer to -1 the better. "
   ]
  },
  {
   "cell_type": "code",
   "execution_count": 5,
   "metadata": {},
   "outputs": [
    {
     "name": "stderr",
     "output_type": "stream",
     "text": [
      "/tmp/ipykernel_245673/2458078143.py:10: FutureWarning: Series.__getitem__ treating keys as positions is deprecated. In a future version, integer keys will always be treated as labels (consistent with DataFrame behavior). To access a value by position, use `ser.iloc[pos]`\n",
      "  column_sum += averageCorrMean[i]\n"
     ]
    },
    {
     "data": {
      "text/plain": [
       "0.5052043991861102"
      ]
     },
     "execution_count": 5,
     "metadata": {},
     "output_type": "execute_result"
    }
   ],
   "source": [
    "# Finding average correlation to show profability of portfolio\n",
    "averageCorr = price.corr()\n",
    "averageCorrMean = averageCorr.mean()\n",
    "averageCorrMean\n",
    "\n",
    "column_sum = 0\n",
    "\n",
    "# For loop to find the mean of the entire data table\n",
    "for i in range(len(averageCorrMean)):\n",
    "    column_sum += averageCorrMean[i]\n",
    "column_sum = column_sum/len(averageCorrMean)\n",
    "column_sum"
   ]
  },
  {
   "cell_type": "markdown",
   "metadata": {},
   "source": [
    "This is where the math and the real fun begins. This next code finds the optimal weights of each stock. It does this by running through 6000 differnt scenarios each with different weighting. It finds the weights by finding the retention factor and the volatility of each stock and then compare it to each of the other 7 stocks. Then once it has done that it'll compare it to average yearly stock prices where it will then compare all 6000 scenarios and output the most optimal. "
   ]
  },
  {
   "cell_type": "code",
   "execution_count": 11,
   "metadata": {},
   "outputs": [],
   "source": [
    "# finding weights, return, volitilty, and sharpe ratio. \n",
    "\n",
    "stocks = pd.concat([price['INTC'], price['F'], price['DIS'], price['TSLA'], price['AMZN'], price['BAC'], price['SONY'], price['META']], axis = 1)\n",
    "log_ret = np.log(stocks/stocks.shift(1))\n",
    "\n",
    "# setting up variables\n",
    "np.random.seed(42)\n",
    "num_ports = 6000\n",
    "num_stocks = 8\n",
    "all_weights = np.zeros((num_ports, len(stocks.columns)))\n",
    "ret_arr = np.zeros(num_ports)\n",
    "vol_arr = np.zeros(num_ports)\n",
    "sharpe_arr = np.zeros(num_ports)\n",
    "\n",
    "# going through all possible weights\n",
    "for x in range(num_ports):\n",
    "    # Weights\n",
    "    weights = np.array(np.random.random(num_stocks))\n",
    "    weights = weights/np.sum(weights)\n",
    "    \n",
    "    # Save weights\n",
    "    all_weights[x,:] = weights\n",
    "    \n",
    "    # Expected return\n",
    "    ret_arr[x] = np.sum( (log_ret.mean() * weights * 252))\n",
    "    \n",
    "    # Expected volatility\n",
    "    vol_arr[x] = np.sqrt(np.dot(weights.T, np.dot(log_ret.cov()*252, weights)))\n",
    "    \n",
    "    # Sharpe Ratio\n",
    "    sharpe_arr[x] = ret_arr[x]/vol_arr[x]"
   ]
  },
  {
   "cell_type": "markdown",
   "metadata": {},
   "source": [
    "The Sharpe Ratio is how investors determine the profability of a portfolio in a single number that can be compared to other portfolios. In finance, the Sharpe ratio measures the performance of an investment such as a security or portfolio compared to a risk-free asset, after adjusting for its risk. "
   ]
  },
  {
   "cell_type": "code",
   "execution_count": 12,
   "metadata": {},
   "outputs": [
    {
     "name": "stdout",
     "output_type": "stream",
     "text": [
      "Max Sharpe Ratio =  0.005266972961310643\n"
     ]
    }
   ],
   "source": [
    "# printing the max sharpe ratio\n",
    "print(\"Max Sharpe Ratio = \",sharpe_arr.max())\n",
    "sharpe_arr.argmax()\n",
    "max_sr_ret =  ret_arr[sharpe_arr.argmax()]\n",
    "max_sr_vol =  vol_arr[sharpe_arr.argmax()]"
   ]
  }
 ],
 "metadata": {
  "kernelspec": {
   "display_name": "Python 3 (ipykernel)",
   "language": "python",
   "name": "python3"
  },
  "language_info": {
   "codemirror_mode": {
    "name": "ipython",
    "version": 3
   },
   "file_extension": ".py",
   "mimetype": "text/x-python",
   "name": "python",
   "nbconvert_exporter": "python",
   "pygments_lexer": "ipython3",
   "version": "3.11.4"
  },
  "orig_nbformat": 4
 },
 "nbformat": 4,
 "nbformat_minor": 2
}
