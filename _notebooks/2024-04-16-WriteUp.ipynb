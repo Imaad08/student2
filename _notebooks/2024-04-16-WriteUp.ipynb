{
 "cells": [
  {
   "cell_type": "markdown",
   "metadata": {},
   "source": [
    "---\n",
    "comments: true\n",
    "layout: post\n",
    "title: Data Structure Write Up\n",
    "type: hacks\n",
    "courses: { compsci: {week: 26} }\n",
    "---"
   ]
  },
  {
   "cell_type": "markdown",
   "metadata": {},
   "source": [
    "# Collections\n",
    "\n",
    "- Blog Python API code and use of List and Dictionaries.\n",
    "\n",
    "- This is code that initializes our own database to store the images"
   ]
  },
  {
   "cell_type": "code",
   "execution_count": null,
   "metadata": {},
   "outputs": [],
   "source": [
    "\n",
    "def initializeDatabase():\n",
    "    global engine, Session, session\n",
    "\n",
    "    engine = create_engine('sqlite:///database2.db')\n",
    "    Session = sessionmaker(bind=engine)\n",
    "    session = Session()\n",
    "\n",
    "    Base.metadata.create_all(engine)\n",
    "\n",
    "def clearDatabase():\n",
    "    initializeDatabase()\n",
    "    session.query(Images).delete()\n",
    "    session.commit()\n",
    "    session.close()\n",
    "\n",
    "class Images(Base):\n",
    "    __tablename__ = 'images'\n",
    "    imageName = Column(String, primary_key=True, nullable=False, unique=False)  # Added nullable=False for primary key\n",
    "    imageFunc = Column(String, nullable=False, unique=False)  # Added nullable=False for non-nullable columns\n",
    "    imageBase64 = Column(String, nullable=False, unique=False)\n",
    "\n",
    "def createImage(name, func, image):\n",
    "    initializeDatabase()\n",
    "    newImage = Images(imageName=name, imageFunc=func, imageBase64=image)\n",
    "    session.add(newImage)\n",
    "    session.commit()\n"
   ]
  },
  {
   "cell_type": "markdown",
   "metadata": {},
   "source": [
    "- From VSCode using SQLite3 Editor, show your unique collection/table in database, display rows and columns in the table of the SQLite database.\n",
    "    - This is the data table of stored memes based on if the creator selected the store option\n",
    "![Image1](image-9.png)\n",
    "\n",
    "- From VSCode model, show your unique code that was created to initialize table and create test data.\n",
    "    -   Uses two normal and 1 admin account as instructed"
   ]
  },
  {
   "cell_type": "code",
   "execution_count": null,
   "metadata": {},
   "outputs": [],
   "source": [
    "def initUsers():\n",
    "    with app.app_context():\n",
    "        \"\"\"Create database and tables\"\"\"\n",
    "        db.create_all()\n",
    "        \"\"\"Tester data for table\"\"\"\n",
    "        u1 = User(name='Thomas Edison', uid='toby', password='123toby', type=\"standard\")\n",
    "        u2 = User(name='Imaad Muzaffer', uid='imaad', password='123imaad', type=\"standard\")\n",
    "        u3 = User(name='Admin Account', uid='admin', type=\"admin\")\n",
    "        users = [u1, u2, u3]\n",
    "\n",
    "        \"\"\"Builds sample user/note(s) data\"\"\"\n",
    "        for user in users:\n",
    "            try:\n",
    "                '''add a few 1 to 4 notes per user'''\n",
    "                '''add user/post data to table'''\n",
    "                user.create()\n",
    "            except IntegrityError:\n",
    "                '''fails with bad or duplicate data'''\n",
    "                db.session.remove()\n",
    "                print(f\"Records exist, duplicate email, or error: {user.uid}\")"
   ]
  },
  {
   "cell_type": "markdown",
   "metadata": {},
   "source": [
    "- In VSCode using Debugger, show a list as extracted from database as Python objects.\n",
    "    - This shows the user data object being extracted in the debugger after a postman request\n",
    "![Image1](image-10.png)\n",
    "\n",
    "- In VSCode use Debugger and list, show two distinct example examples of dictionaries, show Keys/Values using debugger.\n",
    "    - The data for the user is shown under here where the purple text is the key and the value is next to it\n",
    "    - When a user is created, it shows the data under the user with the purple text being the key and the value is next to it\n",
    "    ![Image1](image-10.png)\n",
    "\n",
    "# APIS and JSON\n",
    "\n",
    "Blog Python API code and use of Postman to request and respond with JSON.\n",
    "\n",
    "- In VSCode, show Python API code definition for request and response using GET, POST, UPDATE methods. Discuss algorithmic condition used to direct request to appropriate Python method based on request method.\n",
    "    - The API has many CRUD definitions for GET POST and UPDATE responses for modifiying objects\n",
    "    - A resource needs to be defined in order to create enpoints\n",
    "    - This code is defining the end point for the user api that allows for GET POST and PUT responses\n",
    "    "
   ]
  },
  {
   "cell_type": "code",
   "execution_count": null,
   "metadata": {},
   "outputs": [],
   "source": [
    "    # building RESTapi endpoint\n",
    "    api.add_resource(_CRUD, '/')\n",
    "    api.add_resource(_Security, '/authenticate')"
   ]
  },
  {
   "cell_type": "markdown",
   "metadata": {},
   "source": [
    "- In VSCode, show algorithmic conditions used to validate data on a POST condition.\n",
    "    - Algorithmic requirements guarantee the validity of input data. The condition integrated into the user code validates the password's security by cheking its minimum length and confirming the presence of both a name and a password.\n",
    "    "
   ]
  },
  {
   "cell_type": "code",
   "execution_count": null,
   "metadata": {},
   "outputs": [],
   "source": [
    "            # validate name\n",
    "            name = body.get('name')\n",
    "            if name is None or len(name) < 2:\n",
    "                return {'message': f'Name is missing, or is less than 2 characters'}, 400\n",
    "            # validate uid\n",
    "            uid = body.get('uid')\n",
    "            if uid is None or len(uid) < 2:\n",
    "                return {'message': f'User ID is missing, or is less than 2 characters'}, 400"
   ]
  },
  {
   "cell_type": "markdown",
   "metadata": {},
   "source": [
    "- In Postman, show URL request and Body requirements for GET, POST, and UPDATE methods.\n",
    "- In Postman, show the JSON response data for 200 success conditions on GET, POST, and UPDATE methods.\n",
    "![Image1](image-11.png)\n",
    "![Image1](image-12.png)\n",
    "![Image1](image-14.png)\n",
    "\n",
    "- In Postman, show the JSON response for error for 400 when missing body on a POST request.\n",
    "    - When the body is missing, there is no JSON data to send which is the point of a POST\n",
    "![Image1](image-13.png)\n",
    "\n",
    "- In Postman, show the JSON response for error for 404 when providing an unknown user ID to a UPDATE request.\n",
    "    - This is a 400 error due to the user not being found\n",
    "![Image1](image-15.png)\n",
    "\n",
    "- This code decodes the JWT and extracts user ID\n",
    "- An application for this is the elimincation of using uid\n",
    "\n"
   ]
  },
  {
   "cell_type": "code",
   "execution_count": null,
   "metadata": {},
   "outputs": [],
   "source": [
    "user = jwt.decode(token, current_app.config[\"SECRET_KEY\"], algorithms=[\"HS256\"])['_uid']"
   ]
  },
  {
   "cell_type": "markdown",
   "metadata": {},
   "source": [
    "# Frontend\n",
    "\n",
    "- In Chrome inspect, show response of JSON objects from fetch of GET, POST, and UPDATE methods.\n",
    "    - This POST request sends the body of data for the login to the backend in JSON format\n",
    "![image.png](image-16.png)\n",
    "\n",
    "- In the Chrome browser, show a demo (GET) of obtaining an Array of JSON objects that are formatted into the browsers screen.\n",
    "    - This formats the base64 data for all the images in the database into a gallery table that lets users download the images\n",
    "![image.png](image-17.png)\n",
    "\n",
    "- In JavaScript code, describe fetch and method that obtained the Array of JSON objects.\n",
    "    - The apiUrl constant holds the URL of the API endpoint\n",
    "    - The images variable is an array that will later hold the fetched data\n",
    "    - The fetchDatabase function is where the actual fetching of data happens. \n",
    "    - It uses the Fetch API to make a network request to the API endpoint specified in apiUrl\n",
    "    - The fetch function returns a Promise that resolves to the Response object representing the response to the request. This response object is then converted to JSON using the json method\n",
    "    - The then method is used to specify what should happen once the Promise is resolved. In this case, it's another Promise that checks the status of the response"
   ]
  },
  {
   "cell_type": "code",
   "execution_count": null,
   "metadata": {
    "vscode": {
     "languageId": "javascript"
    }
   },
   "outputs": [],
   "source": [
    "const apiUrl = \"https://memeforge.stu.nighthawkcodingsociety.com/api/memeforge/get_database\";\n",
    "        let images = [];\n",
    "        function fetchDatabase() {\n",
    "            fetch(apiUrl)\n",
    "                .then(response => response.json())\n",
    "                .then(response => {\n",
    "                    if (response.status === 401) {\n",
    "                        window.location.href = '{{site.baseurl}}/login';\n",
    "                        return;\n",
    "                    }\n",
    "                    if (response.status === 403) {\n",
    "                        window.location.href = '{{site.baseurl}}/403';\n",
    "                        return;\n",
    "                    }\n",
    "                    images = JSON.parse(response).reverse();\n",
    "                    displayImages(images);\n",
    "                });\n",
    "        }"
   ]
  },
  {
   "cell_type": "markdown",
   "metadata": {},
   "source": [
    "- In JavaScript code, show code that performs iteration and formatting of data into HTML.\n",
    "    - The function first selects the gallery element on the webpage using document.querySelector('.gallery')\n",
    "    - Rhe function iterates over the images array using forEach. For each image object, it creates a new div element to serve as a container for the gallery item (galleryItemContainer)\n",
    "    - It also creates another div for the gallery item itself (galleryItem), an img element for the image, and a button for downloading the image.\n",
    "    - The src attribute of the img element is set to the base64 encoded string of the image data, and the alt attribute is set to the name of the image. "
   ]
  },
  {
   "cell_type": "code",
   "execution_count": null,
   "metadata": {
    "vscode": {
     "languageId": "javascript"
    }
   },
   "outputs": [],
   "source": [
    "function displayImages(images) {\n",
    "    const gallery = document.querySelector('.gallery');\n",
    "    gallery.innerHTML = '';\n",
    "    images.forEach((image, index) => {\n",
    "        const galleryItemContainer = document.createElement('div');\n",
    "        galleryItemContainer.className = 'gallery-item-container';\n",
    "        const galleryItem = document.createElement('div');\n",
    "        galleryItem.className = 'gallery-item';\n",
    "        const img = document.createElement('img');\n",
    "        img.src = 'data:image/jpeg;base64,' + image.image;\n",
    "        img.alt = image.name;\n",
    "        img.addEventListener('click', () => {\n",
    "            openModal(image.image);\n",
    "        });\n",
    "        const button = document.createElement('button');\n",
    "        button.textContent = 'Download';\n",
    "        button.addEventListener('click', () => {\n",
    "            downloadImage(image.image, image.name);\n",
    "        });\n",
    "        galleryItem.appendChild(img);\n",
    "        galleryItem.appendChild(button);\n",
    "        galleryItemContainer.appendChild(galleryItem);\n",
    "        gallery.appendChild(galleryItemContainer);\n",
    "    });\n",
    "}"
   ]
  },
  {
   "cell_type": "markdown",
   "metadata": {},
   "source": [
    "- In the Chrome browser, show a demo (POST or UPDATE) gathering and sending input and receiving a response that show update. Repeat this demo showing both success and failure.\n",
    "    - This turns the image into base64 data where it is sent to the backend with the top and bottom text\n",
    "    - The backend used PIL to add the text onto the image and turn it back into base64\n",
    "    - The updated image is sent over to the frontend where it is then displayed\n",
    "    ![image.png](image-18.png)\n",
    "\n",
    "- In JavaScript code, show and describe code that handles success. Describe how code shows success to the user in the Chrome Browser screen.\n",
    "    - In the case that the backend successfully adds the text to the image, the frontend will display a success message and the image will be displayed\n",
    "    - The user will additionally be able to download the image on to their local machine\n",
    "\n",
    "- In JavaScript code, show and describe code that handles failure. Describe how the code shows failure to the user in the Chrome Browser screen. (same code)\n",
    "    - If something goes wrong with the api, the user is alerted with what the error is and possiblt what is causing it\n",
    "    - This is helpful for checking if the backend is working or not vs if the image file is in the database already"
   ]
  },
  {
   "cell_type": "code",
   "execution_count": null,
   "metadata": {
    "vscode": {
     "languageId": "javascript"
    }
   },
   "outputs": [],
   "source": [
    "fetch(url, image_options)\n",
    "                    .then(response => {\n",
    "                        if (response.status !== 200) {\n",
    "                            error('Api error: ' + response.status);\n",
    "                            return;\n",
    "                        }\n",
    "                        response.json().then(data => {\n",
    "                            const memeImage = new Image();\n",
    "                            memeImage.src = 'data:image/' + fileExtension + ';base64,' + data['base64image'];\n",
    "    \n",
    "                            memeImage.style.maxHeight = '100%';\n",
    "    \n",
    "                            uploadedImage.src = memeImage.src;\n",
    "                            uploadedImage.style.display = 'block';\n",
    "    \n",
    "                            memeImage.onload = function () {\n",
    "                                const parent = document.querySelector('.bottom-half');\n",
    "                                const ratio = parent.clientWidth / memeImage.width;\n",
    "    \n",
    "                                if (ratio < 1) {\n",
    "                                    const maxHeight = ratio * memeImage.height;\n",
    "                                    parent.style.height = (maxHeight + 175) + 'px';\n",
    "                                } else {\n",
    "                                    parent.style.height = (memeImage.height + 175) + 'px';\n",
    "                                }\n",
    "                            };\n",
    "                        });\n",
    "                    });\n",
    "    function handleDownloadClick() {\n",
    "        const uploadedImage = document.getElementById('uploadedImage');\n",
    "        const memeImage = new Image();\n",
    "        memeImage.src = uploadedImage.src;\n",
    "\n",
    "        if (uploadedImage.width == 0) {\n",
    "            alert('Please upload an image before trying to download');\n",
    "            return;\n",
    "        }\n",
    "        const downloadLink = document.createElement('a');\n",
    "        downloadLink.href = memeImage.src;\n",
    "        downloadLink.download = uploadedImageName.split('.')[0] + \"_meme.\" + uploadedImageName.split('.')[1];\n",
    "        downloadLink.style.display = 'none';\n",
    "\n",
    "        document.body.appendChild(downloadLink);\n",
    "        downloadLink.click();\n",
    "\n",
    "        document.body.removeChild(downloadLink);\n",
    "\n",
    "    }\n",
    "    const downloadButton = document.getElementById('downloadButton');\n",
    "    downloadButton.addEventListener('click', handleDownloadClick);"
   ]
  },
  {
   "cell_type": "markdown",
   "metadata": {},
   "source": [
    "\n",
    "<script src=\"https://utteranc.es/client.js\"\n",
    "        repo=\"imaad08/student2\"\n",
    "        issue-term=\"pathname\"\n",
    "        theme=\"github-dark\"\n",
    "        crossorigin=\"anonymous\"\n",
    "        async>\n",
    "</script>"
   ]
  }
 ],
 "metadata": {
  "language_info": {
   "name": "python"
  }
 },
 "nbformat": 4,
 "nbformat_minor": 2
}
