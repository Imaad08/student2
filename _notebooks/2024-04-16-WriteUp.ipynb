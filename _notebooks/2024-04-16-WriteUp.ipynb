{
 "cells": [
  {
   "cell_type": "markdown",
   "metadata": {},
   "source": [
    "---\n",
    "comments: true\n",
    "layout: post\n",
    "title: Data Structure Write Up\n",
    "type: hacks\n",
    "courses: { compsci: {week: 26} }\n",
    "---"
   ]
  },
  {
   "cell_type": "markdown",
   "metadata": {},
   "source": [
    "# Collections\n",
    "\n",
    "- Blog Python API code and use of List and Dictionaries.\n",
    "\n",
    "\n"
   ]
  },
  {
   "cell_type": "code",
   "execution_count": null,
   "metadata": {},
   "outputs": [],
   "source": [
    "class Song(db.Model):  \n",
    "    __tablename__ = 'songs'  \n",
    "\n",
    "    id = db.Column(db.Integer, primary_key=True)\n",
    "    _name = db.Column(db.String(255), unique=False, nullable=False)\n",
    "    _url = db.Column(db.String(255), unique = False, nullable=False)\n",
    "    _description = db.Column(db.String(255), unique=True, nullable=False)\n",
    "    _uri = db.Column(db.String(255), unique=False, nullable=False)\n",
    "    _tokens = db.Column(db.Integer)\n",
    "    \n",
    "    def __init__(self, name, url, description, uri, tokens):\n",
    "        self._name = name\n",
    "        self._description = description\n",
    "        self._url = url  # Corrected assignment to _url\n",
    "        self._uri = uri\n",
    "        self._tokens = tokens\n",
    "\n",
    "    def to_dict(self):\n",
    "        return {\"id\": self.id, \"_name\": self._name, \"url\": self._url, \"_description\": self._description, \"_uri\": self._uri, \"_tokens\": self._tokens}\n",
    "    \n",
    "    def update(self, name=\"\", url=\"\", uri=\"\"):\n",
    "        \"\"\"only updates values with length\"\"\"\n",
    "        if len(name) > 0:\n",
    "            self.name = name\n",
    "        if len(url) > 0:\n",
    "            self.url = uri\n",
    "        if len(uri) > 0:\n",
    "            self.uri = uri\n",
    "        db.session.commit()\n",
    "        return self\n"
   ]
  },
  {
   "cell_type": "markdown",
   "metadata": {},
   "source": [
    "- From VSCode using SQLite3 Editor, show your unique collection/table in database, display rows and columns in the table of the SQLite database.\n",
    "![Image1](image-9.png)\n",
    "\n",
    "- From VSCode model, show your unique code that was created to initialize table and create test data.\n",
    "    -   Uses two normal and 1 admin account"
   ]
  },
  {
   "cell_type": "code",
   "execution_count": null,
   "metadata": {},
   "outputs": [],
   "source": [
    "def initUsers():\n",
    "    with app.app_context():\n",
    "        \"\"\"Create database and tables\"\"\"\n",
    "        db.create_all()\n",
    "        \"\"\"Tester data for table\"\"\"\n",
    "        u1 = User(name='Thomas Edison', uid='toby', password='123toby', type=\"standard\")\n",
    "        u2 = User(name='Imaad Muzaffer', uid='imaad', password='123imaad', type=\"standard\")\n",
    "        u3 = User(name='Admin Account', uid='admin', type=\"admin\")\n",
    "        users = [u1, u2, u3]\n",
    "\n",
    "        \"\"\"Builds sample user/note(s) data\"\"\"\n",
    "        for user in users:\n",
    "            try:\n",
    "                '''add a few 1 to 4 notes per user'''\n",
    "                '''add user/post data to table'''\n",
    "                user.create()\n",
    "            except IntegrityError:\n",
    "                '''fails with bad or duplicate data'''\n",
    "                db.session.remove()\n",
    "                print(f\"Records exist, duplicate email, or error: {user.uid}\")"
   ]
  },
  {
   "cell_type": "markdown",
   "metadata": {},
   "source": [
    "- In VSCode using Debugger, show a list as extracted from database as Python objects.\n",
    "    - This goes through the users posts and returns them\n",
    "![Image1](image-10.png)\n",
    "\n",
    "- In VSCode use Debugger and list, show two distinct example examples of dictionaries, show Keys/Values using debugger.\n",
    "    - The data for the posts under each user is shown under here where the purple text is the key and the value is next to it\n",
    "    ![Image1](image-11.png)\n",
    "\n",
    "    - When a post is created, it shows the data under the user with the purple text being the key and the value is next to it\n",
    "    ![Image1](image-11.png)\n",
    "\n",
    "# APIS and JSON\n",
    "\n",
    "Blog Python API code and use of Postman to request and respond with JSON.\n",
    "\n",
    "- In VSCode, show Python API code definition for request and response using GET, POST, UPDATE methods. Discuss algorithmic condition used to direct request to appropriate Python method based on request method.\n",
    "    - This code is defining the end point for the user api that allows for GET POST AND PUT responses\n",
    "    "
   ]
  },
  {
   "cell_type": "code",
   "execution_count": null,
   "metadata": {},
   "outputs": [],
   "source": [
    "    # building RESTapi endpoint\n",
    "    api.add_resource(_CRUD, '/')\n",
    "    api.add_resource(_Security, '/authenticate')"
   ]
  },
  {
   "cell_type": "markdown",
   "metadata": {},
   "source": [
    "- In VSCode, show algorithmic conditions used to validate data on a POST condition.\n",
    "    - Algorithmic requirements guarantee the validity of input data. The subsequent conditions, integrated into the user creation code, validate the password's security by stipulating its minimum length and confirming the presence of both a name and a password.\n",
    "    "
   ]
  },
  {
   "cell_type": "code",
   "execution_count": null,
   "metadata": {},
   "outputs": [],
   "source": [
    "            # validate name\n",
    "            name = body.get('name')\n",
    "            if name is None or len(name) < 2:\n",
    "                return {'message': f'Name is missing, or is less than 2 characters'}, 400\n",
    "            # validate uid\n",
    "            uid = body.get('uid')\n",
    "            if uid is None or len(uid) < 2:\n",
    "                return {'message': f'User ID is missing, or is less than 2 characters'}, 400"
   ]
  },
  {
   "cell_type": "markdown",
   "metadata": {},
   "source": [
    "- In Postman, show URL request and Body requirements for GET, POST, and UPDATE methods.\n",
    "- In Postman, show the JSON response data for 200 success conditions on GET, POST, and UPDATE methods.\n",
    "![Image1](image-12.png)\n",
    "![Image1](image-13.png)\n",
    "\n",
    "\n",
    "- In Postman, show the JSON response for error for 400 when missing body on a POST request.\n",
    "![Image1](image-14.png)\n",
    "\n",
    "- In Postman, show the JSON response for error for 404 when providing an unknown user ID to a UPDATE request.\n",
    "    - Updated user api code automatically retrieves user ID from JWT token by decoding it.\n",
    "    - This means that no UserID needs to be provided, simply a name and password\n",
    "    - This also ensures that users can only update their own user\n",
    "\n"
   ]
  },
  {
   "cell_type": "code",
   "execution_count": null,
   "metadata": {},
   "outputs": [],
   "source": [
    "user = jwt.decode(token, current_app.config[\"SECRET_KEY\"], algorithms=[\"HS256\"])['_uid']"
   ]
  }
 ],
 "metadata": {
  "language_info": {
   "name": "python"
  }
 },
 "nbformat": 4,
 "nbformat_minor": 2
}
