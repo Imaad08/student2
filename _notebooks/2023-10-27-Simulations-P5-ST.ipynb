{
 "cells": [
  {
   "cell_type": "markdown",
   "metadata": {},
   "source": [
    "---\n",
    "comments: true\n",
    "layout: post\n",
    "title: Simulations - Student Teach\n",
    "description: Student Lesson\n",
    "type: tangibles\n",
    "courses: { compsci: {week: 10} }\n",
    "---\n",
    "\n"
   ]
  },
  {
   "cell_type": "markdown",
   "metadata": {},
   "source": [
    "## Simulations \n"
   ]
  },
  {
   "cell_type": "markdown",
   "metadata": {},
   "source": [
    "> A simulation is the use of a computer software to represent the dynamic responses of one system by the behaviour of another system modeled after it. A simulation uses a mathematical descriptions, or models, of a real system in the form of a computer program."
   ]
  },
  {
   "cell_type": "markdown",
   "metadata": {},
   "source": [
    "![simulation](https://www.simscale.com/wp-content/uploads/2022/11/dron-quadcopter-simulation.png)\n"
   ]
  },
  {
   "cell_type": "markdown",
   "metadata": {},
   "source": [
    "## College Board Essential Knowledge"
   ]
  },
  {
   "cell_type": "markdown",
   "metadata": {},
   "source": [
    "> Simulation are absractions of more complex objects or phenomena for a specific purpose \n",
    "\n",
    "- Mimic Real World Events\n",
    "- Allows investigation of phenomenons without contraints of the Real World\n",
    "- Helps you draw accurate inferences\n",
    "\n",
    "> Simulations utilize varying sets of values to reflect the changings states of a phenomenon\n",
    "\n",
    "- simulations can simplfly things for functionality\n",
    "- Simulations can contain bias from real world elements, that were chosen to be included or excluded\n",
    "\n",
    "> Simulations work best when the real world experemnts are too impractical or time consuming. For example, simulating how different cars behave when they crash, would be much better than crashng actual cars in the real world, which would be expensive and dangerous.\n",
    "\n",
    "<a href=\"https://ibb.co/f4jKcBY\"><img src=\"https://i.ibb.co/NZck4Q6/simulations-vs-experiments.png\" alt=\"simulations-vs-experiments\" border=\"0\"></a>\n"
   ]
  },
  {
   "cell_type": "markdown",
   "metadata": {},
   "source": [
    "## Rolling the Dice"
   ]
  },
  {
   "cell_type": "markdown",
   "metadata": {},
   "source": [
    "<a href=\"https://ibb.co/PGBhfPD\"><img src=\"https://i.ibb.co/XxmsvKY/craps-rolling-seven-7.jpg\" alt=\"craps-rolling-seven-7\" border=\"0\"></a>\n",
    "\n",
    "> Simulating something like a dice roll in real life would require accounting for things like: weight, flaws in design, thrust, and gravity.\n",
    "- KEEP IT SIMPLE! just use a random-number generator! Ignore minor causes of variablility"
   ]
  },
  {
   "cell_type": "markdown",
   "metadata": {},
   "source": [
    "## Random"
   ]
  },
  {
   "cell_type": "markdown",
   "metadata": {},
   "source": [
    "- \"Random\" is a built-in python function that allow the user to draw a random value from a set range.\n",
    "- A Random Number Generator (RNG) is a common simulation that selects a random value from an array.\n",
    "- The following code cell utilizes \"random\" to select a number from 1 to 100."
   ]
  },
  {
   "cell_type": "code",
   "execution_count": null,
   "metadata": {},
   "outputs": [],
   "source": [
    "#imports random module so we can use it in our code\n",
    "import random\n",
    "\n",
    "#sets variable random_number as a random number between 1 and 100\n",
    "random_number = random.randint(1, 100)\n",
    "\n",
    "#Printing out your random Number\n",
    "print(random_number)"
   ]
  },
  {
   "cell_type": "markdown",
   "metadata": {},
   "source": [
    "## More complex usage of \"random\"; Coin Toss Simulation"
   ]
  },
  {
   "cell_type": "code",
   "execution_count": null,
   "metadata": {},
   "outputs": [],
   "source": [
    "import random\n",
    "def flip_coin():\n",
    "    return random.choice([\"Heads\", \"Tails\"])\n",
    "def coin_flip_simulation(num_flips):\n",
    "    heads_count = 0\n",
    "    tails_count = 0\n",
    "    for _ in range(num_flips):\n",
    "        result = flip_coin()\n",
    "        if result == \"Heads\":\n",
    "            heads_count += 1\n",
    "        else:\n",
    "            tails_count += 1\n",
    "    return heads_count, tails_count\n",
    "if __name__ == \"__main__\":\n",
    "    num_flips = 1000  #This is the number of coin flips you want to simulate\n",
    "    heads, tails = coin_flip_simulation(num_flips)\n",
    "    print(\"Number of Heads: \"+ str(heads))\n",
    "    print(\"Number of Tails: \" + str(tails))\n",
    "    print(\"Heads Probability: \"+ str({heads / num_flips}))\n",
    "    print(\"Tails Probability: \"+ str({tails / num_flips}))"
   ]
  },
  {
   "cell_type": "markdown",
   "metadata": {},
   "source": [
    "## Popcorn Hack #1"
   ]
  },
  {
   "cell_type": "markdown",
   "metadata": {},
   "source": [
    "Utilize \"random\" to create a basic simulation of a rolling TWO dice. Print the sum of both dice rolls. Remember to practice good syntax when naming your variables. "
   ]
  },
  {
   "cell_type": "code",
   "execution_count": 1,
   "metadata": {},
   "outputs": [
    {
     "name": "stdout",
     "output_type": "stream",
     "text": [
      "die 1 = 5, die 2 = 2\n",
      "sum: 7\n"
     ]
    }
   ],
   "source": [
    "import random\n",
    "\n",
    "die1 = random.randint(1, 6)  \n",
    "die2 = random.randint(1, 6)  \n",
    "\n",
    "dice_sum = die1 + die2\n",
    "\n",
    "print(f\"die 1 = {die1}, die 2 = {die2}\")\n",
    "print(f\"sum: {dice_sum}\")"
   ]
  },
  {
   "cell_type": "markdown",
   "metadata": {},
   "source": [
    "## Algorithms\n",
    ">Simulations often utilize algorithms and equations to perform tasks because simulations don't always have the same output\n",
    "- the output of a simulation depends on the input\n",
    "\n",
    ">An algorithm is a finite sequence of instructions used to solve problems or perform computations. \n",
    "- commonly used alongside functions\n"
   ]
  },
  {
   "cell_type": "markdown",
   "metadata": {},
   "source": [
    "## Example Algorithm in a function"
   ]
  },
  {
   "cell_type": "code",
   "execution_count": 42,
   "metadata": {},
   "outputs": [
    {
     "data": {
      "text/plain": [
       "7"
      ]
     },
     "execution_count": 42,
     "metadata": {},
     "output_type": "execute_result"
    }
   ],
   "source": [
    "#Defining Function\n",
    "def algorithm(input):\n",
    "    \n",
    "    #Manipulating input and preparing it for the output.  \n",
    "    output = input+2\n",
    "    \n",
    "    #Return the output\n",
    "    return output\n",
    "\n",
    "#Call the Function to start the algorithm\n",
    "algorithm(5)\n",
    "    "
   ]
  },
  {
   "cell_type": "markdown",
   "metadata": {},
   "source": [
    "## Mathematics\n",
    "- Math can also prove to be very useful in certain types of situations.\n",
    "- Commonly used along with Algorithms when simulating various things\n",
    "\n",
    "![math](https://pythontutorialhome.files.wordpress.com/2019/05/image-2.png)\n"
   ]
  },
  {
   "cell_type": "markdown",
   "metadata": {},
   "source": [
    "## Popcorn Hack #2"
   ]
  },
  {
   "cell_type": "markdown",
   "metadata": {},
   "source": [
    "Simulate how long an object will fall for using an algorithm, with user-inputed variables for height dropped. Use the following formula as a reference.\n",
    "\n",
    "![gravity ](https://hepweb.ucsd.edu/ph110b/110b_notes/img272.png)\n",
    "\n",
    "- t = time (output)\n",
    "- h = height dropped from (input)\n",
    "- g = constant (given)"
   ]
  },
  {
   "cell_type": "code",
   "execution_count": 3,
   "metadata": {},
   "outputs": [
    {
     "name": "stdout",
     "output_type": "stream",
     "text": [
      "The time it takes for the object to fall from a height of 10.0 meters is 1.43 seconds.\n"
     ]
    }
   ],
   "source": [
    "# Constant, Acceleration due to gravity (m/s^2)\n",
    "G = 9.81\n",
    "\n",
    "import math\n",
    "\n",
    "def simulation(height_dropped):\n",
    "    time = math.sqrt((2 * height_dropped) / G)\n",
    "    \n",
    "    return time\n",
    "\n",
    "height = float(input(\"Enter the height: \"))\n",
    "\n",
    "fall_time = simulation(height)\n",
    "print(f\"The time it takes for the object to fall from a height of {height} meters is {fall_time:.2f} seconds.\")\n"
   ]
  },
  {
   "cell_type": "markdown",
   "metadata": {},
   "source": [
    "# Using Loops in Simulations"
   ]
  },
  {
   "cell_type": "markdown",
   "metadata": {},
   "source": [
    "> For loops can also be used in simulations\n",
    "- They can simulate events that repeat but don't always have the same output\n"
   ]
  },
  {
   "cell_type": "code",
   "execution_count": 44,
   "metadata": {},
   "outputs": [
    {
     "name": "stdout",
     "output_type": "stream",
     "text": [
      "This is run number: 0\n",
      "This is run number: 1\n",
      "This is run number: 2\n",
      "This is run number: 3\n"
     ]
    }
   ],
   "source": [
    "# Example For Loop\n",
    "\n",
    "#Creating For Loop to repeat 4 times\n",
    "for i in range(4):\n",
    "    \n",
    "    #Action that happens inside for loop\n",
    "    print(\"This is run number: \" + str(i))\n",
    "    "
   ]
  },
  {
   "cell_type": "markdown",
   "metadata": {},
   "source": [
    "## Popcorn Hack #3"
   ]
  },
  {
   "cell_type": "markdown",
   "metadata": {},
   "source": [
    "You are gambling addict (sigma). \n",
    "\n",
    "Each session you roll 2 dice.\n",
    "\n",
    "If your dice roll is greater than or equal to 9 you win the session.\n",
    "\n",
    "If you win over 5 sessions, you win the jackpot.\n",
    "\n",
    "Simulate your odds to predict if you will hit the jackpot (how many rounds did you win?) using a for loop and random.\n"
   ]
  },
  {
   "cell_type": "code",
   "execution_count": 21,
   "metadata": {},
   "outputs": [
    {
     "name": "stdout",
     "output_type": "stream",
     "text": [
      "out of 100000 sessions yoou won 5 session.\n",
      "the odds of hitting the jackpot in 100000 sessions are 0.01%.\n"
     ]
    }
   ],
   "source": [
    "import random\n",
    "\n",
    "total_sessions = 100000  \n",
    "sessions_to_win_jackpot = 5\n",
    "win_count = 0\n",
    "\n",
    "for _ in range(total_sessions):\n",
    "    dice1 = random.randint(1, 6)\n",
    "    dice2 = random.randint(1, 6)\n",
    "    total_roll = dice1 + dice2\n",
    "    \n",
    "    if total_roll >= 9:\n",
    "        win_count += 1\n",
    "        if win_count >= sessions_to_win_jackpot:\n",
    "            break\n",
    "\n",
    "odds_of_winning = win_count / total_sessions\n",
    "\n",
    "print(f\"out of {total_sessions} sessions yoou won {win_count} session.\")\n",
    "print(f\"the odds of hitting the jackpot in {total_sessions} sessions are {odds_of_winning:.2%}.\")\n"
   ]
  },
  {
   "cell_type": "markdown",
   "metadata": {},
   "source": [
    "## BONUS POPCORN HACK\n",
    "> Welcome to Flight Simulator! Your goal is to complete a Python program that simulates a flight We've set up some initial values for altitude, speed, and fuel. Your task is to update these values to make the flight more realistic.\n",
    "\n",
    "- Your mission:\n",
    "\n",
    "1. Use random changes to simulate altitude, speed, and fuel changes.\n",
    "2. Keep the flight going until it reaches 10,000 feet or runs out of fuel.\n",
    "3. Make sure altitude, speed, and fuel remain realistic."
   ]
  },
  {
   "cell_type": "code",
   "execution_count": 17,
   "metadata": {},
   "outputs": [
    {
     "name": "stdout",
     "output_type": "stream",
     "text": [
      "Welcome to Flight Simulator!\n",
      "Altitude: 0 feet | Speed: 241.74691363435053 knots | Fuel: 50.00%\n",
      "Altitude: 0 feet | Speed: 251.59819599186451 knots | Fuel: 1.65%\n",
      "Altitude: 396 feet | Speed: 248.13716301197758 knots | Fuel: 0.00%\n",
      "Out of fuel. The flight has ended.\n"
     ]
    }
   ],
   "source": [
    "import random\n",
    "\n",
    "altitude = 0\n",
    "speed = 250  \n",
    "fuel = 100\n",
    "\n",
    "print(\"Welcome to Flight Simulator!\")\n",
    "\n",
    "altitude_change_limit = 500  \n",
    "speed_change_limit = 10  \n",
    "fuel_consumption_rate = 0.2  \n",
    "\n",
    "while altitude < 10000 and fuel > 0:\n",
    "    altitude_change = random.randint(-altitude_change_limit, altitude_change_limit)\n",
    "    speed_change = random.uniform(-speed_change_limit, speed_change_limit)\n",
    "    fuel_consumption = speed * fuel_consumption_rate\n",
    "    \n",
    "    altitude = max(0, altitude + altitude_change)  \n",
    "    speed = max(0, speed + speed_change)  \n",
    "    fuel = max(0, fuel - fuel_consumption)\n",
    "    \n",
    "    print(f\"Altitude: {altitude} feet | Speed: {speed} knots | Fuel: {fuel:.2f}%\")\n",
    "    \n",
    "if altitude >= 10000:\n",
    "    print(\"Congratulations! You've reached 10,000 feet and completed the flight.\")\n",
    "else:\n",
    "    print(\"Out of fuel. The flight has ended.\")\n"
   ]
  },
  {
   "cell_type": "markdown",
   "metadata": {},
   "source": [
    "## QUIZ TIME"
   ]
  },
  {
   "cell_type": "markdown",
   "metadata": {},
   "source": [
    "- Quick true or false quiz, whoever answers this correctly(raise your hand) gets a piece of gum or a dinero. \n",
    "<hr>\n",
    "\n",
    "> T or F    \n",
    "- A simulation will always have the same result.\n",
    "> T or F    \n",
    "- A simulation investigates a phenomenom without real-world constraints of time, money, or safety.\n",
    "> T or F    \n",
    "- A simulation has results which are more accurate than an experiment,\n",
    "> T or F    \n",
    "- A simulation can model real-worl events that are not practical for experiments"
   ]
  },
  {
   "cell_type": "markdown",
   "metadata": {},
   "source": [
    "## HOMEWORK HACK #1 "
   ]
  },
  {
   "cell_type": "markdown",
   "metadata": {},
   "source": [
    "First finish Popcorn Hack #3. Expand the simulation to involve your own money.\n",
    "\n",
    "starting money: $100\n",
    "\n",
    "(Dice Roll <= 3) &rarr; lose $70\n",
    "\n",
    "( 6> Dice Roll >3) &rarr; lose $40\n",
    "\n",
    "( 9> Dice Roll >=6) &rarr; win $20\n",
    "\n",
    "( Dice Roll>= 9 + Session Win) &rarr; win $50\n",
    "\n",
    "Jackpot &rarr; win $100"
   ]
  },
  {
   "cell_type": "code",
   "execution_count": 22,
   "metadata": {},
   "outputs": [
    {
     "name": "stdout",
     "output_type": "stream",
     "text": [
      "Number of sessions won: 5\n",
      "Total winnings: $160\n",
      "Rounds played: 22\n"
     ]
    }
   ],
   "source": [
    "import random\n",
    "\n",
    "starting_money = 100\n",
    "sessions_won = 0\n",
    "total_winnings = 0\n",
    "rounds_played = 0\n",
    "\n",
    "jackpot_threshold = 5\n",
    "\n",
    "while sessions_won < jackpot_threshold and starting_money > 0:\n",
    "    dice1 = random.randint(1, 6)\n",
    "    dice2 = random.randint(1, 6)\n",
    "    dice_roll = dice1 + dice2\n",
    "    \n",
    "    if dice_roll <= 3:\n",
    "        starting_money -= 70\n",
    "    elif dice_roll > 3 and dice_roll <= 6:\n",
    "        starting_money -= 40\n",
    "    elif dice_roll > 6 and dice_roll < 9:\n",
    "        starting_money += 20\n",
    "    elif dice_roll >= 9:\n",
    "        starting_money += 50\n",
    "        sessions_won += 1\n",
    "    \n",
    "    rounds_played += 1\n",
    "\n",
    "    if sessions_won >= jackpot_threshold:\n",
    "        total_winnings = starting_money + 100  \n",
    "        \n",
    "    if starting_money <= 0:\n",
    "        print(f\"You ran out of money after {rounds_played} rounds.\")\n",
    "        break\n",
    "\n",
    "print(f\"Number of sessions won: {sessions_won}\")\n",
    "print(f\"Total winnings: ${total_winnings}\")\n",
    "print(f\"Rounds played: {rounds_played}\")\n"
   ]
  },
  {
   "cell_type": "markdown",
   "metadata": {},
   "source": [
    "## HOMEWORK HACK #2"
   ]
  },
  {
   "cell_type": "markdown",
   "metadata": {},
   "source": [
    "> Given initial parameters for a car simulation, including its initial speed, acceleration rate, deceleration rate, maximum speed, and initial distance, write a  program to simulate the car's journey and determine the final speed, distance covered, and time taken before it either covers 1000 meters or slows down to below 5 m/s?"
   ]
  },
  {
   "cell_type": "code",
   "execution_count": 24,
   "metadata": {},
   "outputs": [
    {
     "name": "stdout",
     "output_type": "stream",
     "text": [
      "Final Speed: 5 m/s\n",
      "Distance Covered: 1000 meters\n",
      "Time Taken: 67.91103500742244 seconds\n"
     ]
    }
   ],
   "source": [
    "initial_speed = 10\n",
    "acceleration_rate = 2\n",
    "deceleration_rate = -1\n",
    "max_speed = 20\n",
    "initial_distance = 0\n",
    "target_distance = 1000\n",
    "min_speed = 5\n",
    "\n",
    "speed = initial_speed\n",
    "distance = initial_distance\n",
    "time = 0\n",
    "\n",
    "while distance < target_distance and speed >= min_speed:\n",
    "    time_to_max_speed = (max_speed - speed) / acceleration_rate\n",
    "    distance_covered_acceleration = speed * time_to_max_speed + 0.5 * acceleration_rate * time_to_max_speed ** 2\n",
    "\n",
    "    if distance + distance_covered_acceleration >= target_distance:\n",
    "        time += (-speed + (speed ** 2 + 2 * acceleration_rate * (target_distance - distance)) ** 0.5) / acceleration_rate\n",
    "        speed = max_speed\n",
    "        distance = target_distance\n",
    "    else:\n",
    "        time += time_to_max_speed\n",
    "        speed = max_speed\n",
    "        distance += distance_covered_acceleration\n",
    "\n",
    "        if distance < target_distance:\n",
    "            time_to_decelerate = (speed - min_speed) / abs(deceleration_rate)\n",
    "            distance_covered_deceleration = speed * time_to_decelerate + 0.5 * deceleration_rate * time_to_decelerate ** 2\n",
    "\n",
    "            if distance + distance_covered_deceleration >= target_distance:\n",
    "                time += (-speed + (speed ** 2 - 2 * deceleration_rate * (distance - target_distance)) ** 0.5) / abs(deceleration_rate)\n",
    "                speed = min_speed\n",
    "                distance = target_distance\n",
    "            else:\n",
    "                time += time_to_decelerate\n",
    "                speed = min_speed\n",
    "                distance += distance_covered_deceleration\n",
    "\n",
    "print(f\"Final Speed: {speed} m/s\")\n",
    "print(f\"Distance Covered: {distance} meters\")\n",
    "print(f\"Time Taken: {time} seconds\")\n"
   ]
  }
 ],
 "metadata": {
  "kernelspec": {
   "display_name": "Python 3",
   "language": "python",
   "name": "python3"
  },
  "language_info": {
   "codemirror_mode": {
    "name": "ipython",
    "version": 3
   },
   "file_extension": ".py",
   "mimetype": "text/x-python",
   "name": "python",
   "nbconvert_exporter": "python",
   "pygments_lexer": "ipython3",
   "version": "3.11.4"
  },
  "orig_nbformat": 4
 },
 "nbformat": 4,
 "nbformat_minor": 2
}
