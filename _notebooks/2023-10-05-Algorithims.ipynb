{
 "cells": [
  {
   "cell_type": "markdown",
   "metadata": {},
   "source": [
    "---\n",
    "title: Algorithim Homework\n",
    "hide: False\n",
    "description: My homework for algorithims\n",
    "author: Imaad Muzaffer\n",
    "courses: { compsci: {week: 7} }\n",
    "type: tangibles\n",
    "---\n",
    "\n",
    "# Popcorn Hack 1\n",
    "\n",
    "---"
   ]
  },
  {
   "cell_type": "code",
   "execution_count": 2,
   "metadata": {},
   "outputs": [
    {
     "name": "stdout",
     "output_type": "stream",
     "text": [
      "x-values: [-5, -4, -3, -2, -1, 0, 1, 2, 3, 4, 5]\n",
      "y-values: [-13, -10, -7, -4, -1, 2, 5, 8, 11, 14, 17]\n"
     ]
    }
   ],
   "source": [
    "def calculate_y_values(x_values):\n",
    "    y_values = []\n",
    "    for i in x_values:\n",
    "        y = 3 * (i + 2) - 4\n",
    "        y_values.append(y)\n",
    "    return y_values\n",
    "\n",
    "x_values = [-5, -4, -3, -2, -1, 0, 1, 2, 3, 4, 5]\n",
    "\n",
    "y_values = calculate_y_values(x_values)\n",
    "\n",
    "print(\"x-values:\", x_values)\n",
    "print(\"y-values:\", y_values)\n"
   ]
  },
  {
   "cell_type": "markdown",
   "metadata": {},
   "source": [
    "\n",
    "---\n",
    "\n",
    "# Popcorn Hack 2\n",
    "\n",
    "---"
   ]
  },
  {
   "cell_type": "code",
   "execution_count": 3,
   "metadata": {},
   "outputs": [
    {
     "name": "stdout",
     "output_type": "stream",
     "text": [
      "103.0\n"
     ]
    }
   ],
   "source": [
    "num1 = 20\n",
    "num2 = num1 /2 \n",
    "num3 = num2 * 10 + 3\n",
    "print(num3)"
   ]
  },
  {
   "cell_type": "markdown",
   "metadata": {},
   "source": [
    "\n",
    "---\n",
    "\n",
    "# Popcorn Hack 3\n",
    "\n",
    "---"
   ]
  },
  {
   "cell_type": "code",
   "execution_count": 4,
   "metadata": {},
   "outputs": [
    {
     "name": "stdout",
     "output_type": "stream",
     "text": [
      "Addition: 15\n",
      "Subtraction: 5\n",
      "Multiplication: 50\n",
      "Division: 2.0\n",
      "MOD: 0.0\n"
     ]
    }
   ],
   "source": [
    "def perform_operations(a, b):\n",
    "    addition = a + b\n",
    "    subtraction = a - b\n",
    "    multiplication = a * b\n",
    "    division = a / b\n",
    "    mod = (a * b) % (a / b)\n",
    "\n",
    "    return addition, subtraction, multiplication, division, mod\n",
    "\n",
    "num1 = 10\n",
    "num2 = 5\n",
    "\n",
    "add_result, sub_result, mul_result, div_result, mod_result = perform_operations(num1, num2)\n",
    "\n",
    "print(f'Addition: {add_result}')\n",
    "print(f'Subtraction: {sub_result}')\n",
    "print(f'Multiplication: {mul_result}')\n",
    "print(f'Division: {div_result}')\n",
    "print(f'MOD: {mod_result}')\n"
   ]
  },
  {
   "cell_type": "markdown",
   "metadata": {},
   "source": [
    "\n",
    "---\n",
    "\n",
    "# Popcorn Hack 4\n",
    "\n",
    "---"
   ]
  },
  {
   "cell_type": "code",
   "execution_count": 7,
   "metadata": {},
   "outputs": [
    {
     "name": "stdout",
     "output_type": "stream",
     "text": [
      "8\n",
      "Imaad Muzaffer\n",
      "maa\n"
     ]
    }
   ],
   "source": [
    "length = len(\"Muzaffer\")\n",
    "print(length)\n",
    "\n",
    "concat = \"Imaad \" + \"Muzaffer\"\n",
    "print (concat)\n",
    "\n",
    "substring = concat[1:5]\n",
    "print (substring)"
   ]
  },
  {
   "cell_type": "markdown",
   "metadata": {},
   "source": [
    "\n",
    "---\n",
    "\n",
    "# Hw Hack\n",
    "\n",
    "---"
   ]
  },
  {
   "cell_type": "code",
   "execution_count": 10,
   "metadata": {},
   "outputs": [
    {
     "name": "stdout",
     "output_type": "stream",
     "text": [
      "The 7th Fibonacci number is: 13\n"
     ]
    }
   ],
   "source": [
    "def fibonacci(n):\n",
    "    if n < 0:\n",
    "        return \"Input should be a non-negative integer.\"\n",
    "    elif n == 0:\n",
    "        return 0\n",
    "    elif n == 1:\n",
    "        return 1\n",
    "    else:\n",
    "        fib_2 = 0\n",
    "        fib_1 = 1\n",
    "\n",
    "        for i in range(2, n + 1):\n",
    "            fib = fib_minus_1 + fib_2\n",
    "            fib_2 = fib_1\n",
    "            fib_minus_1 = fib\n",
    "\n",
    "        return fib\n",
    "\n",
    "nth_index = 7  \n",
    "result = fibonacci(nth_index)\n",
    "print(f\"The {nth_index}th Fibonacci number is: {result}\")\n"
   ]
  }
 ],
 "metadata": {
  "kernelspec": {
   "display_name": "Python 3",
   "language": "python",
   "name": "python3"
  },
  "language_info": {
   "codemirror_mode": {
    "name": "ipython",
    "version": 3
   },
   "file_extension": ".py",
   "mimetype": "text/x-python",
   "name": "python",
   "nbconvert_exporter": "python",
   "pygments_lexer": "ipython3",
   "version": "3.11.4"
  },
  "orig_nbformat": 4
 },
 "nbformat": 4,
 "nbformat_minor": 2
}
