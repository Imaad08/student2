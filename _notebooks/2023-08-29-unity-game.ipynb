{
 "cells": [
  {
   "cell_type": "markdown",
   "metadata": {},
   "source": [
    "---\n",
    "layout: post\n",
    "title: FlippyMaze Game\n",
    "description: My Unity 2d game I developed. Hosted on the website via WebGL.\n",
    "comments: true\n",
    "categories: [5.A, C4.1]\n",
    "courses: { csse: {week: 1}, csp: {week: 1, categories: [6.B]}, csa: {week: 1} }\n",
    "type: devops\n",
    "---\n",
    "\n"
   ]
  },
  {
   "cell_type": "markdown",
   "metadata": {},
   "source": [
    "# Unity Game with WebGL.\n",
    "\n",
    "<html lang=\"en\">\n",
    "<head>\n",
    "<meta charset=\"UTF-8\">\n",
    "<meta name=\"viewport\" content=\"width=device-width, initial-scale=1.0\">\n",
    "<title>Imaad's Game</title>\n",
    "</head>\n",
    "<body>\n",
    "  <div id=\"unityContainer\"></div>\n",
    "  <iframe src=\"FlippyMazeGame/index.html\" width=\"1000\" height=\"650\"></iframe>\n",
    "  <div id=\"unityContainer\"></div>\n",
    "  <script src=\"FlippyMazeGame/TemplateData/UnityProgress.js\"></script>\n",
    "  <script src=\"FlippyMazeGame/Build/UnityLoader.js\"></script>\n",
    "  <script>\n",
    "    var container = document.getElementById(\"unityContainer\");\n",
    "    var gameInstance = UnityLoader.instantiate(container, \"path-to-your-unity-game/Build/YourGame.json\");\n",
    "  </script>\n",
    "</body>\n",
    "</html> "
   ]
  }
 ],
 "metadata": {
  "language_info": {
   "name": "python"
  },
  "orig_nbformat": 4
 },
 "nbformat": 4,
 "nbformat_minor": 2
}
