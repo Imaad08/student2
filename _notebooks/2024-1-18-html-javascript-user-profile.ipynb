{
 "cells": [
  {
   "cell_type": "markdown",
   "metadata": {},
   "source": [
    "---\n",
    "toc: true\n",
    "comments: true\n",
    "layout: post\n",
    "title: Html and Javascript for User Profiles\n",
    "description: \n",
    "type: hacks\n",
    "courses: { compsci: {week: 17} }\n",
    "---"
   ]
  },
  {
   "cell_type": "markdown",
   "metadata": {},
   "source": [
    "## CRUD Operations\n",
    "CRUD stands for create, read, update, and delete which are the 4 basic functions for managing data in a database or storage system.\n",
    "\n",
    "Procedures:\n",
    "- **CREATE**\n",
    "    - Adds new data to the system\n",
    "    - Usually completed by an operation like an insert statement by creating a new record or new object\n",
    "- **READ**\n",
    "    - Retrieves and reads existing data\n",
    "    - Usually used for querying and fetching data information\n",
    "- **UPDATE**\n",
    "    - Makes changes to existing data\n",
    "    - In this case, it would be if the user wants to update or change parts of their user profile like username, password, name, etc.\n",
    "- **DELETE**\n",
    "    - Removes data from the system\n",
    "    - Deletes a record or object\n",
    "\n",
    "CRUD operations are important for interacting with databases and controlling data in software applications. These functions set the foundations for data management and are used in many systems, no matter how minor or complex. They provide a standardized way to handle data throughout its lifecycle from its creation to modification to elimination."
   ]
  },
  {
   "cell_type": "markdown",
   "metadata": {},
   "source": [
    "The code below is a simple format of creating or updating user profiles in html."
   ]
  },
  {
   "cell_type": "code",
   "execution_count": 2,
   "metadata": {
    "vscode": {
     "languageId": "html"
    }
   },
   "outputs": [
    {
     "data": {
      "text/html": [
       "<div id=\"profile\">\n",
       "    <label for=\"name\">Name:</label>\n",
       "    <input type=\"text\" id=\"name\" required>\n",
       "  \n",
       "    <label for=\"uid\">User ID:</label>\n",
       "    <input type=\"text\" id=\"uid\" required>\n",
       "  \n",
       "    <label for=\"password\">Password:</label>\n",
       "    <input type=\"password\" id=\"password\" required>\n",
       "  \n",
       "    <button type=\"submit\" onclick=\"createProfile()\">Create Profile</button>\n",
       "  </div>\n"
      ],
      "text/plain": [
       "<IPython.core.display.HTML object>"
      ]
     },
     "metadata": {},
     "output_type": "display_data"
    }
   ],
   "source": [
    "%%HTML\n",
    "<div id=\"profile\">\n",
    "    <label for=\"name\">Name:</label>\n",
    "    <input type=\"text\" id=\"name\" required>\n",
    "  \n",
    "    <label for=\"uid\">User ID:</label>\n",
    "    <input type=\"text\" id=\"uid\" required>\n",
    "  \n",
    "    <label for=\"password\">Password:</label>\n",
    "    <input type=\"password\" id=\"password\" required>\n",
    "  \n",
    "    <button type=\"submit\" onclick=\"createProfile()\">Create Profile</button>\n",
    "  </div>"
   ]
  },
  {
   "cell_type": "markdown",
   "metadata": {},
   "source": [
    "Once you have the html format of the user profile page, you can establish the CRUD procedures like in the example below."
   ]
  },
  {
   "cell_type": "code",
   "execution_count": null,
   "metadata": {
    "vscode": {
     "languageId": "javascript"
    }
   },
   "outputs": [],
   "source": [
    "// In-memory data structure\n",
    "  let users = [];\n",
    "\n",
    "  // CREATE operation\n",
    "  function createProfile() {\n",
    "    const name = document.getElementById('name').value;\n",
    "    const uid = document.getElementById('uid').value;\n",
    "    const password = document.getElementById('password').value;\n",
    "\n",
    "    if (uid.length > 0) {\n",
    "      const existingUser = users.find(user => user.uid === uid);\n",
    "\n",
    "      if (existingUser) {\n",
    "        // Update existing user\n",
    "        const updatedUser = updateUser(existingUser.id, name, uid, password);\n",
    "        console.log('Updated User:', updatedUser);\n",
    "      } else {\n",
    "        // Create new user\n",
    "        const newUser = createUser(name, uid, password);\n",
    "        console.log('Created User:', newUser);\n",
    "      }\n",
    "\n",
    "      // Reset form fields\n",
    "      document.getElementById('name').value = '';\n",
    "      document.getElementById('uid').value = '';\n",
    "      document.getElementById('password').value = '';\n",
    "\n",
    "    } else {\n",
    "      console.log('Invalid input. User ID is required.');\n",
    "    }\n",
    "  }\n",
    "\n",
    "  // READ operation\n",
    "  function getAllUsers() {\n",
    "    return users.map(user => ({ ...user }));\n",
    "  }\n",
    "\n",
    "  // UPDATE operation\n",
    "  function updateUser(id, name, uid, password) {\n",
    "    const userIndex = users.findIndex(user => user.id === id);\n",
    "    if (userIndex !== -1) {\n",
    "      users[userIndex] = {\n",
    "        ...users[userIndex],\n",
    "        name,\n",
    "        uid,\n",
    "        password,\n",
    "      };\n",
    "      return { ...users[userIndex] };\n",
    "    }\n",
    "    return null;\n",
    "  }\n",
    "\n",
    "  // DELETE operation\n",
    "  function deleteUser(id) {\n",
    "    const initialLength = users.length;\n",
    "    users = users.filter(user => user.id !== id);\n",
    "    return users.length !== initialLength;\n",
    "  }"
   ]
  },
  {
   "cell_type": "markdown",
   "metadata": {},
   "source": [
    "Here is another [sample](https://github.com/nighthawkcoders/devOps/blob/main/api/user.py) to use when creating these functions in your own user login and profile page."
   ]
  },
  {
   "cell_type": "markdown",
   "metadata": {},
   "source": [
    "## Sample User Interface\n",
    "(image)"
   ]
  },
  {
   "cell_type": "markdown",
   "metadata": {},
   "source": [
    "Sample code for the form:\n",
    "- The code creates an HTML form, and when it's submitted, a JavaScript function named submitForm is called. This function can be customized to handle the form submission in a specific way. Typically, it includes preventing the default form submission behavior to enable custom processing.\n",
    "- main labels for this sample:\n",
    "    - Github username, full name, password, and submit button\n",
    "    "
   ]
  },
  {
   "cell_type": "code",
   "execution_count": 1,
   "metadata": {
    "vscode": {
     "languageId": "html"
    }
   },
   "outputs": [
    {
     "data": {
      "text/html": [
       "<form onsubmit=\"submitForm(event)\">\n",
       "    <!-- GitHub Username Input -->\n",
       "    <label for=\"githubUsername\">GitHub Username:</label>\n",
       "    <input type=\"text\" id=\"githubUsername\" name=\"githubUsername\" required /><br /><br />\n",
       "\n",
       "    <!-- Full Name Input -->\n",
       "    <label for=\"fullName\">Full Name:</label>\n",
       "    <input type=\"text\" id=\"fullName\" name=\"fullName\" required /><br /><br />\n",
       "\n",
       "    <!-- Password Input -->\n",
       "    <label for=\"password\">Password:</label>\n",
       "    <input type=\"password\" id=\"password\" name=\"password\" required /><br /><br />\n",
       "\n",
       "    <!-- Submit Button -->\n",
       "    <input type=\"submit\" value=\"Submit\" />\n",
       "</form>\n"
      ],
      "text/plain": [
       "<IPython.core.display.HTML object>"
      ]
     },
     "metadata": {},
     "output_type": "display_data"
    }
   ],
   "source": [
    "%%HTML\n",
    "<form onsubmit=\"submitForm(event)\">\n",
    "    <!-- GitHub Username Input -->\n",
    "    <label for=\"githubUsername\">GitHub Username:</label>\n",
    "    <input type=\"text\" id=\"githubUsername\" name=\"githubUsername\" required /><br /><br />\n",
    "\n",
    "    <!-- Full Name Input -->\n",
    "    <label for=\"fullName\">Full Name:</label>\n",
    "    <input type=\"text\" id=\"fullName\" name=\"fullName\" required /><br /><br />\n",
    "\n",
    "    <!-- Password Input -->\n",
    "    <label for=\"password\">Password:</label>\n",
    "    <input type=\"password\" id=\"password\" name=\"password\" required /><br /><br />\n",
    "\n",
    "    <!-- Submit Button -->\n",
    "    <input type=\"submit\" value=\"Submit\" />\n",
    "</form>"
   ]
  },
  {
   "cell_type": "markdown",
   "metadata": {},
   "source": [
    "This code defines a JavaScript constant (apiUrl) with a value representing the base URL for making API requests to manage users. It also initializes an array (users) that is intended to store user data retrieved from the API."
   ]
  },
  {
   "cell_type": "code",
   "execution_count": null,
   "metadata": {
    "vscode": {
     "languageId": "javascript"
    }
   },
   "outputs": [],
   "source": [
    "//Sample\n",
    "const apiUrl = \"https://devops.nighthawkcodingsociety.com/api/users/\";\n",
    "\t// const apiUrl = \"http://localhost:8180/api/users/\";\n",
    "\tlet users = [];"
   ]
  },
  {
   "cell_type": "markdown",
   "metadata": {},
   "source": [
    "The code down below is used after defining the apiUrl and it features the function fetchUsers() which is a function that fetches user data from an API, then dynamically populates an HTML table with user information, and adds \"Edit\" and \"Delete\" buttons for each user. The dynamically created buttons also have associated event listeners to handle user interactions.\n",
    "- Event listeners are code that \"listen\" for specific actions/events to occur on a webpage. When the specified event occurs, the code (a callback function) is executed."
   ]
  },
  {
   "cell_type": "code",
   "execution_count": null,
   "metadata": {
    "vscode": {
     "languageId": "javascript"
    }
   },
   "outputs": [],
   "source": [
    "function fetchUsers() {\n",
    "    fetch(apiUrl)\n",
    "        .then((response) => response.json())\n",
    "        .then((response) => {\n",
    "            users = response;\n",
    "\n",
    "            const table = document.getElementById(\"userTable\");\n",
    "            users.forEach((user, idx) => {\n",
    "                const row = table.insertRow();\n",
    "\n",
    "                row.setAttribute(\"data-id\", user.id);\n",
    "                [\"name\", \"uid\"].forEach(\n",
    "                    (field) => {\n",
    "                        const cell = row.insertCell();\n",
    "                        if (user[field] === \"none\") {\n",
    "                            users[idx][field] = \"\";\n",
    "                        }\n",
    "                        cell.innerText = users[idx][field];\n",
    "                    }\n",
    "                );\n",
    "\n",
    "                const editCell = row.insertCell();\n",
    "                const editButton = document.createElement(\"button\");\n",
    "                editButton.innerHTML = \"Edit\";\n",
    "                editButton.addEventListener(\"click\", editUser);\n",
    "                editCell.appendChild(editButton);\n",
    "\n",
    "                const deleteCell = row.insertCell();\n",
    "                const deleteButton = document.createElement(\"button\");\n",
    "                deleteButton.innerText = \"Delete\";\n",
    "                deleteButton.addEventListener(\"click\", () => deleteUser(user.id, row));\n",
    "                deleteCell.appendChild(deleteButton);\n",
    "            });\n",
    "        });\n",
    "}"
   ]
  },
  {
   "cell_type": "markdown",
   "metadata": {},
   "source": [
    "## User Authentication and Token Generation"
   ]
  },
  {
   "cell_type": "markdown",
   "metadata": {},
   "source": [
    "Authentication in code often involves the use of tokens. Tokens are a way to verify the identity of a user or a system and grant access to specific resources. Token-based authentication is commonly used in web applications, APIs, and other distributed systems. Here's a brief overview of how token-based authentication works:\n",
    "\n",
    "1. When a user logs in, they provide their credentials (such as username and password) to the authentication server.The authentication server validates the credentials, and if they are correct, it generates a token.\n",
    "\n",
    "2. The token is a piece of data that contains information about the user (or system) and their permissions.This token is then signed by the authentication server using a secret key to ensure its integrity.\n",
    "\n",
    "After importing all necessary statements and Blueprint/API setup we can move on to UserAPI Class Definition.\n"
   ]
  },
  {
   "cell_type": "code",
   "execution_count": null,
   "metadata": {
    "vscode": {
     "languageId": "javascript"
    }
   },
   "outputs": [],
   "source": [
    "class UserAPI:\n",
    "    # …"
   ]
  },
  {
   "cell_type": "markdown",
   "metadata": {},
   "source": [
    "This class contains two inner classes: _CRUD and _Security\n",
    "While _CRUD handles Create (POST) and Read (GET) operations for user data\n",
    "_Security handles user authentication and token generation\n",
    "\n",
    "These are your _CRUD Operations: "
   ]
  },
  {
   "cell_type": "code",
   "execution_count": null,
   "metadata": {
    "vscode": {
     "languageId": "javascript"
    }
   },
   "outputs": [],
   "source": [
    "class _CRUD(Resource):\n",
    "    @token_required\n",
    "    def post(self, current_user):\n",
    "        # ... (Code for user creation)\n",
    "    \n",
    "    @token_required\n",
    "    def get(self, current_user):\n",
    "        # ... (Code for reading all users)"
   ]
  },
  {
   "cell_type": "markdown",
   "metadata": {},
   "source": [
    "@token_required ensuring that the user is authenticated before executing these methods (post and get)\n",
    "\n",
    "Now as for token generation:"
   ]
  },
  {
   "cell_type": "code",
   "execution_count": null,
   "metadata": {
    "vscode": {
     "languageId": "javascript"
    }
   },
   "outputs": [],
   "source": [
    "class _Security(Resource):\n",
    "    def post(self):\n",
    "        # ... (Code for user authentication and token generation)"
   ]
  },
  {
   "cell_type": "markdown",
   "metadata": {},
   "source": [
    "The post method takes user credentials from the request, validates them against the database, and issues a JWT token if authentication is successful.\n",
    "The token is then set as a cookie in the response.\n",
    "\n",
    "After authentication and token generation, we can conclude with the REST API Endpoint Setup:"
   ]
  },
  {
   "cell_type": "code",
   "execution_count": null,
   "metadata": {
    "vscode": {
     "languageId": "javascript"
    }
   },
   "outputs": [],
   "source": [
    "api.add_resource(_CRUD, '/')\n",
    "api.add_resource(_Security, '/authenticate')"
   ]
  },
  {
   "cell_type": "markdown",
   "metadata": {},
   "source": [
    "This just adds the _CRUD and _Security classes as resources to the Flask-RESTful API.\n",
    "\n",
    "Overall, the code represents the implementation of a RESTful API for user management, including user creation, reading all users, and user authentication with token generation."
   ]
  },
  {
   "cell_type": "code",
   "execution_count": null,
   "metadata": {},
   "outputs": [],
   "source": [
    "<form onsubmit=\"submitForm(event)\">\n",
    "\t<label for=\"githubUsername\">GitHub Username:</label>\n",
    "\t<input type=\"text\" id=\"githubUsername\" name=\"githubUsername\" required /><br /><br />\n",
    "\n",
    "\t<label for=\"fullName\">Full Name:</label>\n",
    "\t<input type=\"text\" id=\"fullName\" name=\"fullName\" required /><br /><br />\n",
    "\n",
    "\t<label for=\"password\">Password:</label>\n",
    "\t<input type=\"password\" id=\"password\" name=\"password\" required /><br /><br />\n",
    "\n",
    "\t<label>Need Server:</label>\n",
    "\t<input type=\"radio\" id=\"yes\" name=\"serverNeeded\" value=\"Yes\" required />\n",
    "\t<label for=\"yes\">Yes</label>\n",
    "\t<input type=\"radio\" id=\"no\" name=\"serverNeeded\" value=\"No\" required />\n",
    "\t<label for=\"no\">No</label><br /><br />\n",
    "\n",
    "\t<input type=\"submit\" value=\"Submit\" />\n",
    "</form>\n",
    "\n",
    "<script>\n",
    "\tconst apiUrl = \"https://devops.nighthawkcodingsociety.com/api/users/\";\n",
    "\t// const apiUrl = \"http://localhost:8180/api/users/\";\n",
    "\tlet users = [];\n",
    "\n",
    "\tfunction fetchUsers() {\n",
    "\t\tfetch(apiUrl)\n",
    "\t\t\t.then((response) => response.json())\n",
    "\t\t\t.then((response) => {\n",
    "\t\t\t\tusers = response;\n",
    "\n",
    "\t\t\t\tconst table = document.getElementById(\"userTable\");\n",
    "\t\t\t\tusers.forEach((user, idx) => {\n",
    "\t\t\t\t\tconst row = table.insertRow();\n",
    "\n",
    "\t\t\t\t\trow.setAttribute(\"data-id\", user.id);\n",
    "\t\t\t\t\t[\"name\", \"uid\", \"server_needed\"].forEach(\n",
    "\t\t\t\t\t\t(field) => {\n",
    "\t\t\t\t\t\t\tconst cell = row.insertCell();\n",
    "\t\t\t\t\t\t\tif (user[field] === \"none\") {\n",
    "\t\t\t\t\t\t\t\tusers[idx][field] = \"\";\n",
    "\t\t\t\t\t\t\t}\n",
    "\t\t\t\t\t\t\tcell.innerText = users[idx][field];\n",
    "\t\t\t\t\t\t}\n",
    "\t\t\t\t\t);\n",
    "\n",
    "\t\t\t\t\tconst editCell = row.insertCell();\n",
    "\t\t\t\t\tconst editButton = document.createElement(\"button\");\n",
    "\t\t\t\t\teditButton.innerHTML = \"Edit\";\n",
    "\t\t\t\t\teditButton.addEventListener(\"click\", editUser);\n",
    "\t\t\t\t\teditCell.appendChild(editButton);\n",
    "\n",
    "\t\t\t\t\tconst deleteCell = row.insertCell();\n",
    "\t\t\t\t\tconst deleteButton = document.createElement(\"button\");\n",
    "\t\t\t\t\tdeleteButton.innerText = \"Delete\";\n",
    "\t\t\t\t\tdeleteButton.addEventListener(\"click\", () => deleteUser(user.id, row));\n",
    "\t\t\t\t\tdeleteCell.appendChild(deleteButton);\n",
    "\t\t\t\t});\n",
    "\t\t\t});\n",
    "\t}\n",
    "\n",
    "\tfunction submitForm(event) {\n",
    "\t\tevent.preventDefault();\n",
    "\t\tconst formData = new FormData(event.target);\n",
    "\t\tconst name = formData.get(\"fullName\");\n",
    "\t\tconst uid = formData.get(\"githubUsername\");\n",
    "\t\tconst password = formData.get(\"password\");\n",
    "\t\tconst serverNeeded = formData.get(\"serverNeeded\") === \"Yes\";\n",
    "\n",
    "\t\tconst payload = {\n",
    "\t\t\tname,\n",
    "\t\t\tuid,\n",
    "\t\t\tpassword,\n",
    "\t\t\tserver_needed: serverNeeded,\n",
    "\t\t};\n",
    "\n",
    "\t\tfetch(apiUrl, {\n",
    "\t\t\tmethod: \"POST\",\n",
    "\t\t\theaders: {\n",
    "\t\t\t\t\"Content-Type\": \"application/json\",\n",
    "\t\t\t},\n",
    "\t\t\tbody: JSON.stringify(payload),\n",
    "\t\t})\n",
    "\t\t\t.then((response) => {\n",
    "\t\t\t\tif (response.ok) {\n",
    "\t\t\t\t\treturn response.json();\n",
    "\t\t\t\t} else {\n",
    "\t\t\t\t\talert(\"server error\");\n",
    "\t\t\t\t\tthrow new Error(\"server\");\n",
    "\t\t\t\t}\n",
    "\t\t\t})\n",
    "\t\t\t.then((data) => {\n",
    "\t\t\t\tconst table = document.getElementById(\"userTable\");\n",
    "\t\t\t\tconst row = table.insertRow();\n",
    "\t\t\t\trow.setAttribute(\"data-id\", data.id);\n",
    "\t\t\t\t[\n",
    "\t\t\t\t\tdata.name,\n",
    "\t\t\t\t\tdata.uid,\n",
    "\t\t\t\t\tdata.server_needed,\n",
    "\t\t\t\t].forEach((value) => {\n",
    "\t\t\t\t\tconst cell = row.insertCell();\n",
    "\t\t\t\t\tcell.innerText = value;\n",
    "\t\t\t\t});\n",
    "\n",
    "\t\t\t\tconst editCell = row.insertCell();\n",
    "\t\t\t\tconst editButton = document.createElement(\"button\");\n",
    "\t\t\t\teditButton.innerHTML = \"Edit\";\n",
    "\t\t\t\teditButton.addEventListener(\"click\", editUser);\n",
    "\t\t\t\teditCell.appendChild(editButton);\n",
    "\n",
    "\t\t\t\tconst deleteCell = row.insertCell();\n",
    "\t\t\t\tconst deleteButton = document.createElement(\"button\");\n",
    "\t\t\t\tdeleteButton.innerText = \"Delete\";\n",
    "\t\t\t\tdeleteButton.addEventListener(\"click\", () => deleteUser(user.id, row));\n",
    "\t\t\t\tdeleteCell.appendChild(deleteButton);\n",
    "\n",
    "\t\t\t\tusers.push(data);\n",
    "\t\t\t\talert(\"Created sucessfully!\");\n",
    "\t\t\t})\n",
    "\t\t\t.catch((error) => console.error(\"Error:\", error));\n",
    "\t}\n",
    "\n",
    "\tfunction editUser(event) {\n",
    "\t\tconst id = event.currentTarget.parentElement.parentElement.getAttribute(\"data-id\");\n",
    "\t\tdocument.getElementById(\"editId\").value = id;\n",
    "\n",
    "\t\tconst form = document.getElementById(\"editForm\");\n",
    "\t\tconst user = users.find((u) => u.id == id);\n",
    "\n",
    "\t\tform.querySelector(\"#editGithubUsername\").value = user.uid;\n",
    "\t\tform.querySelector(\"#editFullName\").value = user.name;\n",
    "\n",
    "\t\tdocument.getElementById(\"editYes\").checked = user.server_needed;\n",
    "\t\tdocument.getElementById(\"editNo\").checked = !user.server_needed;\n",
    "\n",
    "\n",
    "\t\tdocument.getElementById(\"editModalBackdrop\").style.display = \"block\";\n",
    "\t}\n",
    "\n",
    "\t// Fetch users and ensure close modal interaction\n",
    "\tdocument.addEventListener(\"DOMContentLoaded\", function () {\n",
    "\t\tfetchUsers();\n",
    "\t\tdocument.getElementById(\"closeModal\").addEventListener(\"click\", function () {\n",
    "\t\t\tdocument.getElementById(\"editModalBackdrop\").style.display = \"none\";\n",
    "\t\t});\n",
    "\t});\n",
    "\n",
    "\tfunction submitEdit(event) {\n",
    "\t\tevent.preventDefault();\n",
    "\t\tconst formData = new FormData(event.target);\n",
    "\t\tconst id = formData.get(\"editId\");\n",
    "\t\tconst name = formData.get(\"editFullName\");\n",
    "\t\tconst uid = formData.get(\"editGithubUsername\");\n",
    "\t\tconst serverNeeded = formData.get(\"editServerNeeded\") === \"Yes\";\n",
    "\n",
    "\t\tconst payload = {\n",
    "\t\t\tid,\n",
    "\t\t\tname,\n",
    "\t\t\tuid,\n",
    "\t\t\tserver_needed: serverNeeded,\n",
    "\t\t};\n",
    "\n",
    "\t\tfetch(`${apiUrl}${id}`, {\n",
    "\t\t\tmethod: \"PUT\",\n",
    "\t\t\theaders: {\n",
    "\t\t\t\t\"Content-Type\": \"application/json\",\n",
    "\t\t\t},\n",
    "\t\t\tbody: JSON.stringify(payload),\n",
    "\t\t}).then((response) => {\n",
    "\t\t\tif (response.ok) {\n",
    "\t\t\t\t// Update the corresponding row in the table\n",
    "\t\t\t\tconst row = document.querySelector(`tr[data-id='${id}']`);\n",
    "\t\t\t\trow.cells[0].innerText = name;\n",
    "\t\t\t\trow.cells[1].innerText = uid;\n",
    "\t\t\t\trow.cells[2].innerText = serverNeeded;\n",
    "\n",
    "\t\t\t\t// Show an alert indicating success\n",
    "\t\t\t\talert(\"User information updated successfully.\");\n",
    "\t\t\t}\n",
    "\t\t});\n",
    "\n",
    "\t\tdocument.getElementById(\"editModalBackdrop\").style.display = \"none\";\n",
    "\t}\n",
    "\n",
    "\tfunction deleteUser(id, row) {\n",
    "\t\tconst confirmation = prompt('Type \"DELETE\" to confirm.');\n",
    "\t\tif (confirmation === \"DELETE\") {\n",
    "\t\t\tfetch(`${apiUrl}${id}`, {\n",
    "\t\t\t\tmethod: \"DELETE\",\n",
    "\t\t\t})\n",
    "\t\t\t\t.then(() => {\n",
    "\t\t\t\t\trow.remove();\n",
    "\t\t\t\t\talert(\"User deleted successfully\");\n",
    "\t\t\t\t})\n",
    "\t\t\t\t.catch((error) => {\n",
    "\t\t\t\t\tconsole.error(\"Error:\", error);\n",
    "\t\t\t\t});\n",
    "\t\t}\n",
    "\t}\n",
    "</script>\n",
    "\n",
    "<hr style=\"margin-top: 10px\" />\n",
    "\n",
    "<h2>Current Records</h2>\n",
    "<table id=\"userTable\">\n",
    "\t<tr>\n",
    "\t\t<th>Full Name</th>\n",
    "\t\t<th>GitHub Username</th>\n",
    "\t\t<th>Server Needed</th>\n",
    "\t\t<th>Edit</th>\n",
    "\t\t<th>Delete</th>\n",
    "\t</tr>\n",
    "</table>\n",
    "\n",
    "<div id=\"editModalBackdrop\" class=\"modal-backdrop\">\n",
    "\t<div id=\"editModal\" onsubmit=\"submitEdit(event)\" class=\"modal-content\">\n",
    "\t\t<button id=\"closeModal\" class=\"close-modal\">X</button>\n",
    "\t\t<form id=\"editForm\">\n",
    "\t\t\t<input type=\"hidden\" id=\"editId\" name=\"editId\" />\n",
    "\n",
    "\t\t\t<label for=\"editGithubUsername\">GitHub Username:</label>\n",
    "\t\t\t<input type=\"text\" id=\"editGithubUsername\" name=\"editGithubUsername\" /><br /><br />\n",
    "\n",
    "\t\t\t<label for=\"editFullName\">Full Name:</label>\n",
    "\t\t\t<input type=\"text\" id=\"editFullName\" name=\"editFullName\" /><br /><br />\n",
    "\n",
    "\t\t\t<label>Need Server:</label>\n",
    "\t\t\t<input type=\"radio\" id=\"editYes\" name=\"editServerNeeded\" value=\"Yes\" />\n",
    "\t\t\t<label for=\"editYes\">Yes</label>\n",
    "\t\t\t<input type=\"radio\" id=\"editNo\" name=\"editServerNeeded\" value=\"No\" />\n",
    "\t\t\t<label for=\"editNo\">No</label><br /><br />\n",
    "\t\t\t<input type=\"submit\" value=\"Update\" />\n",
    "\t\t</form>\n",
    "\t</div>\n",
    "</div>\n",
    "\n",
    "<style>\n",
    "\t.modal-backdrop {\n",
    "\t\tdisplay: none;\n",
    "\t\tposition: fixed;\n",
    "\t\ttop: 0;\n",
    "\t\tleft: 0;\n",
    "\t\twidth: 100%;\n",
    "\t\theight: 100%;\n",
    "\t\tbackground-color: rgba(0, 0, 0, 0.7);\n",
    "\t\tz-index: 1;\n",
    "\t}\n",
    "\n",
    "\t.modal-content {\n",
    "\t\tposition: absolute;\n",
    "\t\ttop: 50%;\n",
    "\t\tleft: 50%;\n",
    "\t\ttransform: translate(-50%, -50%);\n",
    "\t\tbackground: #272726;\n",
    "\t\tpadding: 40px;\n",
    "\t\tz-index: 2;\n",
    "\t}\n",
    "\n",
    "\t.close-modal {\n",
    "\t\tposition: absolute;\n",
    "\t\ttop: 10px;\n",
    "\t\tright: 10px;\n",
    "\t\tcursor: pointer;\n",
    "\t\tbackground: none;\n",
    "\t\tborder: none;\n",
    "\t\tfont-size: 24px;\n",
    "\t\tcolor: white;\n",
    "\t}\n",
    "\n",
    "\t.wrapper,\n",
    "\tsection {\n",
    "\t\tmax-width: 900px;\n",
    "\t}\n",
    "</style> explain individual aspects of code\n"
   ]
  },
  {
   "cell_type": "markdown",
   "metadata": {},
   "source": [
    "### HTML Form:\n",
    "- The HTML form contains input fields for capturing information about a user, such as their GitHub username, full name, password, and whether they need a server.\n",
    "- It includes checkboxes and radio buttons for whether a server is needed.\n",
    "There's a submit button to submit the form.\n",
    "### JavaScript Functions:\n",
    "fetchUsers():\n",
    "- This function fetches the list of users from a specified API endpoint (apiUrl) and populates a table (userTable) with the retrieved user data.\n",
    "- For each user, it adds an \"Edit\" and \"Delete\" button to their respective rows in the table.\n",
    "#### submitForm(event):\n",
    "- This function is called when the form is submitted.\n",
    "- It prevents the default form submission behavior (event.preventDefault()) and extracts form data using FormData.\n",
    "- Then, it constructs a JSON payload with the form data and sends a POST request to the API endpoint to create a new user.\n",
    "- If successful, it adds the new user to the table and alerts the user of successful creation.\n",
    "#### editUser(event):\n",
    "- This function is called when the \"Edit\" button for a user is clicked.\n",
    "- It extracts the user's ID from the table row, populates the edit form with the user's data, and displays the edit modal.\n",
    "#### submitEdit(event):\n",
    "- This function is called when the edit form is submitted.\n",
    "- It prevents the default form submission behavior, extracts form data, constructs a JSON payload, and sends a PUT request to update the user's - information.\n",
    "- If successful, it updates the corresponding row in the table with the edited data and alerts the user of successful update.\n",
    "#### deleteUser(id, row):\n",
    "- This function is called when the \"Delete\" button for a user is clicked.\n",
    "- It prompts the user for confirmation and sends a DELETE request to the API endpoint to delete the user.\n",
    "- If successful, it removes the user's row from the table and alerts the user of successful deletion."
   ]
  },
  {
   "cell_type": "markdown",
   "metadata": {},
   "source": [
    "- [Example login appearance](https://nighthawkcoders.github.io/teacher_portfolio//2024/01/08/python-jwt-login.html)\n",
    "- [Backend user.py code](https://github.com/nighthawkcoders/cpt/blob/main/api/user.py#L17)"
   ]
  }
 ],
 "metadata": {
  "kernelspec": {
   "display_name": "Python 3 (ipykernel)",
   "language": "python",
   "name": "python3"
  },
  "language_info": {
   "codemirror_mode": {
    "name": "ipython",
    "version": 3
   },
   "file_extension": ".py",
   "mimetype": "text/x-python",
   "name": "python",
   "nbconvert_exporter": "python",
   "pygments_lexer": "ipython3",
   "version": "3.10.12"
  }
 },
 "nbformat": 4,
 "nbformat_minor": 2
}
