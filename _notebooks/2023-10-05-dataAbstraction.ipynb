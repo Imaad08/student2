{
 "cells": [
  {
   "cell_type": "markdown",
   "metadata": {},
   "source": [
    "---\n",
    "title: Data Abstraction Homework\n",
    "hide: False\n",
    "description: My homework for data abstraction\n",
    "author: Imaad Muzaffer\n",
    "courses: { compsci: {week: 7} }\n",
    "type: tangibles\n",
    "---\n",
    "\n",
    "# Popcorn Hack 1\n",
    "\n",
    "---"
   ]
  },
  {
   "cell_type": "code",
   "execution_count": 2,
   "metadata": {},
   "outputs": [
    {
     "name": "stdout",
     "output_type": "stream",
     "text": [
      "I am in grade 10\n"
     ]
    }
   ],
   "source": [
    "grade = 10\n",
    "\n",
    "print(\"I am in grade \" + str(grade))"
   ]
  },
  {
   "cell_type": "markdown",
   "metadata": {},
   "source": [
    "\n",
    "---\n",
    "\n",
    "# Popcorn Hack 2\n",
    "\n",
    "---"
   ]
  },
  {
   "cell_type": "code",
   "execution_count": 3,
   "metadata": {},
   "outputs": [
    {
     "name": "stdout",
     "output_type": "stream",
     "text": [
      "Int is  15\n",
      "String is 15\n",
      "Bool is True\n",
      "Float is  15.0\n"
     ]
    }
   ],
   "source": [
    "testNum = 15\n",
    "\n",
    "print(\"Int is \", testNum)\n",
    "print(\"String is \" + str(testNum))\n",
    "print(\"Bool is \" + str(bool(testNum)))\n",
    "print(\"Float is \", float(testNum))\n"
   ]
  },
  {
   "cell_type": "markdown",
   "metadata": {},
   "source": [
    "\n",
    "---\n",
    "\n",
    "# Popcorn Hack 3\n",
    "\n",
    "---"
   ]
  },
  {
   "cell_type": "code",
   "execution_count": 4,
   "metadata": {},
   "outputs": [
    {
     "name": "stdout",
     "output_type": "stream",
     "text": [
      "Initial values:\n",
      "a = 10\n",
      "b = 20.5\n",
      "c = Hello\n",
      "\n",
      "Updated values:\n",
      "a = 20.5  (type: float )\n",
      "b = Hello  (type: str )\n",
      "c = 10  (type: int )\n"
     ]
    }
   ],
   "source": [
    "a = 10\n",
    "b = 20.5\n",
    "c = 'Hello'\n",
    "\n",
    "print(\"Initial values:\")\n",
    "print(\"a =\", a)\n",
    "print(\"b =\", b)\n",
    "print(\"c =\", c)\n",
    "\n",
    "a, b, c = b, c, a\n",
    "\n",
    "print(\"\\nUpdated values:\")\n",
    "print(\"a =\", a, \" (type:\", type(a).__name__, \")\")\n",
    "print(\"b =\", b, \" (type:\", type(b).__name__, \")\")\n",
    "print(\"c =\", c, \" (type:\", type(c).__name__, \")\")\n"
   ]
  },
  {
   "cell_type": "markdown",
   "metadata": {},
   "source": [
    "\n",
    "---\n",
    "\n",
    "# Popcorn Hack 4\n",
    "\n",
    "---"
   ]
  },
  {
   "cell_type": "code",
   "execution_count": 5,
   "metadata": {},
   "outputs": [
    {
     "name": "stdout",
     "output_type": "stream",
     "text": [
      "coding\n",
      "biking\n",
      "cooking\n",
      "video games\n",
      "friends and family\n"
     ]
    }
   ],
   "source": [
    "my_interests = ['coding', 'biking', 'cooking', 'video games', 'friends and family']\n",
    "\n",
    "for interest in my_interests:\n",
    "    print(interest)\n"
   ]
  },
  {
   "cell_type": "markdown",
   "metadata": {},
   "source": [
    "\n",
    "---\n",
    "\n",
    "# Popcorn Hack 5\n",
    "\n",
    "---"
   ]
  },
  {
   "cell_type": "code",
   "execution_count": 6,
   "metadata": {},
   "outputs": [
    {
     "name": "stdout",
     "output_type": "stream",
     "text": [
      "[\"Family and Friends\", \"Biking\", \"Coding\", \"Cooking\"]\n"
     ]
    }
   ],
   "source": [
    "import json\n",
    "\n",
    "interests = [\"Family and Friends\", \"Biking\", \"Coding\", \"Cooking\"]\n",
    "\n",
    "json_obj = json.dumps(interests)\n",
    "\n",
    "print(json_obj)"
   ]
  },
  {
   "cell_type": "markdown",
   "metadata": {},
   "source": [
    "\n",
    "---\n",
    "\n",
    "# Homework\n",
    "\n",
    "---"
   ]
  },
  {
   "cell_type": "code",
   "execution_count": 11,
   "metadata": {},
   "outputs": [
    {
     "name": "stdout",
     "output_type": "stream",
     "text": [
      "Names and ages from the list of people:\n"
     ]
    },
    {
     "ename": "AttributeError",
     "evalue": "'str' object has no attribute 'name'",
     "output_type": "error",
     "traceback": [
      "\u001b[0;31m---------------------------------------------------------------------------\u001b[0m",
      "\u001b[0;31mAttributeError\u001b[0m                            Traceback (most recent call last)",
      "\u001b[1;32m/Users/imaadmuzaffer/vscode/student2/_notebooks/2023-10-05-dataAbstraction.ipynb Cell 12\u001b[0m line \u001b[0;36m3\n\u001b[1;32m     <a href='vscode-notebook-cell:/Users/imaadmuzaffer/vscode/student2/_notebooks/2023-10-05-dataAbstraction.ipynb#X14sZmlsZQ%3D%3D?line=23'>24</a>\u001b[0m people_dict \u001b[39m=\u001b[39m {\n\u001b[1;32m     <a href='vscode-notebook-cell:/Users/imaadmuzaffer/vscode/student2/_notebooks/2023-10-05-dataAbstraction.ipynb#X14sZmlsZQ%3D%3D?line=24'>25</a>\u001b[0m     \u001b[39m'\u001b[39m\u001b[39mImaad M\u001b[39m\u001b[39m'\u001b[39m: \u001b[39m15\u001b[39m,\n\u001b[1;32m     <a href='vscode-notebook-cell:/Users/imaadmuzaffer/vscode/student2/_notebooks/2023-10-05-dataAbstraction.ipynb#X14sZmlsZQ%3D%3D?line=25'>26</a>\u001b[0m     \u001b[39m'\u001b[39m\u001b[39mAnika B\u001b[39m\u001b[39m'\u001b[39m: \u001b[39m15\u001b[39m,\n\u001b[0;32m   (...)\u001b[0m\n\u001b[1;32m     <a href='vscode-notebook-cell:/Users/imaadmuzaffer/vscode/student2/_notebooks/2023-10-05-dataAbstraction.ipynb#X14sZmlsZQ%3D%3D?line=28'>29</a>\u001b[0m     \u001b[39m'\u001b[39m\u001b[39mAnika P\u001b[39m\u001b[39m'\u001b[39m: \u001b[39m17\u001b[39m\n\u001b[1;32m     <a href='vscode-notebook-cell:/Users/imaadmuzaffer/vscode/student2/_notebooks/2023-10-05-dataAbstraction.ipynb#X14sZmlsZQ%3D%3D?line=29'>30</a>\u001b[0m }\n\u001b[1;32m     <a href='vscode-notebook-cell:/Users/imaadmuzaffer/vscode/student2/_notebooks/2023-10-05-dataAbstraction.ipynb#X14sZmlsZQ%3D%3D?line=31'>32</a>\u001b[0m \u001b[39mprint\u001b[39m(\u001b[39m'\u001b[39m\u001b[39mNames and ages from the list of people:\u001b[39m\u001b[39m'\u001b[39m)\n\u001b[0;32m---> <a href='vscode-notebook-cell:/Users/imaadmuzaffer/vscode/student2/_notebooks/2023-10-05-dataAbstraction.ipynb#X14sZmlsZQ%3D%3D?line=32'>33</a>\u001b[0m print_people(people_dict)\n\u001b[1;32m     <a href='vscode-notebook-cell:/Users/imaadmuzaffer/vscode/student2/_notebooks/2023-10-05-dataAbstraction.ipynb#X14sZmlsZQ%3D%3D?line=34'>35</a>\u001b[0m \u001b[39mprint\u001b[39m(\u001b[39m'\u001b[39m\u001b[39m\\n\u001b[39;00m\u001b[39mName of the oldest person from the dictionary:\u001b[39m\u001b[39m'\u001b[39m)\n\u001b[1;32m     <a href='vscode-notebook-cell:/Users/imaadmuzaffer/vscode/student2/_notebooks/2023-10-05-dataAbstraction.ipynb#X14sZmlsZQ%3D%3D?line=35'>36</a>\u001b[0m find_oldest_person(people_dict)\n",
      "\u001b[1;32m/Users/imaadmuzaffer/vscode/student2/_notebooks/2023-10-05-dataAbstraction.ipynb Cell 12\u001b[0m line \u001b[0;36m8\n\u001b[1;32m      <a href='vscode-notebook-cell:/Users/imaadmuzaffer/vscode/student2/_notebooks/2023-10-05-dataAbstraction.ipynb#X14sZmlsZQ%3D%3D?line=5'>6</a>\u001b[0m \u001b[39mdef\u001b[39;00m \u001b[39mprint_people\u001b[39m(people):\n\u001b[1;32m      <a href='vscode-notebook-cell:/Users/imaadmuzaffer/vscode/student2/_notebooks/2023-10-05-dataAbstraction.ipynb#X14sZmlsZQ%3D%3D?line=6'>7</a>\u001b[0m     \u001b[39mfor\u001b[39;00m person \u001b[39min\u001b[39;00m people:\n\u001b[0;32m----> <a href='vscode-notebook-cell:/Users/imaadmuzaffer/vscode/student2/_notebooks/2023-10-05-dataAbstraction.ipynb#X14sZmlsZQ%3D%3D?line=7'>8</a>\u001b[0m         \u001b[39mprint\u001b[39m(\u001b[39mf\u001b[39m\u001b[39m'\u001b[39m\u001b[39m{\u001b[39;00mperson\u001b[39m.\u001b[39mname\u001b[39m}\u001b[39;00m\u001b[39m: Age \u001b[39m\u001b[39m{\u001b[39;00mperson\u001b[39m.\u001b[39mage\u001b[39m}\u001b[39;00m\u001b[39m'\u001b[39m)\n",
      "\u001b[0;31mAttributeError\u001b[0m: 'str' object has no attribute 'name'"
     ]
    }
   ],
   "source": [
    "class Person:\n",
    "    def __init__(self, name, age):\n",
    "        self.name = name\n",
    "        self.age = age\n",
    "\n",
    "def print_people(people):\n",
    "    for person in people:\n",
    "        print(f'{person.name}: Age {person.age}')\n",
    "\n",
    "def find_oldest_person(people_dict):\n",
    "    oldest_age = float('-inf')\n",
    "    oldest_person = None\n",
    "\n",
    "    for name, age in people_dict.items():\n",
    "        if age > oldest_age:\n",
    "            oldest_age = age\n",
    "            oldest_person = name\n",
    "\n",
    "    if oldest_person:\n",
    "        print(f'The oldest person is: {oldest_person}, Age {oldest_age}')\n",
    "\n",
    "people_list = [\n",
    "    Person('Imaad M', 15),\n",
    "    Person('Anika B', 15),\n",
    "    Person('Tanay S', 16),\n",
    "    Person('Ananya A', 16),\n",
    "    Person('Anika P', 17)\n",
    "]\n",
    "\n",
    "people_dict = {\n",
    "    'Imaad M': 15,\n",
    "    'Anika B': 15,\n",
    "    'Tanay S': 16,\n",
    "    'Ananya A': 16,\n",
    "    'Anika P': 17\n",
    "}\n",
    "\n",
    "print('Names and ages from the list of people:')\n",
    "print_people(people_list)\n",
    "\n",
    "print('\\nName of the oldest person from the dictionary:')\n",
    "find_oldest_person(people_dict)\n"
   ]
  }
 ],
 "metadata": {
  "kernelspec": {
   "display_name": "Python 3",
   "language": "python",
   "name": "python3"
  },
  "language_info": {
   "codemirror_mode": {
    "name": "ipython",
    "version": 3
   },
   "file_extension": ".py",
   "mimetype": "text/x-python",
   "name": "python",
   "nbconvert_exporter": "python",
   "pygments_lexer": "ipython3",
   "version": "3.11.4"
  },
  "orig_nbformat": 4
 },
 "nbformat": 4,
 "nbformat_minor": 2
}
