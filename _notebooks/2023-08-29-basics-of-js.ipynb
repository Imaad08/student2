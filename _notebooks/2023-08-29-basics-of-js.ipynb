{
 "cells": [
  {
   "cell_type": "markdown",
   "metadata": {},
   "source": [
    "---\n",
    "title: Basics of Javascript\n",
    "hide: True\n",
    "description: A Tech Talk on how to use javascript\n",
    "type: ccc\n",
    "permalink: /basics/javascript\n",
    "author: Rohan Juneja\n",
    "---"
   ]
  },
  {
   "cell_type": "raw",
   "metadata": {},
   "source": [
    "{% include nav_basics.html %}\n"
   ]
  },
  {
   "cell_type": "markdown",
   "metadata": {},
   "source": [
    "\n",
    "# How to use javascript in any of your pages\n",
    "- Simply add a ``<script></script>`` in your markdown or jupyter cells\n",
    "- (Note: the %%html magic command allows us to add HTML and JavaScript into a jupyter notebook, the outputted \"site\" will be shown below the code)"
   ]
  },
  {
   "cell_type": "code",
   "execution_count": 8,
   "metadata": {},
   "outputs": [
    {
     "data": {
      "text/html": [
       "<h3>Page Heading</h3>\n",
       "<p>Paragraph description of page</p>\n",
       "<script>\n",
       "    console.log(\"Output to console, showing that JavaScript code is running\")\n",
       "</script>\n"
      ],
      "text/plain": [
       "<IPython.core.display.HTML object>"
      ]
     },
     "metadata": {},
     "output_type": "display_data"
    }
   ],
   "source": [
    "%%html\n",
    "<h3>Page Heading</h3>\n",
    "<p>Paragraph description of page</p>\n",
    "<script>\n",
    "    console.log(\"Output to console, showing that JavaScript code is running\")\n",
    "</script>\n"
   ]
  },
  {
   "cell_type": "markdown",
   "metadata": {},
   "source": [
    "# Writing text to console.log\n",
    "- The text written with `console.log` appears in the Console\n",
    "- `console.log` allows you to write text -- but you don't see any text in above example until you view Console.\n",
    "- Activate Console window\n",
    "    - VSCode Help-Toggle Developer Tools allows you to see console.log output\n",
    "    - Chrome and other browsers require right click -> inspect also allows access to console.log output\n",
    "        - Safari users will need to enable developer settings before inspecting an element. To do this go to Safari settings -> advanced and check the box next to \"Show develop menu in menu bar\"\n",
    "    - By default you usually need to click Console next to Elements, to see console.log output\n",
    "    - Also, you may want to press clear console (cirlcl with slash) to clean up screen before analysis. \n"
   ]
  },
  {
   "cell_type": "markdown",
   "metadata": {},
   "source": [
    "## Try code with Console\n",
    "- Developers typically keep console open\n",
    "- In console window, you can run javascript code from prompt"
   ]
  },
  {
   "cell_type": "markdown",
   "metadata": {},
   "source": [
    "# Storing data\n",
    "- One of the most important things in programming is learning how data is stored, this is often called Data Abstraction (the ability to represent data in a programming language)."
   ]
  },
  {
   "cell_type": "markdown",
   "metadata": {},
   "source": [
    "## Types of data\n",
    "- Javascript has a few basic types of data, which align with what the types of data you might know yourself\n",
    "- In javascript, these types are formalized as:\n",
    "  - text = \"string\", number = \"number\", true/false = \"boolean\""
   ]
  },
  {
   "cell_type": "markdown",
   "metadata": {},
   "source": [
    "## Name the Data\n",
    "- When you think of data, it has a name and a value.\n",
    "- Using the \"var\" JavaScript syntax you create a `variable` with a name and a value.\n",
    "- In javascript this can represented with the following: `var someName = value;`\n",
    "  - The name cannot have spaces\n",
    "  - Text values must be wrapped in single or double quotes to identify it as text (see exmaples below)"
   ]
  },
  {
   "cell_type": "markdown",
   "metadata": {},
   "source": [
    "## Accessing data\n",
    "- To access data (the value of a variable), simply just use the name of the variable\n",
    "- For example, we can use the values from previously in a `console.log`"
   ]
  },
  {
   "cell_type": "code",
   "execution_count": 17,
   "metadata": {
    "vscode": {
     "languageId": "html"
    }
   },
   "outputs": [
    {
     "data": {
      "text/html": [
       "\n",
       "<script>\n",
       "// create variables\n",
       "var firstName = \"Rohan\"\n",
       "var lastName = 'Juneja'\n",
       "var age = 17;\n",
       "var isSchoolDay = true; \n",
       "\n",
       "// inspect values and type\n",
       "console.log(firstName, typeof firstName)\n",
       "console.log(lastName, typeof lastName)\n",
       "console.log(age, typeof age)\n",
       "console.log(isSchoolDay, typeof isSchoolDay)\n",
       "\n",
       "</script>\n"
      ],
      "text/plain": [
       "<IPython.core.display.HTML object>"
      ]
     },
     "metadata": {},
     "output_type": "display_data"
    }
   ],
   "source": [
    "%%html\n",
    "\n",
    "<script>\n",
    "// create variables\n",
    "var firstName = \"Rohan\"\n",
    "var lastName = 'Juneja'\n",
    "var age = 17;\n",
    "var isSchoolDay = true; \n",
    "\n",
    "// inspect values and type\n",
    "console.log(firstName, typeof firstName)\n",
    "console.log(lastName, typeof lastName)\n",
    "console.log(age, typeof age)\n",
    "console.log(isSchoolDay, typeof isSchoolDay)\n",
    "\n",
    "</script>"
   ]
  },
  {
   "cell_type": "markdown",
   "metadata": {},
   "source": [
    "# String Operators\n",
    "- \"+\" concatenates string, same as combining text\n",
    "- \"==\" checks if strings are the same, if so it outputs `true`, otherwise `false`\n",
    "  - \"!==\" is \"not equal to\" (opposite of equal to)\n",
    "\n",
    "## Assignment Operator\n",
    "- \"=\" can be used to change the value of a variable\n",
    "  - ie. if you already created \"name1\" you can reassign name1 = \"New Name\""
   ]
  },
  {
   "cell_type": "code",
   "execution_count": 16,
   "metadata": {
    "vscode": {
     "languageId": "html"
    }
   },
   "outputs": [
    {
     "data": {
      "text/html": [
       "\n",
       "<script>\n",
       "// string assignment\n",
       "var name1 = \"Doe\"\n",
       "var name2 = \"Doe\"\n",
       "\n",
       "// compare names\n",
       "console.log(\"String Comparison\")\n",
       "console.log(\"name1\", name1)\n",
       "console.log(\"name2\", name2)\n",
       "console.log(\"name1 == name2\", name1 == name2)\n",
       "\n",
       "// changing the value of name1 and repeat compare\n",
       "console.log(\"String Comparison after change\")\n",
       "name1 = \"John\"\n",
       "console.log(\"name1\", name1)\n",
       "console.log(\"name2\", name2)\n",
       "console.log(\"name1 == name2\", name1 == name2)\n",
       "\n",
       "console.log(\"String Concatenation\")\n",
       "console.log(name1 + \" \" + name2)\n",
       "</script>\n"
      ],
      "text/plain": [
       "<IPython.core.display.HTML object>"
      ]
     },
     "metadata": {},
     "output_type": "display_data"
    }
   ],
   "source": [
    "%%html\n",
    "\n",
    "<script>\n",
    "// string assignment\n",
    "var name1 = \"Doe\"\n",
    "var name2 = \"Doe\"\n",
    "\n",
    "// compare names\n",
    "console.log(\"String Comparison\")\n",
    "console.log(\"name1\", name1)\n",
    "console.log(\"name2\", name2)\n",
    "console.log(\"name1 == name2\", name1 == name2)\n",
    "\n",
    "// changing the value of name1 and repeat compare\n",
    "console.log(\"String Comparison after change\")\n",
    "name1 = \"John\"  // reassign\n",
    "console.log(\"name1\", name1)\n",
    "console.log(\"name2\", name2)\n",
    "console.log(\"name1 == name2\", name1 == name2)\n",
    "\n",
    "console.log(\"String Concatenation\")\n",
    "console.log(name1 + \" \" + name2)\n",
    "</script>\n"
   ]
  },
  {
   "cell_type": "markdown",
   "metadata": {},
   "source": [
    "# Number Operators\n",
    "- \"+\" adds numbers together\n",
    "- \"-\" subtracts numbers, \"/\" divides numbers, \"*\" multiples numbers\n",
    "- \"===\" checks if two values are the same, if so it outputs `true`, otherwise `false`\n",
    "  - \"!==\" is \"not equal to\" (opposite of equal to)\n",
    "  - normal oeprators like \"<\", \">\", \">=\" (greater than or equal to), \"<=\" with numbers\n",
    "\n",
    "## Assignment Operator\n",
    "- \"=\" can be used to create or change the value of a variable"
   ]
  },
  {
   "cell_type": "code",
   "execution_count": 28,
   "metadata": {
    "vscode": {
     "languageId": "html"
    }
   },
   "outputs": [
    {
     "data": {
      "text/html": [
       "\n",
       "<script>\n",
       "var age1 = 17\n",
       "var age2 = 16\n",
       "var age3 = '17'\n",
       "\n",
       "console.log(\"Number Comparisons\")\n",
       "console.log(\"age1:\", age1)\n",
       "console.log(\"age2:\", age2)\n",
       "console.log(\"age3:\", age3)\n",
       "console.log(\"age1 == age2\", age1 == age2)\n",
       "console.log(\"age1 == age3\", age1 == age3)\n",
       "console.log(\"age1 === age3\", age1 === age3)\n",
       "console.log(\"age1 > age2\", age1 > age2)\n",
       "console.log(\"age1 < age2\", age1 < age2)\n",
       "\n",
       "var num1 = 9\n",
       "var num2 = 5\n",
       "console.log(\"\\n\")\n",
       "console.log(\"Arithmetic Operations\")\n",
       "console.log(\"num1:\", num1)\n",
       "console.log(\"num2:\", num2)\n",
       "console.log(\"num1 + num2\", num1 + num2)\n",
       "console.log(\"num1 - num2\", num1 - num2)\n",
       "console.log(\"num1 * num2\", num1 * num2)\n",
       "console.log(\"num1 / num2\", num1 / num2)\n",
       "console.log(\"num1 % num2\", num1 % num2)\n",
       "\n",
       "</script>\n"
      ],
      "text/plain": [
       "<IPython.core.display.HTML object>"
      ]
     },
     "metadata": {},
     "output_type": "display_data"
    }
   ],
   "source": [
    "%%html\n",
    "\n",
    "<script>\n",
    "var age1 = 17\n",
    "var age2 = 16\n",
    "var age3 = '17'\n",
    "\n",
    "console.log(\"Number Comparisons\")\n",
    "console.log(\"age1:\", age1)\n",
    "console.log(\"age2:\", age2)\n",
    "console.log(\"age3:\", age3)\n",
    "console.log(\"age1 == age2\", age1 == age2)\n",
    "console.log(\"age1 == age3\", age1 == age3)\n",
    "console.log(\"age1 === age3\", age1 === age3)\n",
    "console.log(\"age1 > age2\", age1 > age2)\n",
    "console.log(\"age1 < age2\", age1 < age2)\n",
    "\n",
    "var num1 = 9\n",
    "var num2 = 5\n",
    "console.log(\"\\n\")\n",
    "console.log(\"Arithmetic Operations\")\n",
    "console.log(\"num1:\", num1)\n",
    "console.log(\"num2:\", num2)\n",
    "console.log(\"num1 + num2\", num1 + num2)\n",
    "console.log(\"num1 - num2\", num1 - num2)\n",
    "console.log(\"num1 * num2\", num1 * num2)\n",
    "console.log(\"num1 / num2\", num1 / num2)\n",
    "console.log(\"num1 % num2\", num1 % num2)\n",
    "\n",
    "</script>"
   ]
  },
  {
   "cell_type": "markdown",
   "metadata": {},
   "source": [
    "# Conditional Statements\n",
    "- Think about any actions that you take: you usually take them based on information you take in\n",
    "  - If tommorow is a school day, set an alarm for tomorrow at 8am\n",
    "- We can also add additional clauses at the end\n",
    "  - If tommorow is a school day, set an alarm for tomorrow at 8am, otherwise (else) set an alarm for tommorow at 10am"
   ]
  },
  {
   "cell_type": "code",
   "execution_count": 29,
   "metadata": {
    "vscode": {
     "languageId": "html"
    }
   },
   "outputs": [
    {
     "data": {
      "text/html": [
       "\n",
       "<script>\n",
       "// the above example in code\n",
       "console.log(\"Alarm Example\")\n",
       "\n",
       "var tommorowIsSchoolDay = false\n",
       "\n",
       "if (tommorowIsSchoolDay) {\n",
       "    // this code runs if tommorw is a school day\n",
       "    console.log(\"Setting alarm for 8am\")\n",
       "} else {\n",
       "    // this code runs if tommorow is not a school day\n",
       "    console.log(\"Setting alarm for 10am\")\n",
       "}\n",
       "</script>\n"
      ],
      "text/plain": [
       "<IPython.core.display.HTML object>"
      ]
     },
     "metadata": {},
     "output_type": "display_data"
    }
   ],
   "source": [
    "%%html\n",
    "\n",
    "<script>\n",
    "// the above example in code\n",
    "console.log(\"Alarm Example\")\n",
    "\n",
    "var tommorowIsSchoolDay = false\n",
    "\n",
    "if (tommorowIsSchoolDay) {\n",
    "    // this code runs if tommorw is a school day\n",
    "    console.log(\"Setting alarm for 8am\")\n",
    "} else {\n",
    "    // this code runs if tommorow is not a school day\n",
    "    console.log(\"Setting alarm for 10am\")\n",
    "}\n",
    "</script>"
   ]
  },
  {
   "cell_type": "markdown",
   "metadata": {},
   "source": [
    "# Conditional Statements + Operators\n",
    "- Since many operators return a true/false value (equals, gerater than, etc.) we can use them inside \"if\" statements"
   ]
  },
  {
   "cell_type": "code",
   "execution_count": 30,
   "metadata": {
    "vscode": {
     "languageId": "html"
    }
   },
   "outputs": [
    {
     "data": {
      "text/html": [
       "<script>\n",
       "console.log(\"If statements + Operators\")\n",
       "var age1 = 17\n",
       "var age2 = 37\n",
       "\n",
       "if (age1 > age2) {\n",
       "    // runs if age1 is more than age2\n",
       "    console.log(\"age1 is more than age2\")\n",
       "\n",
       "} else if (age1 == age2) {\n",
       "    // runs if age1 and age2 are the same\n",
       "    console.log(\"age1 is the same as age2\")\n",
       "\n",
       "// (age1 < age2)\n",
       "} else  {\n",
       "    // runs if age2 is more than age1\n",
       "    console.log(\"age1 is less than age2\")\n",
       "}\n",
       "\n",
       "</script>\n"
      ],
      "text/plain": [
       "<IPython.core.display.HTML object>"
      ]
     },
     "metadata": {},
     "output_type": "display_data"
    }
   ],
   "source": [
    "%%html\n",
    "<script>\n",
    "console.log(\"If statements + Operators\")\n",
    "var age1 = 17\n",
    "var age2 = 37\n",
    "\n",
    "if (age1 > age2) {\n",
    "    // runs if age1 is more than age2\n",
    "    console.log(\"age1 is more than age2\")\n",
    "\n",
    "} else if (age1 == age2) {\n",
    "    // runs if age1 and age2 are the same\n",
    "    console.log(\"age1 is the same as age2\")\n",
    "\n",
    "// (age1 < age2)\n",
    "} else  {\n",
    "    // runs if age2 is more than age1\n",
    "    console.log(\"age1 is less than age2\")\n",
    "}\n",
    "\n",
    "</script>"
   ]
  },
  {
   "cell_type": "markdown",
   "metadata": {},
   "source": [
    "# Hacks\n",
    "- Write a JavaScript program that compares two variables, a and b. Log \"a is greater\" if a is greater than b, \"b is greater\" if b is greater than a, and \"both are equal\" if a and b are equal. Make sure to use if statements and console.log"
   ]
  },
  {
   "cell_type": "code",
   "execution_count": 4,
   "metadata": {
    "vscode": {
     "languageId": "html"
    }
   },
   "outputs": [
    {
     "data": {
      "text/html": [
       "\n",
       "<style>\n",
       "    .Text p{\n",
       "        align-items: center;\n",
       "    }\n",
       "    button {\n",
       "        padding: 10px 20px;\n",
       "        background-color: #007bff;\n",
       "        color: #fff;\n",
       "        border: none;\n",
       "        border-radius: 5px;\n",
       "        cursor: pointer;\n",
       "        transition: background-color 0.3s;\n",
       "      }\n",
       "      button:hover {\n",
       "        background-color: #0056b3;\n",
       "      }\n",
       "</style>\n",
       "\n",
       "<input type=\"number\" id=\"a\" name=\"a\" placeholder=\"Number 1; EX: 10\">\n",
       "\n",
       "\n",
       "<input type=\"number\" id=\"b\" name=\"b\" placeholder=\"Number 2; EX: 10\">\n",
       "\n",
       "\n",
       "<button onclick=\"compare()\">Compare</button>\n",
       "\n",
       "<p id=\"placeholder\"></p>\n",
       "\n",
       "<script>\n",
       "    function compare() {\n",
       "        var num1 = document.getElementById(\"a\").value;\n",
       "        var num2 = document.getElementById(\"b\").value;\n",
       "        var result = document.getElementById(\"placeholder\");\n",
       "\n",
       "        if(num1 > num2){\n",
       "            console.log(\"Number 1 is greater than Number 2\");\n",
       "            result.textContent = \"Number 1 is greater than Number 2\";\n",
       "        } else if (num1 < num2) {\n",
       "            console.log(\"Number 1 is less than Number 2\")\n",
       "            result.textContent = \"Number 1 is less than Number 2\";\n",
       "        } else if (num1 == num2) {\n",
       "            console.log(\"Number 1 is equal to Number 2\");\n",
       "            result.textContent = \"Number 1 is equal to Number 2\";\n",
       "        } else {\n",
       "            console.log(\"Unexpected error\");\n",
       "            result.textContent = \"Please try again with different numbers\";\n",
       "        }\n",
       "    }\n",
       "</script>\n"
      ],
      "text/plain": [
       "<IPython.core.display.HTML object>"
      ]
     },
     "metadata": {},
     "output_type": "display_data"
    }
   ],
   "source": [
    "%%html\n",
    "\n",
    "<style>\n",
    "    .Text p{\n",
    "        align-items: center;\n",
    "    }\n",
    "    button {\n",
    "        padding: 10px 20px;\n",
    "        background-color: #007bff;\n",
    "        color: #fff;\n",
    "        border: none;\n",
    "        border-radius: 5px;\n",
    "        cursor: pointer;\n",
    "        transition: background-color 0.3s;\n",
    "      }\n",
    "      button:hover {\n",
    "        background-color: #0056b3;\n",
    "      }\n",
    "</style>\n",
    "\n",
    "<input type=\"number\" id=\"a\" name=\"a\" placeholder=\"Number 1; EX: 10\">\n",
    "\n",
    "\n",
    "<input type=\"number\" id=\"b\" name=\"b\" placeholder=\"Number 2; EX: 10\">\n",
    "\n",
    "\n",
    "<button onclick=\"compare()\">Compare</button>\n",
    "\n",
    "<p id=\"placeholder\"></p>\n",
    "\n",
    "<script>\n",
    "    function compare() {\n",
    "        var num1 = document.getElementById(\"a\").value;\n",
    "        var num2 = document.getElementById(\"b\").value;\n",
    "        var result = document.getElementById(\"placeholder\");\n",
    "\n",
    "        if(num1 > num2){\n",
    "            console.log(\"Number 1 is greater than Number 2\");\n",
    "            result.textContent = \"Number 1 is greater than Number 2\";\n",
    "        } else if (num1 < num2) {\n",
    "            console.log(\"Number 1 is less than Number 2\")\n",
    "            result.textContent = \"Number 1 is less than Number 2\";\n",
    "        } else if (num1 == num2) {\n",
    "            console.log(\"Number 1 is equal to Number 2\");\n",
    "            result.textContent = \"Number 1 is equal to Number 2\";\n",
    "        } else {\n",
    "            console.log(\"Unexpected error\");\n",
    "            result.textContent = \"Please try again with different numbers\";\n",
    "        }\n",
    "    }\n",
    "</script>\n"
   ]
  }
 ],
 "metadata": {
  "kernelspec": {
   "display_name": "Python 3",
   "language": "python",
   "name": "python3"
  },
  "language_info": {
   "codemirror_mode": {
    "name": "ipython",
    "version": 3
   },
   "file_extension": ".py",
   "mimetype": "text/x-python",
   "name": "python",
   "nbconvert_exporter": "python",
   "pygments_lexer": "ipython3",
   "version": "3.11.4"
  },
  "orig_nbformat": 4
 },
 "nbformat": 4,
 "nbformat_minor": 2
}
