{
 "cells": [
  {
   "cell_type": "markdown",
   "metadata": {},
   "source": [
    "---\n",
    "comments: true\n",
    "layout: notebook\n",
    "title: Flask JWT Roles for User / Admin user\n",
    "type: tangibles\n",
    "toc: true\n",
    "courses: { compsci: {week: 4} }\n",
    "---"
   ]
  },
  {
   "cell_type": "markdown",
   "metadata": {},
   "source": [
    "# Goal\n",
    "- This team teach will show you how to add roles to users when they create their account\n",
    "\n",
    "- Roles are like Google Doc sharing permissions: you can give someone Viewer, Commenter, or Editor permissions\n",
    "- Roles can be used in your code to restrict access to certain actions and pages "
   ]
  },
  {
   "cell_type": "markdown",
   "metadata": {},
   "source": [
    "- If you want to follow along, go to the [users.py](https://files.slack.com/files-pri/TUDAF53UJ-F06GVLB0A72/users.png) file of your cpt project that you cloned."
   ]
  },
  {
   "cell_type": "code",
   "execution_count": null,
   "metadata": {},
   "outputs": [],
   "source": [
    "class User(db.Model):\n",
    "    # ... (existing code)\n",
    "\n",
    "\n",
    "#-------------------------------------------------------------------------------------------------------------------------------------------------#\n",
    "    # Goes into your users.py file. This will create a column dedicated for roles\n",
    "    _role = db.Column(db.String(20), default=\"User\", nullable=False)\n",
    "    \n",
    "#-------------------------------------------------------------------------------------------------------------------------------------------------#\n",
    "\n",
    "\n",
    "\n",
    "    def __init__(self, name, uid, password=\"123qwerty\", dob=date.today(), role=\"User\"):\n",
    "        # ... (existing code)\n",
    "        self._role = role\n",
    "\n",
    "\n",
    "\n",
    "#-------------------------------------------------------------------------------------------------------------------------------------------------#\n",
    "    # With this property, you can access the user's role using user_instance.role instead of user_instance._role.\n",
    "    @property\n",
    "    def role(self):\n",
    "        return self._role\n",
    "#-------------------------------------------------------------------------------------------------------------------------------------------------#\n",
    "\n",
    "\n",
    "\n",
    "#-------------------------------------------------------------------------------------------------------------------------------------------------#\n",
    "    # With this setter, you can update the user's role using the assignment syntax: user_instance.role = \"NewRole\".\n",
    "    @role.setter\n",
    "    def role(self, role):\n",
    "        self._role = role\n",
    "#-------------------------------------------------------------------------------------------------------------------------------------------------#\n",
    "\n",
    "\n",
    "\n",
    "#-------------------------------------------------------------------------------------------------------------------------------------------------#\n",
    "    # This method returns True if the user's role is \"Admin\" and False otherwise.\n",
    "    def is_admin(self):\n",
    "        return self._role == \"Admin\"\n",
    "#-------------------------------------------------------------------------------------------------------------------------------------------------# \n",
    "  \n",
    "  \n",
    "  \n",
    "    # ... (existing code)\n",
    "\n",
    "    # CRUD read converts self to dictionary\n",
    "    # returns dictionary\n",
    "    def read(self):\n",
    "        return {\n",
    "            \"id\": self.id,\n",
    "            \"name\": self.name,\n",
    "            \"uid\": self.uid,\n",
    "            \"dob\": self.dob,\n",
    "            \"age\": self.age,\n",
    "    #-------------------------------------------------------------------------------------------------------------------------------------------------#\n",
    "            # When you GET/read the endpoint, it will also return the user's role\n",
    "            \"role\": self.role,\n",
    "    #-------------------------------------------------------------------------------------------------------------------------------------------------#\n",
    "            \"posts\": [post.read() for post in self.posts]\n",
    "        }\n"
   ]
  },
  {
   "cell_type": "markdown",
   "metadata": {},
   "source": [
    "Popcorn Hack 1: What is the function of CRUD read (Check comments)?\n",
    "Answer: "
   ]
  },
  {
   "cell_type": "code",
   "execution_count": null,
   "metadata": {},
   "outputs": [],
   "source": [
    "def initUsers():\n",
    "    with app.app_context():\n",
    "        \"\"\"Create database and tables\"\"\"\n",
    "        db.create_all()\n",
    "        \"\"\"Tester data for table\"\"\"\n",
    "        #-------------------------------------------------------------------------------------------------------------------------------------------------#\n",
    "        # When you create the test users for the database, you can add a role for them. In this case, Thomas Edison has the role \"Admin\"\n",
    "        u1 = User(name='Thomas Edison', uid='toby', password='123toby', dob=date(1847, 2, 11), role=\"Admin\")\n",
    "        #-------------------------------------------------------------------------------------------------------------------------------------------------#\n",
    "\n",
    "# ... (existing code)"
   ]
  },
  {
   "cell_type": "markdown",
   "metadata": {},
   "source": [
    "- This file is [user.py](https://files.slack.com/files-pri/TUDAF53UJ-F06G3UZQHSR/user.png)(not users.py which was the file above) of your cpt project that you cloned."
   ]
  },
  {
   "cell_type": "code",
   "execution_count": null,
   "metadata": {},
   "outputs": [],
   "source": [
    "    class _Security(Resource):\n",
    "        def post(self):\n",
    "            try:\n",
    "                body = request.get_json()\n",
    "                if not body:\n",
    "                    return {\n",
    "                        \"message\": \"Please provide user details\", #After attempting to retrieve JSON data, this block checks if the body is empty or None. \n",
    "                        #If there's no JSON data in the request, the function returns a JSON response indicating that the user should provide user details, along with a status code of 400 (Bad Request). \n",
    "                        #This is a common practice to handle cases where the expected data is missing or improperly formatted.\n",
    "                        \"data\": None,\n",
    "                        \"error\": \"Bad request\"\n",
    "                    }, 400\n",
    "                ''' Get Data '''\n",
    "                uid = body.get('uid') #checks for UID\n",
    "                if uid is None:\n",
    "                    return {'message': f'User ID is missing'}, 400\n",
    "                password = body.get('password') #checks and looks if possible password is there.\n",
    "                \n",
    "                ''' Find user '''\n",
    "                user = User.query.filter_by(_uid=uid).first()\n",
    "                if user is None or not user.is_password(password):\n",
    "                    return {'message': f\"Invalid user id or password\"}, 400\n",
    "                if user:\n",
    "                    try:\n",
    "                #-------------------------------------------------------------------------------------------------------------------------------------------------# \n",
    "                        # The only change you're making is that you include the user's role when they get authenticated\n",
    "                        token_payload = {\n",
    "                            \"_uid\": user._uid,\n",
    "                            \"role\": user.role  # Add the role information to the token\n",
    "                        }\n",
    "                #-------------------------------------------------------------------------------------------------------------------------------------------------# \n",
    "\n",
    "                        token = jwt.encode(\n",
    "                            token_payload,\n",
    "                            current_app.config[\"SECRET_KEY\"],\n",
    "                            algorithm=\"HS256\"\n",
    "                        )\n",
    "# ... (existing code)\n"
   ]
  },
  {
   "cell_type": "markdown",
   "metadata": {},
   "source": []
  },
  {
   "cell_type": "markdown",
   "metadata": {},
   "source": [
    "- This file is [auth_middleware.py](https://files.slack.com/files-pri/TUDAF53UJ-F06GVLAT32L/auth-middleware.png) of your cpt project that you cloned."
   ]
  },
  {
   "cell_type": "code",
   "execution_count": null,
   "metadata": {},
   "outputs": [],
   "source": [
    "from functools import wraps\n",
    "import jwt\n",
    "from flask import request, abort\n",
    "from flask import current_app\n",
    "from model.users import User\n",
    "\n",
    "#-------------------------------------------------------------------------------------------------------------------------------------------------# \n",
    "# Whenver you call this function in your code, you can add an argument like Roles=\"Admin\" to only allow admins to access a certan part.\n",
    "def token_required(roles=None):\n",
    "#-------------------------------------------------------------------------------------------------------------------------------------------------# \n",
    "    def decorator(f):\n",
    "        @wraps(f)\n",
    "        def decorated(*args, **kwargs):\n",
    "            token = request.cookies.get(\"jwt\")\n",
    "            if not token:\n",
    "                return {\n",
    "                    \"message\": \"Authentication Token is missing!\",\n",
    "                    \"data\": None,\n",
    "                    \"error\": \"Unauthorized\"\n",
    "                }, 401\n",
    "            try:\n",
    "                data = jwt.decode(token, current_app.config[\"SECRET_KEY\"], algorithms=[\"HS256\"])\n",
    "                current_user = User.query.filter_by(_uid=data[\"_uid\"]).first()\n",
    "                if current_user is None:\n",
    "                    return {\n",
    "                        \"message\": \"Invalid Authentication token!\",\n",
    "                        \"data\": None,\n",
    "                        \"error\": \"Unauthorized\"\n",
    "                    }, 401\n",
    "            #-------------------------------------------------------------------------------------------------------------------------------------------------# \n",
    "                # Check if roles are provided and user has the required role\n",
    "                if roles and current_user.role not in roles:\n",
    "                    return {\n",
    "                        \"message\": \"Insufficient permissions. Required roles: {}\".format(roles),\n",
    "                        \"data\": None,\n",
    "                        \"error\": \"Forbidden\"\n",
    "                    }, 403\n",
    "            #-------------------------------------------------------------------------------------------------------------------------------------------------# \n",
    "\n",
    "            except Exception as e:\n",
    "                return {\n",
    "                    \"message\": \"Something went wrong\",\n",
    "                    \"data\": None,\n",
    "                    \"error\": str(e)\n",
    "                }, 500\n",
    "\n",
    "            return f(current_user, *args, **kwargs)\n",
    "\n",
    "        return decorated\n",
    "\n",
    "    return decorator"
   ]
  },
  {
   "cell_type": "markdown",
   "metadata": {},
   "source": [
    "**Popcorn Hack 2:** What is the purpose of \"def token_required(roles=None):\" ?\n",
    "Answer: \n"
   ]
  },
  {
   "cell_type": "markdown",
   "metadata": {},
   "source": [
    "- Here's a[Freeform Diagram](https://www.icloud.com/freeform/0c8SFCHzE4hcs14rPpq0h4LNQ#User_Flow) to help you better understand each file\n",
    "![Freeform Diagram](../../../images/Freeform Diagram.png)"
   ]
  },
  {
   "cell_type": "markdown",
   "metadata": {},
   "source": []
  }
 ],
 "metadata": {
  "language_info": {
   "name": "python"
  }
 },
 "nbformat": 4,
 "nbformat_minor": 2
}
