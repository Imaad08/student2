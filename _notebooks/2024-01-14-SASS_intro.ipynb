{
 "cells": [
  {
   "cell_type": "markdown",
   "metadata": {},
   "source": [
    "---\n",
    "layout: post\n",
    "title: P2 | SASS\n",
    "description: Team Teach On SASS\n",
    "courses: { compsci: {week: 15} }\n",
    "type: tangibles\n",
    "---"
   ]
  },
  {
   "cell_type": "markdown",
   "metadata": {},
   "source": [
    "# Introduction to Basic SASS\n",
    "\n",
    "## What is SASS?\n",
    "* A preprocessor language that’s interpreted into CSS\n",
    "    * Takes input data and converts it to an output that’s used as input by another program.\n",
    "    * Basically converting your code to CSS to be run by browser\n",
    "\n",
    "## SCSS vs CSS\n",
    "* CSS changes the style of your webpage\n",
    "    * CSS can be really annoying to use as it lacks features\n",
    "    * Ex: Layout inconsistency across phones and webpages; lacking nesting (where objects contain other similar objects); creating responsive designs that adapt to different screen sizes; and more\n",
    "* SCSS is basically a more developed version of CSS.\n",
    "    * SCSS has more features that makes things more convenient\n",
    "* CSS better for simple styling in small projects with little customization\n",
    "* SCSS better for complex styling and working in projects with multiple pages with lots of customization\n",
    "\n",
    "## SASS benefits\n",
    "* Nesting Capabilities: A way of writing CSS styles that mimics the structure of your HTML. Instead of writing separate selectors, you can nest them inside each other.\n",
    "    * In the example below: In the nested example, the p selector is inside the .container selector. This can make your styles more readable and mirrors the HTML structure. Just be mindful not to over-nest, as it may lead to overly specific and harder-to-maintain styles."
   ]
  },
  {
   "cell_type": "code",
   "execution_count": null,
   "metadata": {},
   "outputs": [],
   "source": [
    "CSS:\n",
    ".container {\n",
    "  width: 100%;\n",
    "}\n",
    "\n",
    ".container p {\n",
    "  color: #333;\n",
    "}\n",
    "\n",
    "\n",
    "SCSS:\n",
    ".container {\n",
    "  width: 100%;\n",
    "\n",
    "  p {\n",
    "    color: #333;\n",
    "  }\n",
    "}"
   ]
  },
  {
   "cell_type": "markdown",
   "metadata": {},
   "source": [
    "* Modular Approach: Split CSS into partial files, enhancing project organization.\n",
    "* Use of Variables: Easily update and maintain consistency with defined variables.\n",
    "    * Ex: in CSS to make something blue you'd have to constantly write \"color: #0000FF\". In SCSS you can define \"$blue: #0000FF\", and then for the rest of the code just write \"color: $blue\" to make something blue\n",
    "* Mixins for Reusable Code: Create reusable code pieces for elements like buttons and forms.\n",
    "* Extend/Inheritance: Share CSS properties between selectors, reducing code redundancy.\n",
    "* Control Directives: Use if/else statements and for/each loops in CSS.\n",
    "* Built-in Functions: Functions for color manipulation, mathematics, and more.\n",
    "* Compatibility: Automatically handles browser prefixing for cross-browser support.\n",
    "\n"
   ]
  },
  {
   "cell_type": "markdown",
   "metadata": {},
   "source": [
    "## POPCORN HACK #1\n",
    "\n",
    "List at least one pro and con of SCSS and CSS"
   ]
  },
  {
   "cell_type": "markdown",
   "metadata": {},
   "source": [
    "Answer: You can nest styles in SCSS which is not a feature in base CSS without modifications like tailwind"
   ]
  },
  {
   "cell_type": "markdown",
   "metadata": {},
   "source": [
    "## Modular SCSS\n",
    "* Organizing your CSS code into smaller pieces\n",
    "    * better readability, reusability, and maintenance\n",
    "* Each piece (module) focuses on a specific part\n",
    "    * easier to work with, collaborate, and update. \n",
    "* Think of it like having separate folders for different types of styles, so your code is more organized and manageable.\n",
    "* To use it: Add _ before the filenames (e.g., _filename.scss) to create partials. Import partials into the main SCSS file without the _."
   ]
  },
  {
   "cell_type": "code",
   "execution_count": null,
   "metadata": {},
   "outputs": [],
   "source": [
    "// _header.scss\n",
    ".header {\n",
    "  // Styles for header component\n",
    "}\n",
    "\n",
    "// _footer.scss\n",
    ".footer {\n",
    "  // Styles for footer component\n",
    "}\n",
    "\n",
    "// main.scss\n",
    "@import 'header'; // No need for the underscore\n",
    "@import 'footer';\n",
    "\n",
    "// Styles for other components in the main file"
   ]
  },
  {
   "cell_type": "markdown",
   "metadata": {},
   "source": [
    "## Advanced SASS\n",
    "\n",
    "# Operators:\n",
    "- Developers use operators to perform dynamic calculations within stylesheets. For example, they can use mathematical operators (+, -, *, /) to dynamically adjust sizes, positions, or other style properties based on certain conditions or user interactions.\n",
    "\n",
    "# Conditional Statements:\n",
    "- Conditional statements like @if, @else, and @else if allow developers to apply different styles based on conditions. This is crucial for creating interactive interfaces where styles change dynamically in response to user actions or application state.\n",
    "\n",
    "# Loops:\n",
    "- Loops, such as @for and @each, enable developers to iterate through lists of values or apply styles multiple times. This is useful for creating repetitive elements in a dynamic way or for handling dynamic data structures.\n",
    "\n",
    "# Functions:\n",
    "- Functions in SASS enable developers to encapsulate complex logic and calculations. This is valuable for creating dynamic styles that respond to various inputs or conditions. For instance, developers can use functions to calculate and set styles based on user preferences or device characteristics.\n",
    "\n",
    "# Built-in Functions:\n",
    "- Developers leverage built-in functions for math, color manipulation, and string manipulation to dynamically generate styles. This can be especially useful in creating color schemes, responsive layouts, and other interactive design elements.\n",
    "\n",
    "# Extending & Inheritance:\n",
    "- Extending styles with @extend allows developers to share common styles among selectors, reducing redundancy. This is beneficial for creating consistent and easily maintainable styles. In interactive designs, maintaining consistency becomes crucial as styles may change dynamically."
   ]
  },
  {
   "cell_type": "markdown",
   "metadata": {},
   "source": [
    "## POPCORN HACK 2:\n",
    "\n",
    "What can you use operators for in SCSS?"
   ]
  },
  {
   "cell_type": "markdown",
   "metadata": {},
   "source": [
    "Answer: Operators like mathematical operations and conditional statements, help people to change looks dynamically based on certain conditions which creates modular base CSS styles. Othe built-in features like loops oir functions make th SCSS more efficient.further enhance the flexibility and efficiency of SCSS dynamically."
   ]
  },
  {
   "cell_type": "markdown",
   "metadata": {},
   "source": [
    "# How Does Html Use Sass?\n",
    "\n",
    "In HTML, you don't directly use Sass; instead, you use the compiled CSS generated from Sass.\n",
    "\n",
    "1. Intall SASS: Before you use SASS you need to install it."
   ]
  },
  {
   "cell_type": "code",
   "execution_count": null,
   "metadata": {
    "vscode": {
     "languageId": "html"
    }
   },
   "outputs": [],
   "source": [
    "npm install -g sass"
   ]
  },
  {
   "cell_type": "markdown",
   "metadata": {},
   "source": [
    "2. Create SASS file: write you SASS file code and be sure to give it the extension of \".scss\""
   ]
  },
  {
   "cell_type": "code",
   "execution_count": null,
   "metadata": {
    "vscode": {
     "languageId": "html"
    }
   },
   "outputs": [],
   "source": [
    "// Example sass\n",
    "\n",
    "$primary-color: #3498db;\n",
    "\n",
    "body {\n",
    "  background-color: $primary-color;\n",
    "}\n"
   ]
  },
  {
   "cell_type": "markdown",
   "metadata": {},
   "source": [
    "3. Compile SASS into CSS: Use installed SASS compiled to convert the .scss file into a .css file."
   ]
  },
  {
   "cell_type": "code",
   "execution_count": null,
   "metadata": {
    "vscode": {
     "languageId": "html"
    }
   },
   "outputs": [],
   "source": [
    "sass input.scss output.css"
   ]
  },
  {
   "cell_type": "markdown",
   "metadata": {},
   "source": [
    "4. Linked compiled CSS into the HTML/JS project code"
   ]
  },
  {
   "cell_type": "code",
   "execution_count": null,
   "metadata": {
    "vscode": {
     "languageId": "html"
    }
   },
   "outputs": [],
   "source": [
    "<html>\n",
    "<head>\n",
    "  <!--Meta data here -->\n",
    "\n",
    "  <link rel=\"stylesheet\" href=\"output.css\">\n",
    "\n",
    "  <title>Project Page</title>\n",
    "</head>\n",
    "<body>\n",
    " <!--HTML stuff-->\n",
    "</body>\n",
    "</html>"
   ]
  },
  {
   "cell_type": "markdown",
   "metadata": {},
   "source": [
    "# Home Work:"
   ]
  },
  {
   "cell_type": "markdown",
   "metadata": {},
   "source": [
    "1. Create a SCSS file with SASS code for a simple button, convert the file to a .css and link it into a new HTML file. The final output needs to be a button with a color of your choice"
   ]
  },
  {
   "cell_type": "code",
   "execution_count": null,
   "metadata": {},
   "outputs": [],
   "source": [
    "# Add Code Here"
   ]
  }
 ],
 "metadata": {
  "kernelspec": {
   "display_name": "Python 3",
   "language": "python",
   "name": "python3"
  },
  "language_info": {
   "codemirror_mode": {
    "name": "ipython",
    "version": 3
   },
   "file_extension": ".py",
   "mimetype": "text/x-python",
   "name": "python",
   "nbconvert_exporter": "python",
   "pygments_lexer": "ipython3",
   "version": "3.10.12"
  },
  "orig_nbformat": 4
 },
 "nbformat": 4,
 "nbformat_minor": 2
}
