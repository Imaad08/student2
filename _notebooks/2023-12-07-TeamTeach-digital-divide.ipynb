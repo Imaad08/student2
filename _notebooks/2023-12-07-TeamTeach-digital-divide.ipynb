{
 "cells": [
  {
   "cell_type": "markdown",
   "metadata": {},
   "source": [
    "---\n",
    "toc: true\n",
    "comments: false\n",
    "layout: post\n",
    "title: Digital Divide Team Teach\n",
    "type: tangibles\n",
    "---"
   ]
  },
  {
   "cell_type": "markdown",
   "metadata": {},
   "source": []
  },
  {
   "cell_type": "markdown",
   "metadata": {},
   "source": [
    "**Digital Divide**"
   ]
  },
  {
   "cell_type": "markdown",
   "metadata": {},
   "source": [
    "The digital divide is the gap between those with Internet access and those without it. This gap can be influenced by factors such as socio-economic status, geography, education, and income, creating inequalities in access to digital resources and opportunities."
   ]
  },
  {
   "cell_type": "markdown",
   "metadata": {},
   "source": [
    "<img src=\"https://www.eschoolnews.com/files/2023/03/digital-divide-workforce.jpeg\" alt=\"digital-divide-workforce\">"
   ]
  },
  {
   "cell_type": "markdown",
   "metadata": {},
   "source": [
    "### How Socioeconomic, Geographic, and Demographic Characteristics Affect Internet Access"
   ]
  },
  {
   "cell_type": "markdown",
   "metadata": {},
   "source": [
    "Socioeconomic Factors:\n",
    "- Income Gap: lower income individuals and families may face challenges to afford internet services\n",
    "- Employment Opportunities: internet access is important for searching jobs and overall professional opportunities\n",
    "\n",
    "Geographic Factors:\n",
    "- Rural vs. Urban Areas: rural areas lack the infrastructure needed to establish high-speed internet while urban areas have more quality access\n",
    "- Global Gap: there are disparities in internet access globally. More developed countries have a better foundation while less developed countries don't\n",
    "\n",
    "Demographic Factors:\n",
    "- Age: generations of younger people have more access to internet due to education and work than older generations\n",
    "- Gender: in some regions women have less access to the internet than men\n"
   ]
  },
  {
   "cell_type": "markdown",
   "metadata": {},
   "source": [
    "### Popcorn Hack 1"
   ]
  },
  {
   "cell_type": "markdown",
   "metadata": {},
   "source": [
    "How does the income gap affect different marginalized communities? Provide examples.\n",
    "\n",
    "Answer: Things like good education and healthcare can affect different communities based on income gap\n",
    "\n",
    "<button id=\"answer2\">Possible Answer</button>\n",
    "\n",
    "<script>\n",
    "    const answerButton2 = document.getElementById('answer2')\n",
    "\n",
    "answerButton2.addEventListener('click', (event) => {\n",
    "    answerButton2.innerHTML = 'Quality education, healthcare services, and digital resources.'\n",
    "});\n",
    "</script>"
   ]
  },
  {
   "cell_type": "markdown",
   "metadata": {},
   "source": [
    "### Digital Divide can Affect Individuals and Groups"
   ]
  },
  {
   "cell_type": "markdown",
   "metadata": {},
   "source": [
    "Healthcare Aspect:\n",
    "- individuals or families without access to the internet lose telemedicine services\n",
    "- Limited to only in-person consultation\n",
    "- limited access to online resources about health\n",
    "\n",
    "Cultural Aspect:\n",
    "- less access to information about other cultures\n",
    "- can lead to language barriers\n",
    "- can cause greater cultural gaps"
   ]
  },
  {
   "cell_type": "markdown",
   "metadata": {},
   "source": [
    "### Digital Divide raises isssues of Equity, Access, and Influence"
   ]
  },
  {
   "cell_type": "markdown",
   "metadata": {},
   "source": [
    "### 1. Equity:\n",
    "**Definition:** Equity in the Digital Divide context pertains to the fair distribution of resources and opportunities related to digital technologies.\n",
    "\n",
    "**Issues:**\n",
    "1. **Educational Disparities:**\n",
    "   - Limited access to digital resources can hinder educational opportunities, leaving some individuals at a disadvantage in terms of skills and knowledge.\n",
    "\n",
    "### 2. Access:\n",
    "**Definition:** Access involves the availability and affordability of digital technologies and the internet.\n",
    "\n",
    "**Issues:**\n",
    "1. **Geographical Disparities:**\n",
    "   - Rural areas may lack the necessary infrastructure, resulting in limited access to high-speed internet and digital devices.\n",
    "2. **Economic Barriers:**\n",
    "   - Affordability can be a significant hurdle for lower-income individuals and families, restricting their access to essential online services.\n",
    "\n",
    "### 3. Influence:\n",
    "**Definition:** Influence in the Digital Divide context refers to the power and control that individuals or groups have over digital technologies and the content available online.\n",
    "\n",
    "**Issues:**\n",
    "1. **Representation Bias:**\n",
    "   - Those with limited digital access may find themselves underrepresented or misrepresented in digital spaces, leading to biased perspectives.\n",
    "2. **Limited Participation:**\n",
    "   - Individuals with restricted access may have less influence in shaping the digital landscape, impacting their ability to contribute to online discourse.\n"
   ]
  },
  {
   "cell_type": "markdown",
   "metadata": {},
   "source": [
    "<img src=\"https://www.learning.com/wp-content/uploads/2022/02/Impacts-of-the-Digital-Divide.png\" alt=\"Impacts-of-the-Digital-Divide\">"
   ]
  },
  {
   "cell_type": "markdown",
   "metadata": {},
   "source": [
    "### Digital Divide is Affected by the actions of Individuals, Organizations, and Governments"
   ]
  },
  {
   "cell_type": "markdown",
   "metadata": {},
   "source": [
    "### Digital Divide: Impact of Individuals, Organizations, and Governments\n",
    "\n",
    "### 1. Individuals:\n",
    "**Role:**\n",
    "- Individuals play a crucial role in either contributing to or mitigating the Digital Divide.\n",
    "\n",
    "**Actions:**\n",
    "1. **Access Choices:**\n",
    "   - Individuals' decisions on purchasing and utilizing digital devices and internet services can either widen or narrow the digital gap.\n",
    "2. **Digital Literacy:**\n",
    "   - The level of digital literacy among individuals influences their ability to leverage technology, impacting their participation in the digital world.\n",
    "3. **Advocacy and Awareness:**\n",
    "   - Individuals advocating for digital inclusion and raising awareness about the importance of bridging the divide contribute to collective efforts.\n",
    "\n",
    "### 2. Organizations:\n",
    "**Role:**\n",
    "- Organizations, including businesses and non-profits, play a significant role in shaping digital access and opportunities.\n",
    "\n",
    "**Actions:**\n",
    "1. **Corporate Initiatives:**\n",
    "   - Companies implementing policies to provide digital access and skills training for employees contribute to narrowing the Digital Divide.\n",
    "2. **Community Engagement:**\n",
    "   - Organizations engaging with communities to provide resources, infrastructure, and education can positively impact digital inclusion.\n",
    "3. **Innovation and Affordability:**\n",
    "   - Organizations driving innovation in technology and making digital products more affordable contribute to reducing accessibility barriers.\n",
    "\n",
    "### 3. Governments:\n",
    "**Role:**\n",
    "- Governments have a central role in implementing policies and initiatives to address the Digital Divide at a systemic level.\n",
    "\n",
    "**Actions:**\n",
    "1. **Infrastructure Investment:**\n",
    "   - Governments investing in digital infrastructure, especially in underserved areas, can address geographical disparities.\n",
    "2. **Digital Inclusion Policies:**\n",
    "   - Implementing policies that ensure equitable access to digital resources and education for all citizens.\n",
    "3. **Regulation and Standards:**\n",
    "   - Governments can establish regulations and standards to ensure fair competition, affordability, and accessibility in the digital space.\n",
    "\n",
    "### Conclusion:\n",
    "- The Digital Divide is a complex issue influenced by the collective actions of individuals, organizations, and governments. Collaborative efforts from all sectors are essential to create a more inclusive digital society.\n"
   ]
  },
  {
   "cell_type": "markdown",
   "metadata": {},
   "source": [
    "### Popcorn Hack 2"
   ]
  },
  {
   "cell_type": "markdown",
   "metadata": {},
   "source": [
    " In the context of the Digital Divide, which factor contributes to representation bias, leading to underrepresented or misrepresented perspectives in digital spaces?\n",
    "- A is right because those who aren't participating are being misrepresented\n",
    "\n",
    "a) Limited Participation\n",
    "b) Trying to use the internet without a computer\n",
    "c) Unequal distribution of educational resources\n",
    "d) Lack of awareness about online information sources\n",
    "\n",
    "<button id=\"answer3\">Answer</button>\n",
    "\n",
    "<script>\n",
    "    const answerButton3 = document.getElementById('answer3')\n",
    "\n",
    "answerButton3.addEventListener('click', (event) => {\n",
    "    answerButton3.innerHTML = \"A is the correct answer, people who don't participate are not being represented.\"\n",
    "});\n",
    "</script>"
   ]
  },
  {
   "cell_type": "markdown",
   "metadata": {},
   "source": [
    "### Homework Hack 1"
   ]
  },
  {
   "cell_type": "markdown",
   "metadata": {},
   "source": [
    "How has the digital divide been bettered/worsened by recent national or global events? How may the digital divide get worse in the future without intervention?\n",
    "\n",
    "Answer: The COVID-19 pandemic exploited existing digital divides. While many people smoothly transitioned to remote work and online learning, those without reliable internet access and proper devices faced significant challenges and were cut off from the world."
   ]
  },
  {
   "cell_type": "markdown",
   "metadata": {},
   "source": [
    "### Homework Hack 2"
   ]
  },
  {
   "cell_type": "markdown",
   "metadata": {},
   "source": [
    "Give some examples of how individuals, organizations, and the government can all help lessen the digital divide.\n",
    "\n",
    "Answer: Individuals can donate old and functioning devices to serve underprivlaged people. Governments can invest in the development of digital infrastructure, especially in rural and underserved areas, to ensure widespread access to high-speed internet. Organizations can collaborate with governments to develop and do programs that address digital divides, such as providing affordable internet access in underprivlaged areas."
   ]
  }
 ],
 "metadata": {
  "language_info": {
   "name": "python"
  }
 },
 "nbformat": 4,
 "nbformat_minor": 2
}
