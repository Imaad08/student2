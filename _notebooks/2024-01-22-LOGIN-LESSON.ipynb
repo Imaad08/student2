{
 "cells": [
  {
   "cell_type": "markdown",
   "metadata": {},
   "source": [
    "---\n",
    "title: Login Lesson\n",
    "description: SASS + JavaScript Login/Signup pages\n",
    "permalink: lesson\n",
    "layout: post\n",
    "type: hacks\n",
    "courses: { csa: {week: 18} }\n",
    "---"
   ]
  },
  {
   "cell_type": "markdown",
   "metadata": {},
   "source": [
    "# Login and Sign Up Page Lesson\n",
    "\n",
    "This lesson is about creating the layout for a login and sign-up page using HTML and SASS (a CSS preprocessor).\n",
    "\n",
    "# Sign up/Login Wireframes\n",
    "\n",
    "Wireframes are like blueprints for web pages. They show the structure of the page without any design elements like color or images.\n",
    "\n",
    "## Common HTML Elements Needed\n",
    "\n",
    "Here's a list of HTML elements you'll typically need for a login/sign-up page and their purpose:\n",
    "\n",
    "- Container: This is a 'div' element that acts like a box or a wrapper for other elements. It's used to group elements together and control their layout on the page.\n",
    "\n",
    "- Card: Another 'div' element, but this one is like a card on the screen that holds related items, such as input fields and buttons for the login form.\n",
    "\n",
    "- Username and Password Input Fields: These are 'input' elements where users type their username and password.\n",
    "\n",
    "## Needed HTML Properties\n",
    "\n",
    "Each HTML element can have various properties that define its behavior and appearance:\n",
    "\n",
    "- class: Think of this as a tag to categorize elements. It helps you apply specific styling to groups of elements using CSS or SASS.\n",
    "- id: This is a unique identifier for an element, which you can use in JavaScript to find and manipulate that specific element.\n",
    "\n",
    "- Input Fields:\n",
    "    - placeholder: This property shows a light text inside the input field before the user types anything. It gives users a hint about what information is expected (like \"Enter your email\").\n",
    "\n",
    "- Buttons:\n",
    "    - onclick: This is an attribute that tells the browser to execute a JavaScript function when the button is clicked.\n",
    "\n",
    "    - Note: 'onclick' can be replaced with JavaScript event listeners. Event listeners are more powerful and flexible, but 'onclick' is simpler for beginners.\n",
    "\n",
    "# Bare Code\n",
    "\n",
    "Here's an example of the bare HTML code for a login form:\n",
    "\n",
    "```html\n",
    "<div class=\"CONTAINER\">\n",
    "    <!-- This is the card that holds the login fields and button -->\n",
    "    <div class=\"CARD\">\n",
    "        <h3>Login</h3> <!-- The title of the form -->\n",
    "        <!-- The input field for the email, with a placeholder for user guidance -->\n",
    "        <input id=\"signInEmailInput\" class=\"input\" placeholder=\"Email\">\n",
    "        <!-- The input field for the password -->\n",
    "        <input id=\"signInPasswordInput\" class=\"input\" placeholder=\"Password\">\n",
    "        <!-- The login button with an onclick attribute that calls the login_user() function -->\n",
    "        <button class=\"signInButton\" onclick=\"login_user()\">Login</button>\n",
    "    </div>\n",
    "</div>"
   ]
  },
  {
   "cell_type": "markdown",
   "metadata": {},
   "source": [
    "<div class=\"CONTAINER\">\n",
    "    <div class=\"CARD\n",
    "    \">\n",
    "        <h3>Login</h3>\n",
    "        <input id=\"signInEmailInput\" class=\"input\" placeholder=\"Email\">\n",
    "        <input id=\"signInPasswordInput\" class=\"input\" placeholder=\"Password\">\n",
    "        <button class=\"signInButton\" onclick=\"login_user()\">Login</button>\n",
    "    </div>\n",
    "</div>"
   ]
  },
  {
   "cell_type": "markdown",
   "metadata": {},
   "source": [
    "<br>\n",
    "\n",
    "# SASS\n",
    "- SASS is used to design the wireframe\n",
    "- Add styling to make log in page more apealing\n",
    "\n",
    "## Code without SASS\n",
    "![no sass](https://raw.githubusercontent.com/F1nnC/Login-Lesson/main/images/mortSASS.png)\n",
    "\n",
    "## Code with SASS\n",
    "- The HTML structure shown is for a login page. It consists of a main container that centers the card on the page. Inside the card, there are div elements for the email and password input fields and a container for the buttons.\n",
    "\n",
    "# Copy this code into your custom-styles.scss\n",
    "```scss\n",
    "// Define color palettes using variables for easy reference and to maintain consistency.\n",
    "$color1: #5D737E; // A cool, muted blue-grey.\n",
    "$color2: #64B6AC; // A cool, calming teal.\n",
    "$color3: #D0F4DE; // A light, minty green that adds a fresh feel.\n",
    "$color4: #1B4332; // A dark, forest green for depth.\n",
    "// The warm color palette adds a contrasting set of hues.\n",
    "$color5: #FFB447; // A bright, sunny orange.\n",
    "$color6: #FF3E4D; // A warm, vibrant red.\n",
    "$color7: #FF1E56; // A deep, attention-grabbing pink.\n",
    "$color8: #FFBD69; // A soft, warm peach.\n",
    "\n",
    "// Animations for background color changes using keyframes.\n",
    "@keyframes fade1 {\n",
    "    // This creates a smooth transition between colors of the cool palette over time.\n",
    "    0%, 100% { background-color: $color1 }\n",
    "    25% { background-color: $color2 }\n",
    "    50% { background-color: $color3 }\n",
    "    75% { background-color: $color4 }\n",
    "}\n",
    "  \n",
    "@keyframes fade2 {\n",
    "    // This creates a smooth transition between colors of the warm palette over time.\n",
    "    0%, 100% { background-color: $color5 }\n",
    "    25% { background-color: $color6 }\n",
    "    50% { background-color: $color7 }\n",
    "    75% { background-color: $color8 }\n",
    "}\n",
    "\n",
    "// Styles for the login container.\n",
    ".login-container {\n",
    "    display: flex; // Use flexbox for layout to center the card.\n",
    "    justify-content: center; // Center the card horizontally.\n",
    "    align-items: center; // Center the card vertically.\n",
    "    color: black; // Set the text color to black.\n",
    "    \n",
    "    .card {\n",
    "        width: 300px; // Set a fixed width for the card.\n",
    "        padding: 20px; // Add space inside the card.\n",
    "        border-radius: 10px; // Rounded corners for the card.\n",
    "        box-shadow: 0px 0px 10px rgba(0, 0, 0, 0.1); // Subtle shadow for depth.\n",
    "        animation: fade1 5s ease infinite; // Apply the cool color fading animation.\n",
    "    }\n",
    "    .card2 {\n",
    "        // Styles for a second card, if present, with a warm color fading animation.\n",
    "        width: 300px; // Same fixed width as the first card.\n",
    "        padding: 20px; // Same padding as the first card.\n",
    "        border-radius: 10px; // Same rounded corners as the first card.\n",
    "        box-shadow: 0px 0px 10px rgba(0, 0, 0, 0.1); // Same shadow for consistency.\n",
    "        animation: fade2 5s ease infinite; // Apply the warm color fading animation.\n",
    "    }\n",
    "    h3 {\n",
    "        margin-bottom: 20px; // Space below the header for visual separation.\n",
    "    }\n",
    "    .input {\n",
    "        width: 100%; // Make the input fields full width of the card.\n",
    "        padding: 10px; // Padding inside the input fields for better text visibility.\n",
    "        margin-bottom: 10px; // Space below each input field.\n",
    "    }\n",
    "}\n"
   ]
  },
  {
   "cell_type": "markdown",
   "metadata": {},
   "source": [
    "# overview of userDbRequest function (part 1 of the login/signup puzzle)\n",
    "\n",
    "### what does this even do?\n",
    "\n",
    "- primary function is to add data to our frontend html fragment, which will store our data.\n",
    "- this would be creating data in our frontend database view which users can see with authentication aka login. (part 2)"
   ]
  },
  {
   "cell_type": "markdown",
   "metadata": {},
   "source": [
    "<!-- HTML table fragment for page -->\n",
    "<table>\n",
    "  <thead>\n",
    "  <tr>\n",
    "    <th>Name</th>\n",
    "    <th>ID</th>\n",
    "    <th>Age</th>\n",
    "  </tr>\n",
    "  </thead>\n",
    "  <tbody id=\"result\">\n",
    "    <!-- javascript generated data -->\n",
    "  </tbody>\n",
    "</table>"
   ]
  },
  {
   "cell_type": "markdown",
   "metadata": {},
   "source": [
    "this html fragment represents our table which we fill with data using our function."
   ]
  },
  {
   "cell_type": "code",
   "execution_count": null,
   "metadata": {
    "vscode": {
     "languageId": "javascript"
    }
   },
   "outputs": [],
   "source": [
    "function userDbRequest() {\n",
    "\n",
    "    // prepare HTML result container for new output\n",
    "    const resultContainer = document.getElementById(\"result\");\n",
    "\n",
    "    // set options for cross origin header request\n",
    "    const options = {\n",
    "      method: 'GET', // *GET, POST, PUT, DELETE, etc.\n",
    "      mode: 'cors', // no-cors, *cors, same-origin\n",
    "      cache: 'default', // *default, no-cache, reload, force-cache, only-if-cached\n",
    "      credentials: 'include', // include, *same-origin, omit\n",
    "      headers: {\n",
    "        'Content-Type': 'application/json',\n",
    "      },\n",
    "    };\n",
    "\n",
    "    fetch(\"http://localhost:8085/api/person/\", options)\n",
    "      .then(response => {\n",
    "        if (response.status !== 200) {\n",
    "            const errorMsg = 'Database response error: ' + response.status;\n",
    "            console.log(errorMsg);\n",
    "            const tr = document.createElement(\"tr\");\n",
    "            const td = document.createElement(\"td\");\n",
    "            td.innerHTML = errorMsg;\n",
    "            tr.appendChild(td);\n",
    "            resultContainer.appendChild(tr);\n",
    "            return;\n",
    "        }\n",
    "        // valid response will contain json data\n",
    "        response.json().then(data => {\n",
    "            console.log(data);\n",
    "            for (const row of data) {\n",
    "              // tr and td build out for each row\n",
    "              const tr = document.createElement(\"tr\");\n",
    "              const name = document.createElement(\"td\");\n",
    "              const id = document.createElement(\"td\");\n",
    "              const age = document.createElement(\"td\");\n",
    "              // data is specific to the API\n",
    "              name.innerHTML = row.name;\n",
    "              id.innerHTML = row.email;\n",
    "              age.innerHTML = row.age;\n",
    "              // this build td's into tr\n",
    "              tr.appendChild(name);\n",
    "              tr.appendChild(id);\n",
    "              tr.appendChild(age);\n",
    "              // add HTML to container\n",
    "              resultContainer.appendChild(tr);\n",
    "            }\n",
    "        })\n",
    "    })\n",
    "    // catch fetch errors (ie ACCESS to server blocked)\n",
    "    .catch(err => {\n",
    "      console.error(err);\n",
    "      const tr = document.createElement(\"tr\");\n",
    "      const td = document.createElement(\"td\");\n",
    "      td.innerHTML = err + \": \" + url;\n",
    "      tr.appendChild(td);\n",
    "      resultContainer.appendChild(tr);\n",
    "    });\n",
    "  }"
   ]
  },
  {
   "cell_type": "markdown",
   "metadata": {},
   "source": [
    "# popcorn hack\n",
    "- make sure you understand how you can adapt this to your project. What role with userDbRequest() play in your project? How will the row and column values be changed for your specific purposes?"
   ]
  },
  {
   "cell_type": "markdown",
   "metadata": {},
   "source": [
    "# LOG IN"
   ]
  },
  {
   "cell_type": "markdown",
   "metadata": {},
   "source": [
    "# overview of user authentication aka how to do login (part 2 of the login/signup puzzle)\n",
    "\n",
    "### what do we need to do for login?\n",
    "\n",
    "1. create function that sends authentication request to backend\n",
    "2. create backend methods to only allow authenticated users to send GET request to backend when accessing the database on frontend\n",
    "3. implement those backend methods into frontend\n",
    "\n",
    "\n",
    "# figure 1-A: function login_user in frontend"
   ]
  },
  {
   "cell_type": "code",
   "execution_count": 1,
   "metadata": {
    "vscode": {
     "languageId": "javascript"
    }
   },
   "outputs": [
    {
     "ename": "SyntaxError",
     "evalue": "invalid syntax (2929252432.py, line 1)",
     "output_type": "error",
     "traceback": [
      "\u001b[0;36m  Cell \u001b[0;32mIn[1], line 1\u001b[0;36m\u001b[0m\n\u001b[0;31m    // This function is called when the user clicks the login button.\u001b[0m\n\u001b[0m    ^\u001b[0m\n\u001b[0;31mSyntaxError\u001b[0m\u001b[0;31m:\u001b[0m invalid syntax\n"
     ]
    }
   ],
   "source": [
    "// This function is called when the user clicks the login button.\n",
    "function login_user() {\n",
    "    // STEP ONE: PREPARE THE REQUEST\n",
    "\n",
    "    // Create a Headers object to set the type of content we're sending, which is JSON.\n",
    "    var myHeaders = new Headers();\n",
    "    myHeaders.append(\"Content-Type\", \"application/json\");\n",
    "\n",
    "    // Collect user input from the login form fields for email and password.\n",
    "    var raw = JSON.stringify({\n",
    "        \"email\": document.getElementById(\"signInEmailInput\").value,\n",
    "        \"password\": document.getElementById(\"signInPasswordInput\").value\n",
    "\n",
    "        // Uncomment the following lines for quick testing with pre-defined credentials.\n",
    "        //\"email\": \"test@gmail.com\",\n",
    "        //\"password\": \"123Lebron!\"\n",
    "    });\n",
    "\n",
    "    // Print the collected data to the console for debugging purposes.\n",
    "    console.log(raw);\n",
    "\n",
    "    // Set up the options for the fetch request, including method, headers, and body.\n",
    "    var requestOptions = {\n",
    "        method: 'POST', // The method is POST because we're sending data.\n",
    "        headers: myHeaders, // Attach the headers, including our content type.\n",
    "        credentials: 'include', // Include credentials in case of cookies, etc.\n",
    "        body: raw, // Attach the user input data as the request body.\n",
    "        redirect: 'follow' // Follow any redirects automatically.\n",
    "    };\n",
    "\n",
    "    // STEP TWO: MAKE THE REQUEST TO THE SERVER\n",
    "\n",
    "    // Send the request to the backend to authenticate the user.\n",
    "    fetch(\"http://localhost:8085/authenticate\", requestOptions)\n",
    "    .then(response => {\n",
    "        // If the response is not OK, handle the different kinds of login errors.\n",
    "        if (!response.ok) {\n",
    "            const errorMsg = 'Login error: ' + response.status;\n",
    "            console.log(errorMsg);\n",
    "\n",
    "            // Switch statement to handle different HTTP status codes.\n",
    "            switch (response.status) {\n",
    "                case 401:\n",
    "                    // Status 401 means unauthorized, indicating wrong credentials.\n",
    "                    alert(\"Incorrect username or password\");\n",
    "                    break;\n",
    "                case 403:\n",
    "                    // Status 403 means forbidden, indicating lack of permission.\n",
    "                    alert(\"Access forbidden. You do not have permission to access this resource.\");\n",
    "                    break;\n",
    "                case 404:\n",
    "                    // Status 404 means not found, indicating the user doesn't exist.\n",
    "                    alert(\"User not found. Please check your credentials.\");\n",
    "                    break;\n",
    "                // More cases can be added for other HTTP status codes as needed.\n",
    "                default:\n",
    "                    // A default case to handle any other errors.\n",
    "                    alert(\"Login failed. Please try again later.\");\n",
    "            }\n",
    "\n",
    "            // Reject the promise if there is an error.\n",
    "            return Promise.reject('Login failed');\n",
    "        }\n",
    "        // If the response is OK, convert it from JSON to a text format.\n",
    "        return response.text()\n",
    "    })\n",
    "    .then(result => {\n",
    "        // If the login is successful, print the result to the console.\n",
    "        console.log(result);\n",
    "        // Redirect the user to their account page.\n",
    "        window.location.href = \"http://127.0.0.1:4100/Login-Lesson/account\";\n",
    "    })\n",
    "    .catch(error => {\n",
    "        // If there is a problem during the fetch or during processing, log the error.\n",
    "        console.error('Error during login:', error);\n",
    "    });\n",
    "}"
   ]
  },
  {
   "cell_type": "markdown",
   "metadata": {},
   "source": [
    "# what does it do?\n",
    "\n",
    "this function sends an authentication request to backend, which then redirects to our database page.\n",
    "\n",
    "the authentication request in question is located in spring_portfolio/mvc/jwt/JwtApiController.java \n",
    "\n",
    "FOR REFERENCE:"
   ]
  },
  {
   "cell_type": "code",
   "execution_count": null,
   "metadata": {},
   "outputs": [],
   "source": [
    "@PostMapping(\"/authenticate\")\n",
    "\tpublic ResponseEntity<?> createAuthenticationToken(@RequestBody Person authenticationRequest) throws Exception {\n",
    "\t\tauthenticate(authenticationRequest.getEmail(), authenticationRequest.getPassword());\n",
    "\t\tfinal UserDetails userDetails = personDetailsService\n",
    "\t\t\t\t.loadUserByUsername(authenticationRequest.getEmail());\n",
    "\t\tfinal String token = jwtTokenUtil.generateToken(userDetails);\n",
    "\t\tfinal ResponseCookie tokenCookie = ResponseCookie.from(\"jwt\", token)\n",
    "\t\t\t.httpOnly(true)\n",
    "\t\t\t.secure(true)\n",
    "\t\t\t.path(\"/\")\n",
    "\t\t\t.maxAge(3600)\n",
    "\t\t\t.sameSite(\"None; Secure\")\n",
    "\t\t\t// .domain(\"example.com\") // Set to backend domain\n",
    "\t\t\t.build();\n",
    "\t\treturn ResponseEntity.ok().header(HttpHeaders.SET_COOKIE, tokenCookie.toString()).build();\n",
    "\t}\n",
    "\n",
    "\tprivate void authenticate(String username, String password) throws Exception {\n",
    "\t\ttry {\n",
    "\t\t\tauthenticationManager.authenticate(new UsernamePasswordAuthenticationToken(username, password));\n",
    "\t\t} catch (DisabledException e) {\n",
    "\t\t\tthrow new Exception(\"USER_DISABLED\", e);\n",
    "\t\t} catch (BadCredentialsException e) {\n",
    "\t\t\tthrow new Exception(\"INVALID_CREDENTIALS\", e);\n",
    "\t\t} catch (Exception e) {\n",
    "\t\t\tthrow new Exception(e);\n",
    "\t\t}\n",
    "\t}\n"
   ]
  },
  {
   "cell_type": "markdown",
   "metadata": {},
   "source": [
    "this is the authentication method we are calling to, which provides us with the cookie we need for access to our database.\n",
    "\n",
    "# figure 1-B: function user_data in frontend db"
   ]
  },
  {
   "cell_type": "code",
   "execution_count": null,
   "metadata": {
    "vscode": {
     "languageId": "javascript"
    }
   },
   "outputs": [],
   "source": [
    "\n",
    "function fetchUserData() {\n",
    "    var requestOptions = {\n",
    "      method: 'GET',\n",
    "      mode: 'cors',\n",
    "      cache: 'default',\n",
    "      credentials: 'include',\n",
    "    };\n",
    "\n",
    "    fetch(\"http://localhost:8085/api/person/jwt\", requestOptions)\n",
    "      .then(response => {\n",
    "              if (!response.ok) {\n",
    "                  const errorMsg = 'Login error: ' + response.status;\n",
    "                  console.log(errorMsg);\n",
    "\n",
    "                  switch (response.status) {\n",
    "                      case 401:\n",
    "                          alert(\"Please log into or make an account\");\n",
    "                          window.location.href = \"http://127.0.0.1:4100/Login-Lesson/loginSignup\";\n",
    "                          break;\n",
    "                      case 403:\n",
    "                          alert(\"Access forbidden. You do not have permission to access this resource.\");\n",
    "                          break;\n",
    "                      case 404:\n",
    "                          alert(\"User not found. Please check your credentials.\");\n",
    "                          break;\n",
    "                      // Add more cases for other status codes as needed\n",
    "                      default:\n",
    "                          alert(\"Login failed. Please try again later.\");\n",
    "                  }\n",
    "\n",
    "                  return Promise.reject('Login failed');\n",
    "              }\n",
    "              return response.json();\n",
    "              // Success!!!\n",
    "          })\n",
    "      .then(data => {\n",
    "        // Display user data above the table\n",
    "        const userDataContainer = document.getElementById(\"userData\");\n",
    "        userDataContainer.innerHTML = `\n",
    "          <img src=\"/Login-Lesson/images/defaultUser.png\" width=\"250\" height=\"250\">\n",
    "          <h1><strong>${data.name}</strong></h1>\n",
    "          <p>Email: ${data.email}</p>\n",
    "          <p>Age: ${data.age}</p>\n",
    "          <p>ID: ${data.id}</p>\n",
    "          <button onclick=\"signOut()\">Sign Out</button>\n",
    "        `;\n",
    "        console.log(data);\n",
    "      })\n",
    "      .catch(error => console.log('error', error));\n",
    "}"
   ]
  },
  {
   "cell_type": "markdown",
   "metadata": {},
   "source": [
    "# what does it do?\n",
    "\n",
    "this function resides in our database display on our frontend, and does 2 things\n",
    "\n",
    "1. access our jwt method and check for authentication, then get the database if so\n",
    "2. handle errors for when authentication fails\n",
    "\n",
    "# backend method"
   ]
  },
  {
   "cell_type": "code",
   "execution_count": null,
   "metadata": {},
   "outputs": [],
   "source": [
    "@GetMapping(\"/jwt\")\n",
    "@PreAuthorize(\"isAuthenticated()\")  // Restrict access to authenticated users\n",
    "public ResponseEntity<Person> getAuthenticatedPersonData() {\n",
    "    String username = SecurityContextHolder.getContext().getAuthentication().getName();\n",
    "    Person person = repository.findByEmail(username);  // Retrieve data for the authenticated user\n",
    "    return new ResponseEntity<>(person, HttpStatus.OK);\n",
    "}"
   ]
  },
  {
   "cell_type": "markdown",
   "metadata": {},
   "source": [
    "# so how do I add login?\n",
    "\n",
    "1. create a login function on the frontend which can send authentication request to backend. make sure it passes user input as variables for the authentication request\n",
    "2. in database page, create method which calls a get method that checks for authentication first before displaying the data.\n",
    "3. add error handling for when our authentication fails"
   ]
  },
  {
   "cell_type": "markdown",
   "metadata": {},
   "source": [
    "# SIGN UP"
   ]
  },
  {
   "cell_type": "markdown",
   "metadata": {},
   "source": [
    "## Steps\n",
    "1. Collect user input\n",
    "2. Put user input into a url as parameters\n",
    "3. Send POST to backend to make user\n",
    "3. (RECOMMENDED) Redirect/Refresh page"
   ]
  },
  {
   "cell_type": "code",
   "execution_count": null,
   "metadata": {
    "vscode": {
     "languageId": "javascript"
    }
   },
   "outputs": [],
   "source": [
    "function signup_user() {\n",
    "    var requestOptions = {\n",
    "        method: 'POST',\n",
    "        mode: 'cors',\n",
    "        cache: 'no-cache'\n",
    "    };\n",
    "\n",
    "    // Collect user input\n",
    "    let fetchName = document.getElementById(\"signUpNameInput\").value;\n",
    "    let fetchEmail = document.getElementById(\"signUpEmailInput\").value;\n",
    "    let fetchPassword = document.getElementById(\"signUpPasswordInput\").value;\n",
    "    let fetchDob = document.getElementById(\"signUpDobInput\").value;\n",
    "\n",
    "    // Posting in backend only works if user input is sent as query parameters\n",
    "    let requestURL = `http://localhost:8085/api/person/post?email=${fetchEmail}&password=${fetchPassword}&name=${fetchName}&dob=${fetchDob}`;\n",
    "    console.log(requestURL)\n",
    "\n",
    "    fetch(requestURL, requestOptions)\n",
    "    .then(response => {\n",
    "            if (!response.ok) {\n",
    "                return response.text().then(errorMsg => {\n",
    "                    alert('Error: ' + errorMsg);\n",
    "                });\n",
    "            }\n",
    "            // Success!!!\n",
    "            alert(\"Signup Complete\");\n",
    "            // Redirect to Database location\n",
    "            location.reload();\n",
    "        })\n",
    "        .catch(error => {\n",
    "            alert('An unexpected error occurred: ' + error.message);\n",
    "        });\n",
    "}"
   ]
  },
  {
   "cell_type": "markdown",
   "metadata": {},
   "source": [
    "# Notable Backend Code"
   ]
  },
  {
   "cell_type": "markdown",
   "metadata": {},
   "source": [
    "## Security"
   ]
  },
  {
   "cell_type": "code",
   "execution_count": null,
   "metadata": {},
   "outputs": [],
   "source": [
    ".authorizeHttpRequests(auth -> auth\n",
    "\t.requestMatchers(\"/authenticate\").permitAll()\n",
    "    .requestMatchers(\"/mvc/person/update/**\", \"/mvc/person/delete/**\").authenticated()\n",
    "\n",
    "    // .requestMatchers(\"/api/person/post/**\", \"/api/person/delete/**\").authenticated()\n",
    "    // Removed so anyone without a cookie can post\n",
    "\n",
    "    .requestMatchers(\"/api/person/delete/**\").authenticated()\n",
    "    .requestMatchers(\"/**\").permitAll()\n",
    ")"
   ]
  },
  {
   "cell_type": "markdown",
   "metadata": {},
   "source": [
    "# Endpoint Mapping"
   ]
  },
  {
   "cell_type": "code",
   "execution_count": null,
   "metadata": {},
   "outputs": [],
   "source": [
    "@PostMapping( \"/post\")\n",
    "// @RequestParam is why user input needs to be a parameter\n",
    "public ResponseEntity<Object> postPerson(@RequestParam(\"email\") String email,\n",
    "                                         @RequestParam(\"password\") String password,\n",
    "                                         @RequestParam(\"name\") String name,\n",
    "                                         @RequestParam(\"dob\") String dobString) {\n",
    "    Date dob;\n",
    "    // dob handling\n",
    "    try {\n",
    "        dob = new SimpleDateFormat(\"MM-dd-yyyy\").parse(dobString);\n",
    "    } catch (Exception e) {\n",
    "        return new ResponseEntity<>(dobString +\" error; try MM-dd-yyyy\", HttpStatus.BAD_REQUEST);\n",
    "    }\n",
    "    // A person object WITHOUT ID will create a new record with default roles as student\n",
    "    Person person = new Person(email, password, name, dob);\n",
    "    personDetailsService.save(person);\n",
    "    return new ResponseEntity<>(email +\" is created successfully\", HttpStatus.CREATED);\n",
    "}"
   ]
  }
 ],
 "metadata": {
  "kernelspec": {
   "display_name": "Python 3",
   "language": "python",
   "name": "python3"
  },
  "language_info": {
   "codemirror_mode": {
    "name": "ipython",
    "version": 3
   },
   "file_extension": ".py",
   "mimetype": "text/x-python",
   "name": "python",
   "nbconvert_exporter": "python",
   "pygments_lexer": "ipython3",
   "version": "3.9.6"
  }
 },
 "nbformat": 4,
 "nbformat_minor": 2
}
