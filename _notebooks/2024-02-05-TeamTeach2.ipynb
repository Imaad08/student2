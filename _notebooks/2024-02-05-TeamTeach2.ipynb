{
 "cells": [
  {
   "cell_type": "markdown",
   "metadata": {},
   "source": [
    "---\n",
    "toc: true\n",
    "comments: false\n",
    "layout: post\n",
    "title: Deployment Team Teach\n",
    "type: tangibles\n",
    "---"
   ]
  },
  {
   "cell_type": "markdown",
   "metadata": {},
   "source": [
    "**Deployment**"
   ]
  },
  {
   "cell_type": "markdown",
   "metadata": {},
   "source": [
    "Creating an AWS EC2 Instance:\n",
    "\n",
    "1. Navigate to the AWS Management Console and log in to your AWS account.\n",
    "2. Go to the EC2 Dashboard and click on the \"Launch Instance\" button.\n",
    "3. Choose an Amazon Machine Image (AMI) based on your requirements, such as Amazon Linux, Ubuntu, or any other supported OS.\n",
    "4. Select an instance type based on your application's needs, considering factors like CPU, memory, and storage.\n",
    "5. Configure instance details, such as the number of instances, network settings, and IAM role if required.\n",
    "6. Add storage volumes as needed for your application's data.\n",
    "7. Configure security groups to control inbound and outbound traffic to the instance.\n",
    "8. Review and launch the instance."
   ]
  },
  {
   "cell_type": "markdown",
   "metadata": {},
   "source": [
    "\n",
    "Understanding Docker:\n",
    "\n",
    "Employed for hosting a Web Application. A Docker container sets up an environment housing the Web Application code along with all the necessary dependencies (like requirements.txt for Python). Docker stands as an open platform facilitating the development, transportation, and execution of applications."
   ]
  },
  {
   "cell_type": "markdown",
   "metadata": {},
   "source": [
    "Understanding CORS and its Importance:\n",
    "\n",
    "CORS (Cross-Origin Resource Sharing) is a security mechanism that allows web servers to specify which origins (domains) are permitted to access the resources on a web page.\n",
    "It's crucial for security because it prevents malicious websites from accessing sensitive data on other websites.\n",
    "Without CORS, browsers restrict cross-origin requests, meaning JavaScript on one domain cannot make requests to another domain."
   ]
  },
  {
   "cell_type": "markdown",
   "metadata": {},
   "source": [
    "CORS Configuration for Localhost and Deployment:\n",
    "\n",
    "Localhost Support: During development, allow requests from localhost on the port your frontend runs (e.g., http://localhost:3000).\n",
    "\n",
    "Deployment Verification: For production, update CORS to permit requests from the deployed domain(s) (e.g., https://example.com). Ensure secure settings and test thoroughly."
   ]
  },
  {
   "cell_type": "markdown",
   "metadata": {},
   "source": [
    "**Popcorn Hack** \n",
    " \n",
    " Question 1: Which of the following is a security mechanism that allows web servers to specify which origins are permitted to access the resources on a web page?\n",
    "\n",
    "A: \"HTTPS\"\n",
    "B: \"SSL\"\n",
    "C: \"CORS\"\n",
    "D: \"DNS\"\n",
    "\n",
    "<button id=\"answer3\">Answer</button>\n",
    "\n",
    "<script>\n",
    "    const answerButton3 = document.getElementById('answer3')\n",
    "\n",
    "answerButton3.addEventListener('click', (event) => {\n",
    "    answerButton3.innerHTML = \"C is the correct answer.\"\n",
    "});\n",
    "</script>"
   ]
  },
  {
   "cell_type": "markdown",
   "metadata": {},
   "source": [
    "Purpose of DNS in Web Application Deployment:\n",
    "\n",
    "DNS (Domain Name System) acts like a phonebook for the internet, translating domain names into IP addresses.\n",
    "In web application deployment, DNS plays a crucial role in directing users to the correct servers hosting the application.\n",
    "It allows users to access your web application by typing a human-readable domain name (e.g., example.com) instead of remembering complex IP addresses.\n",
    "\n",
    "ex: Amazon Route 53\n",
    "- Part of AWS ecosystem offering scalable and highly available DNS services with advanced routing and traffic management features."
   ]
  },
  {
   "cell_type": "markdown",
   "metadata": {},
   "source": [
    "Nginx:\n",
    "\n",
    "Nginx serves as a crucial component in the process of locating and directing requests to a web application hosted on a server. It acts as open-source software specializing in functions such as web serving, reverse proxying, caching, load balancing, media streaming, and other related tasks."
   ]
  },
  {
   "cell_type": "markdown",
   "metadata": {},
   "source": [
    " **Popcorn Hack**\n",
    " \n",
    " Question 2: What is the purpose of DNS (Domain Name System) in web application deployment?\n",
    "\n",
    "A: \"To encrypt data transmitted between a user's browser and the web server\",\n",
    "\n",
    "B: \"To specify which origins are permitted to access the resources on a web page\",\n",
    "\n",
    "C: \"To direct users to the correct servers hosting the application by translating domain names into IP addresses\",\n",
    "\n",
    "D: \"To manage and automate the provisioning of virtual servers on cloud platforms\"\n",
    "\n",
    "<button id=\"answer3\">Answer</button>\n",
    "\n",
    "<script>\n",
    "    const answerButton3 = document.getElementById('answer3')\n",
    "\n",
    "answerButton3.addEventListener('click', (event) => {\n",
    "    answerButton3.innerHTML = \"C is the correct answer.\"\n",
    "});\n",
    "</script>"
   ]
  },
  {
   "cell_type": "markdown",
   "metadata": {},
   "source": [
    "Importance of HTTPS and SSL Certificates:\n",
    "\n",
    "HTTPS (Hypertext Transfer Protocol Secure) encrypts data transmitted between a user's browser and the web server, ensuring privacy and security.\n",
    "SSL (Secure Sockets Layer) certificates authenticate the identity of websites and establish a secure connection.\n",
    "HTTPS and SSL certificates are essential for protecting sensitive information, such as login credentials, payment details, and personal data, from interception or tampering by malicious actors."
   ]
  },
  {
   "cell_type": "markdown",
   "metadata": {},
   "source": [
    "Installing Certbot on the EC2 Instance:"
   ]
  },
  {
   "cell_type": "markdown",
   "metadata": {},
   "source": [
    "Certbot is a free, open-source software tool used for automating the process of obtaining and renewing SSL/TLS certificates."
   ]
  },
  {
   "cell_type": "code",
   "execution_count": null,
   "metadata": {
    "vscode": {
     "languageId": "sql"
    }
   },
   "outputs": [],
   "source": [
    "sudo apt update\n",
    "sudo apt install certbot python3-certbot-nginx"
   ]
  },
  {
   "cell_type": "markdown",
   "metadata": {},
   "source": [
    "Issuing and Configuring SSL Certificates with Certbot:\n",
    "\n",
    "Run Certbot and specify the --nginx option to automatically configure SSL for Nginx:"
   ]
  },
  {
   "cell_type": "code",
   "execution_count": null,
   "metadata": {
    "vscode": {
     "languageId": "sql"
    }
   },
   "outputs": [],
   "source": [
    "sudo certbot --nginx\n"
   ]
  }
 ],
 "metadata": {
  "kernelspec": {
   "display_name": "Python 3",
   "language": "python",
   "name": "python3"
  },
  "language_info": {
   "name": "python",
   "version": "3.10.12"
  },
  "orig_nbformat": 4
 },
 "nbformat": 4,
 "nbformat_minor": 2
}
