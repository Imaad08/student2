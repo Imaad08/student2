{
 "cells": [
  {
   "cell_type": "markdown",
   "metadata": {},
   "source": [
    "---\n",
    "toc: true\n",
    "comments: true\n",
    "layout: post\n",
    "title: CB 3.7,3.8 - Iteration in Python\n",
    "description: Lesson for iteration in Python, using College Board lessons 3.7 & 3.8.\n",
    "type: tangibles\n",
    "author: Advik Garg, Srijan Atti, Akhil Singamneni, Aashray Rajagopalan\n",
    "courses: { compsci: {week: 8} }\n",
    "---"
   ]
  },
  {
   "cell_type": "markdown",
   "metadata": {},
   "source": [
    "# Introduction\n",
    "In this lesson, we will explore the various ways to create loops in Python. Loops are essential for repetitive tasks and are a fundamental concept in programming. We will cover different types of loops, advanced loop techniques, and how to work with lists and dictionaries using loops."
   ]
  },
  {
   "cell_type": "markdown",
   "metadata": {},
   "source": [
    "## For Loops\n",
    "- Used to iterate over a sequence (such as a list, tuple, string, or range) \n",
    "- Executes a block of code for each item in the sequence"
   ]
  },
  {
   "cell_type": "code",
   "execution_count": null,
   "metadata": {},
   "outputs": [],
   "source": [
    "# APCSP Pseudo-Code: Iterating Over a List of Fruits\n",
    "\n",
    "fruits ← [\"apple\", \"banana\", \"cherry\"]\n",
    "\n",
    "FOR EACH fruit IN fruits:\n",
    "    DISPLAY fruit\n",
    "END FOR\n",
    "\n",
    "\n"
   ]
  },
  {
   "cell_type": "code",
   "execution_count": 18,
   "metadata": {},
   "outputs": [
    {
     "name": "stdout",
     "output_type": "stream",
     "text": [
      "apple\n",
      "banana\n",
      "cherry\n"
     ]
    }
   ],
   "source": [
    "# Example 1: Simple for loop\n",
    "fruits = [\"apple\", \"banana\", \"cherry\"]\n",
    "for fruit in fruits:\n",
    "    print(fruit)"
   ]
  },
  {
   "cell_type": "markdown",
   "metadata": {},
   "source": [
    "## While Loops\n",
    "- Used to execute a block of code as long as a condition is true"
   ]
  },
  {
   "cell_type": "code",
   "execution_count": null,
   "metadata": {},
   "outputs": [],
   "source": [
    "# APCSP Pseudo-Code: Using a While Loop to Count and Display Numbers\n",
    "\n",
    "\n",
    "i ← 1\n",
    "\n",
    "\n",
    "WHILE i ≤ 5:\n",
    "    DISPLAY i\n",
    "    i ← i + 1\n",
    "END WHILE"
   ]
  },
  {
   "cell_type": "code",
   "execution_count": 17,
   "metadata": {},
   "outputs": [
    {
     "name": "stdout",
     "output_type": "stream",
     "text": [
      "1\n",
      "2\n",
      "3\n",
      "4\n",
      "5\n"
     ]
    }
   ],
   "source": [
    "# Example 2: Simple while loop\n",
    "i = 1\n",
    "while i <= 5:\n",
    "    print(i)\n",
    "    i += 1"
   ]
  },
  {
   "cell_type": "markdown",
   "metadata": {},
   "source": [
    "## Looping with Lists and Dictionaries\n",
    "- Used to iterate through the elements of lists and dictionaries"
   ]
  },
  {
   "cell_type": "code",
   "execution_count": null,
   "metadata": {},
   "outputs": [],
   "source": [
    "# APCSP Pseudo-Code: Loop Through a List\n",
    "\n",
    "numbers ← [1, 2, 3, 4]\n",
    "FOR EACH num IN numbers:\n",
    "    DISPLAY num\n",
    "END FOR\n",
    "\n",
    "# APCSP Pseudo-Code: Loop Through a Dictionary\n",
    "person ← {\"name\": \"aashray\", \"age\": 15, \"city\": \"San Diego\"}\n",
    "FOR EACH key, value IN person:\n",
    "    DISPLAY key, \":\", value\n",
    "END FOR\n"
   ]
  },
  {
   "cell_type": "code",
   "execution_count": 16,
   "metadata": {},
   "outputs": [
    {
     "name": "stdout",
     "output_type": "stream",
     "text": [
      "1\n",
      "2\n",
      "3\n",
      "4\n",
      "name : aashray\n",
      "age : 15\n",
      "city : San Diego\n"
     ]
    }
   ],
   "source": [
    "# Example 3: Loop through a list\n",
    "numbers = [1, 2, 3, 4]\n",
    "for num in numbers:\n",
    "    print(num)\n",
    "\n",
    "# Example 4: Loop through a dictionary\n",
    "person = {\"name\": \"aashray\", \"age\": 15, \"city\": \"San Diego\"}\n",
    "for key, value in person.items():\n",
    "    print(key, \":\", value)\n"
   ]
  },
  {
   "cell_type": "markdown",
   "metadata": {},
   "source": [
    "# Popcorn Hack 1\n",
    "\n",
    "- Use a loop to get X amount of inputs. Then use a loop to find the type of each value.\n",
    "\n",
    "- Extra Challenge: If an input is a number, make the corresponding value in the dictionary a number."
   ]
  },
  {
   "cell_type": "code",
   "execution_count": null,
   "metadata": {},
   "outputs": [],
   "source": [
    "X = int(input(\"Enter the number of inputs: \"))\n",
    "\n",
    "sample_dict = {}\n",
    "\n",
    "for i in range(X):\n",
    "    key = input(\"Enter key for input {}: \".format(i+1))\n",
    "    value = input(\"Enter value for input {}: \".format(i+1))\n",
    "    \n",
    "    if value.replace('.', '', 1).isdigit():\n",
    "        if '.' in value:\n",
    "            value = float(value)\n",
    "        else:\n",
    "            value = int(value)\n",
    "    \n",
    "    sample_dict[key] = value\n",
    "\n",
    "for key, value in sample_dict.items():\n",
    "    print(f\"{key}: {type(value).__name__}\")\n"
   ]
  },
  {
   "cell_type": "markdown",
   "metadata": {},
   "source": [
    "## Looping with Index Variable\n",
    "You can use the `range` function to create a loop with an index variable."
   ]
  },
  {
   "cell_type": "code",
   "execution_count": null,
   "metadata": {},
   "outputs": [],
   "source": [
    "# APCSP Pseudo-Code: Loop Through a List Using Index\n",
    "\n",
    "lst ← [4, 6, 7, 2]\n",
    "FOR i IN RANGE(LENGTH(lst)):\n",
    "    DISPLAY \"Index: \" + STRING(i)\n",
    "    DISPLAY \"Element: \" + STRING(GET_ELEMENT(lst, i))\n",
    "END FOR"
   ]
  },
  {
   "cell_type": "code",
   "execution_count": 20,
   "metadata": {},
   "outputs": [
    {
     "name": "stdout",
     "output_type": "stream",
     "text": [
      "Index: 0\n",
      "Element: 4\n",
      "Index: 1\n",
      "Element: 6\n",
      "Index: 2\n",
      "Element: 7\n",
      "Index: 3\n",
      "Element: 2\n"
     ]
    }
   ],
   "source": [
    "# Example 5: Loop with an index variable\n",
    "\n",
    "lst = [4, 6, 7, 2]\n",
    "\n",
    "for i in range(len(lst)): # Loop for the number of elements in the list\n",
    "    print('Index: ' + str(i)) # Print the index\n",
    "    print('Element: ' + str(lst[i])) # Print the element"
   ]
  },
  {
   "cell_type": "markdown",
   "metadata": {},
   "source": [
    "## Nested If Statements\n",
    "You can nest conditional statements inside a `for` loop to execute different code based on conditions."
   ]
  },
  {
   "cell_type": "code",
   "execution_count": null,
   "metadata": {},
   "outputs": [],
   "source": [
    "# APCSP Pseudo-Code: For Loop with Nested If Statements\n",
    "\n",
    "numbers ← [1, 2, 3, 4, 5]\n",
    "FOR EACH num IN numbers:\n",
    "    IF num MOD 2 EQUALS 0:\n",
    "        DISPLAY num, \"is even\"\n",
    "    ELSE:\n",
    "        DISPLAY num, \"is odd\"\n",
    "    END IF\n",
    "END FOR\n"
   ]
  },
  {
   "cell_type": "code",
   "execution_count": 9,
   "metadata": {},
   "outputs": [
    {
     "name": "stdout",
     "output_type": "stream",
     "text": [
      "1 is odd\n",
      "2 is even\n",
      "3 is odd\n",
      "4 is even\n",
      "5 is odd\n"
     ]
    }
   ],
   "source": [
    "# Example 6: For loop with nested if statements\n",
    "numbers = [1, 2, 3, 4, 5]\n",
    "for num in numbers:\n",
    "    if num % 2 == 0:\n",
    "        print(num, \"is even\")\n",
    "    else:\n",
    "        print(num, \"is odd\")"
   ]
  },
  {
   "cell_type": "markdown",
   "metadata": {},
   "source": [
    "# Popcorn Hack 2\n",
    "\n",
    "- Use the input() function to append a range of integers from a list\n",
    "\n",
    "- Use a nested if statement to only print numbers in the list that are evenly divisble by 3"
   ]
  },
  {
   "cell_type": "code",
   "execution_count": 11,
   "metadata": {},
   "outputs": [
    {
     "name": "stdout",
     "output_type": "stream",
     "text": [
      "1 is not divisible by 3\n",
      "2 is not divisible by 3\n",
      "3 is divisible by 3\n",
      "4 is not divisible by 3\n",
      "5 is not divisible by 3\n"
     ]
    }
   ],
   "source": [
    "nums = []\n",
    "length = int(input(\"how many numbers?: \"))\n",
    "\n",
    "for x in range(length):\n",
    "    x = int(input(\"Enter a number\"))\n",
    "    \n",
    "    nums.append(x)\n",
    "\n",
    "for i in nums:\n",
    "    if i % 3 == 0:\n",
    "        print(i, \"is divisible by 3\")\n",
    "    else:\n",
    "        print(i, \"is not divisible by 3\")"
   ]
  },
  {
   "cell_type": "markdown",
   "metadata": {},
   "source": [
    "## Try/Except\n",
    "- Using a `try` and `except` block inside a loop can handle errors gracefully.\n",
    "  \n",
    "- Very useful for production code, even in frontend webapps\n",
    "    - Ex: Giving an error page instead of dumping critical information on the webpage"
   ]
  },
  {
   "cell_type": "code",
   "execution_count": null,
   "metadata": {},
   "outputs": [],
   "source": [
    "# APCSP Pseudo-Code: Handling Errors in a For Loop\n",
    "\n",
    "numbers ← [1, 2, \"three\", 4, 0, \"five\"]\n",
    "FOR EACH item IN numbers:\n",
    "    TRY:\n",
    "        DISPLAY 10 / item\n",
    "    CATCH ZeroDivisionError:\n",
    "        DISPLAY \"Division by zero\"\n",
    "    CATCH TypeError:\n",
    "        DISPLAY \"Type error\"\n",
    "    END TRY\n",
    "END FOR\n"
   ]
  },
  {
   "cell_type": "code",
   "execution_count": 8,
   "metadata": {},
   "outputs": [
    {
     "name": "stdout",
     "output_type": "stream",
     "text": [
      "10.0\n",
      "5.0\n",
      "Type error\n",
      "2.5\n",
      "Division by zero\n",
      "Type error\n"
     ]
    }
   ],
   "source": [
    "numbers = [1, 2, \"three\", 4, 0, \"five\"]\n",
    "\n",
    "for item in numbers:\n",
    "    try:\n",
    "        print(10 / item)\n",
    "    except ZeroDivisionError: #Type of error: Dividing by Zero\n",
    "        print(\"Division by zero\")\n",
    "    except TypeError: #Type of error: Dividing by something that isn't a number\n",
    "        print(\"Type error\")"
   ]
  },
  {
   "cell_type": "markdown",
   "metadata": {},
   "source": [
    "# Popcorn Hack 3\n",
    "- Create a for loop that uses a try and except statement for an AttributeError\n",
    "- Use integers and a list to create scenarios where the loop will either print something expected or print an error message\n",
    "- *CHALLENGE:* Try using the `math` module for this error"
   ]
  },
  {
   "cell_type": "code",
   "execution_count": 17,
   "metadata": {},
   "outputs": [
    {
     "name": "stdout",
     "output_type": "stream",
     "text": [
      "The square root of 2 is: 1.4142135623730951\n",
      "The square root of 5 is: 2.23606797749979\n",
      "Error: Value error encountered for item: -2\n",
      "The square root of 8 is: 2.8284271247461903\n"
     ]
    }
   ],
   "source": [
    "import math\n",
    "\n",
    "numbers = [2, 5, -2 , 8]\n",
    "\n",
    "for i in numbers:\n",
    "    try:\n",
    "        square_root = math.sqrt(i)\n",
    "        print(f\"The square root of {i} is: {square_root}\")\n",
    "    except AttributeError:\n",
    "        print(f\"Error: Attribute error encountered for: {i}\")\n",
    "    except ValueError:\n",
    "        print(f\"Error: Value error encountered for item: {i}\")\n"
   ]
  },
  {
   "cell_type": "markdown",
   "metadata": {},
   "source": [
    "## Continue and Break\n",
    "- `Continue` statement skips the current iteration\n",
    "- `Break` statement exits the loop prematurely"
   ]
  },
  {
   "cell_type": "code",
   "execution_count": null,
   "metadata": {},
   "outputs": [],
   "source": [
    "# APCSP Pseudo-Code: For Loop with Continue and Break\n",
    "\n",
    "numbers ← [1, 2, 3, 4, 5]\n",
    "FOR EACH num IN numbers:\n",
    " \n",
    "    IF num EQUALS 3:\n",
    "        CONTINUE\n",
    "    IF num EQUALS 5:\n",
    "        BREAK \n",
    "    DISPLAY num\n",
    "END FOR\n"
   ]
  },
  {
   "cell_type": "code",
   "execution_count": 6,
   "metadata": {},
   "outputs": [
    {
     "name": "stdout",
     "output_type": "stream",
     "text": [
      "1\n",
      "2\n",
      "4\n"
     ]
    }
   ],
   "source": [
    "# Example 8: For loop with continue and break\n",
    "numbers = [1, 2, 3, 4, 5]\n",
    "for num in numbers:\n",
    "    if num == 3:\n",
    "        continue  # Skip the number 3\n",
    "    if num == 5:\n",
    "        break  # Exit the loop when 5 is encountered\n",
    "    print(num)"
   ]
  },
  {
   "cell_type": "markdown",
   "metadata": {},
   "source": [
    "# Nested For Loops\n",
    "- You can also put for loops within for loops\n",
    "- Allows for looping an exponential amount of times"
   ]
  },
  {
   "cell_type": "code",
   "execution_count": null,
   "metadata": {},
   "outputs": [],
   "source": [
    "# APCSP Pseudo-Code: Nested Loops for Group Names\n",
    "\n",
    "groups ← [[\"advik\", \"aashray\"], [\"akhil\", \"srijan\"]]\n",
    "\n",
    "FOR EACH pair IN groups:\n",
    "    FOR EACH person IN pair:\n",
    "        DISPLAY person + \" is cool\"\n",
    "    END FOR\n",
    "    DISPLAY pair[0] + \" and \" + pair[1] + \" love to code code code\"\n",
    "END FOR\n"
   ]
  },
  {
   "cell_type": "code",
   "execution_count": 32,
   "metadata": {},
   "outputs": [
    {
     "name": "stdout",
     "output_type": "stream",
     "text": [
      "advik is cool\n",
      "aashray is cool\n",
      "advik and aashray love to code code code\n",
      "akhil is cool\n",
      "srijan is cool\n",
      "akhil and srijan love to code code code\n"
     ]
    }
   ],
   "source": [
    "groups = [['advik', 'aashray'], ['akhil', 'srijan']]\n",
    "\n",
    "for pair in groups:\n",
    "    for person in pair:\n",
    "        print(person + ' is cool')\n",
    "    print(pair[0] + ' and ' + pair[1] + ' love to code code code')"
   ]
  },
  {
   "cell_type": "markdown",
   "metadata": {},
   "source": [
    "# (OPTIONAL) Popcorn Hack 4\n",
    "- Create a nested for loop that iterates over a dictionary that has:\n",
    "    - A name for each key\n",
    "    - A list for each value containing stuff like age, grade, etc.\n",
    "- Break/continue if certain conditions are met\n",
    "- Have fun! If you want to, relate it to a theme!"
   ]
  },
  {
   "cell_type": "code",
   "execution_count": 18,
   "metadata": {},
   "outputs": [
    {
     "name": "stdout",
     "output_type": "stream",
     "text": [
      "Student: Imaad\n",
      "Imaad has an 'A' grade.\n",
      "Student: Tanay\n",
      "Student: Arnav\n"
     ]
    }
   ],
   "source": [
    "student_info = {\n",
    "    'Imaad': [15, 'A'],\n",
    "    'Tanay': [16, 'B'],\n",
    "    'Arnav': [15, 'C'],\n",
    "}\n",
    "\n",
    "for name, details in student_info.items():\n",
    "    print(f\"Student: {name}\")\n",
    "    age, grade = details  \n",
    "\n",
    "    if age > 18:\n",
    "        print(f\"{name} is above 18 years old.\")\n",
    "        break  \n",
    "\n",
    "    if grade == 'A':\n",
    "        print(f\"{name} has an 'A' grade.\")\n",
    "        continue  \n"
   ]
  },
  {
   "cell_type": "markdown",
   "metadata": {},
   "source": [
    "## Iteration via Recursion\n",
    "- A technique where a function calls itself\n",
    "- Can be used to recreate loops until a certain condition is met"
   ]
  },
  {
   "cell_type": "code",
   "execution_count": null,
   "metadata": {},
   "outputs": [],
   "source": [
    "# APCSP Pseudo-Code: Recursion for Factorial Calculation\n",
    "\n",
    "FUNCTION factorial(n):\n",
    "    IF n EQUALS 0:\n",
    "        RETURN 1\n",
    "    ELSE IF n LESS THAN 0:\n",
    "        RETURN \"undefined\"\n",
    "    ELSE IF TYPEOF(n) EQUALS \"float\":\n",
    "        RETURN \"not solvable without gamma function\"\n",
    "    ELSE:\n",
    "        RETURN n TIMES factorial(n - 1)\n",
    "    END IF\n",
    "END FUNCTION\n",
    "\n",
    "result ← CALL factorial(5)\n",
    "DISPLAY \"Factorial of 5 is\", result\n"
   ]
  },
  {
   "cell_type": "code",
   "execution_count": 31,
   "metadata": {},
   "outputs": [
    {
     "name": "stdout",
     "output_type": "stream",
     "text": [
      "Factorial of 5 is 120\n"
     ]
    }
   ],
   "source": [
    "# Example 9: Recursion for factorial calculation\n",
    "def factorial(n):\n",
    "    if n == 0: #Conditions to stop the recursion\n",
    "        return 1 # 0! is 1\n",
    "    elif n < 0:\n",
    "        return \"undefined\" # Undefined for negative numbers \n",
    "    elif isinstance(n, float):\n",
    "        return \"not solvable without gamma function\" # Only accept integers\n",
    "    else:\n",
    "        return n * factorial(n - 1) #Function calling itself\n",
    "\n",
    "result = factorial(5)\n",
    "print(\"Factorial of 5 is\", result)"
   ]
  },
  {
   "cell_type": "markdown",
   "metadata": {},
   "source": [
    "# Homework\n",
    "\n",
    "- Add student names w/ grades to a dictionary until the user doesn't want more students\n",
    "    - Prompt for user input for all of these\n",
    "\n",
    "\n",
    "- Use a nested if/else statement in a for loop \n",
    "    - Get the highest score in the dictionary\n",
    "    - Add all students who passed into a new list (add student names, not their scores)\n",
    "\n",
    "\n",
    "\n",
    "- Bonus: Use a try/except for any scores that aren't integers "
   ]
  },
  {
   "cell_type": "code",
   "execution_count": 21,
   "metadata": {},
   "outputs": [
    {
     "name": "stdout",
     "output_type": "stream",
     "text": [
      "Student grades: {'Imaad': 98, 'Tanay': 97, 'Arnav': 95, 'Test': 30}\n",
      "Highest score: 98\n",
      "Passing students: ['Imaad', 'Tanay', 'Arnav']\n",
      "Failing students: ['Test']\n"
     ]
    }
   ],
   "source": [
    "students = {}\n",
    "\n",
    "def is_valid_grade(grade):\n",
    "    try:\n",
    "        int_grade = int(grade)\n",
    "        return True\n",
    "    except ValueError:\n",
    "        return False\n",
    "\n",
    "while True:\n",
    "    name = input(\"Enter student name (or 'exit' to stop): \")\n",
    "    if name.lower() == 'exit':\n",
    "        break\n",
    "\n",
    "    grade = input(\"Enter student grade: \")\n",
    "    while not is_valid_grade(grade):\n",
    "        print(\"Invalid grade. Please enter a valid integer grade.\")\n",
    "        grade = input(\"Enter student number grade(Don't include percent sign): \")\n",
    "\n",
    "    students[name] = int(grade)\n",
    "\n",
    "highest_score = float('-inf')\n",
    "passing_students = []\n",
    "failing_students = []\n",
    "\n",
    "for name, grade in students.items():\n",
    "    if grade > highest_score:\n",
    "        highest_score = grade\n",
    "\n",
    "    if grade >= 60:\n",
    "        passing_students.append(name)\n",
    "    else:\n",
    "        failing_students.append(name)\n",
    "\n",
    "print(\"Student grades:\", students)\n",
    "print(\"Highest score:\", highest_score)\n",
    "print(\"Passing students:\", passing_students)\n",
    "print(\"Failing students:\", failing_students)\n"
   ]
  }
 ],
 "metadata": {
  "kernelspec": {
   "display_name": "Python 3",
   "language": "python",
   "name": "python3"
  },
  "language_info": {
   "codemirror_mode": {
    "name": "ipython",
    "version": 3
   },
   "file_extension": ".py",
   "mimetype": "text/x-python",
   "name": "python",
   "nbconvert_exporter": "python",
   "pygments_lexer": "ipython3",
   "version": "3.11.4"
  }
 },
 "nbformat": 4,
 "nbformat_minor": 2
}
