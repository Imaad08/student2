{
 "cells": [
  {
   "cell_type": "markdown",
   "metadata": {},
   "source": [
    "---\n",
    "# toc: true\n",
    "comments: false\n",
    "layout: default\n",
    "title: CB 3.12,3.13 Developing Procedures \n",
    "type: plans \n",
    "courses: { compsci: {week: 7} }\n",
    "description: CB 3.12,3.13 Developing Procedures \n",
    "---"
   ]
  },
  {
   "cell_type": "markdown",
   "metadata": {},
   "source": [
    "<h1>- CB 3.12,3.13 Developing Procedures</h1>"
   ]
  },
  {
   "cell_type": "markdown",
   "metadata": {},
   "source": [
    "\n",
    "What is a procedure?\n",
    "\n",
    "A procedure is a named group of code that has paramaters and return values. Procedures are known as methods or functions depending on the language.\n",
    "\n",
    "A procedure executes the statements within it on the parameters to provide a return value.\n",
    "\n",
    "What are parameters?\n",
    "\n",
    "Paramaters are input values of a procedure that are specified by arguments.Arguments specify the values of the parameters when a procedure is called.\n",
    "\n",
    "By creating theses algorithms the readibility of code increases and the complexity decreases. This is becasue a function's name can tell the reader what action it will perform, and by calling it, the code becomes more clean and easy to understand.\n",
    "\n"
   ]
  },
  {
   "cell_type": "markdown",
   "metadata": {},
   "source": [
    "<h1>What is a return value?</h1>\n",
    "<h3>A return value is the value that is returned when a function or a method is called.</h3>\n",
    "<h3>That return value can be assigned or printed</h3>"
   ]
  },
  {
   "cell_type": "markdown",
   "metadata": {},
   "source": [
    "<img src = \"/passionProject/_notebooks/images.png\">"
   ]
  },
  {
   "cell_type": "markdown",
   "metadata": {},
   "source": [
    "Procedures are used to create algorthims that can perform certain actions or return values. When a procedure returns a value, theis information must be stored in a variable for later use. However some procedures like the MOVE_FORWARD() perform an action, and don't return a value. The image above provides an example of where procedures that don't output a value would be used."
   ]
  },
  {
   "cell_type": "code",
   "execution_count": null,
   "metadata": {},
   "outputs": [],
   "source": [
    "A 60$ item recieves a 20% discount and taxed at 8%.\n",
    "PROCEDURE applyDiscount(cost, percentDiscounted)\n",
    "{\n",
    "    temp ← 100 - percentDiscounted\n",
    "    temp← temp/ 100\n",
    "    cost ← cost *temp\n",
    "    RETURN(cost)\n",
    "}\n",
    "\n",
    "price ← applyDiscount(60, 20)\n",
    "This is how we get the final price with the discount by calling the procedure and assigning it to the price variable.\n",
    "\n",
    "\n",
    "PROCEDURE applyTax(cost, percentTaxed)\n",
    "{\n",
    "    temp ← 100 + percentTaxed\n",
    "    temp← temp/ 100\n",
    "    cost ← cost *temp\n",
    "    RETURN(cost)\n",
    "}\n",
    "price ← applyTax(price, 8)\n",
    "This applys the 8% tax to the price determined after the discount."
   ]
  },
  {
   "cell_type": "markdown",
   "metadata": {},
   "source": [
    "<h3>Popcorn Hack 1</h3>\n",
    "Given the applyTax procedure above:\n",
    "How would you call the procedure to get it to find the price using cost = 50, and percentTaxed = 10, and what value will it return?"
   ]
  },
  {
   "cell_type": "code",
   "execution_count": null,
   "metadata": {},
   "outputs": [],
   "source": [
    "#code here"
   ]
  },
  {
   "cell_type": "markdown",
   "metadata": {},
   "source": [
    "<h1>What Are Functions?</h1>\n",
    "<ul>\n",
    "    <li>Collections of code</li>\n",
    "    <li>Divides large program into smaller chunks</li>\n",
    "    <li>Better readability</li>\n",
    "    <li>Less repetitive code</li>\n",
    "    <li>More efficient code</li>\n",
    "    <li>Good organization</li>\n",
    "</ul>\n",
    "\n",
    "\n",
    "\n",
    "<h1>What Are The Components of a Function?</h1>\n",
    "<ul>\n",
    "    <li>The function declaration</li>\n",
    "    <li>The parameters (input). This is also referred to as an argument when a value is being passed to the actual function.</li>\n",
    "    <li>The functionality</li>\n",
    "    <li>The return value (output)</li>\n",
    "    <li>Calling the function</li>\n",
    "</ul>"
   ]
  },
  {
   "cell_type": "code",
   "execution_count": null,
   "metadata": {},
   "outputs": [],
   "source": [
    "# Defining Functions\n",
    "#\n",
    "# def function_name(parameter1, parameter2, etc..):\n",
    "#     code here...\n",
    "#\n",
    "#     return return_value;\n",
    "\n",
    "# return the value of parameter1 plus parameter2;\n",
    "def add(parameter1, parameter2): # creates a function that takes in two parameters\n",
    "    solution = parameter1 + parameter2; # sets solution to the sum of parameter1 and parameter2\n",
    "    return solution; # return solution\n",
    "    \n",
    "print(add(5, 5)); # prints the return value of add(5,5)"
   ]
  },
  {
   "cell_type": "markdown",
   "metadata": {},
   "source": [
    "<h2 style=\"font-weight:bold\">Popcorn Hack 2:</h2>\n",
    "<h3>1. Make a function that returns the difference of two numbers</h3>"
   ]
  },
  {
   "cell_type": "code",
   "execution_count": null,
   "metadata": {},
   "outputs": [],
   "source": [
    "# Code here"
   ]
  },
  {
   "cell_type": "markdown",
   "metadata": {},
   "source": [
    "<h1>What is a Class?</h1>\n",
    "<ul>\n",
    "    <li>A class is an outline for a set of nested functions and variables.</li>\n",
    "    <li>There are instance variables</li>\n",
    "    <li>Functions</li>\n",
    "    <ul>\n",
    "        <li>Constructor method (Required)</li>\n",
    "        <li>To String method</li>\n",
    "        <li>Getter method</li>\n",
    "        <li>Setter method</li>\n",
    "    </ul>\n",
    "</ul>\n",
    "<h1>How Does a Class Work?</h1>"
   ]
  },
  {
   "cell_type": "code",
   "execution_count": null,
   "metadata": {},
   "outputs": [],
   "source": [
    "# Defining Classes\n",
    "class person:\n",
    "    def __init__(self, name, age, ): # constructor\n",
    "        self.name = name;\n",
    "        self.age = age;\n",
    "    \n",
    "    def getName(self): # method to create get name\n",
    "        return self.name;\n",
    "    \n",
    "    def getAge(self): # method to create get age\n",
    "        return self.age;\n",
    "    \n",
    "    def setName(self, name): # method to create set name\n",
    "        self.name = name;\n",
    "        \n",
    "    def setAge(self, age): # method to create set age\n",
    "        self.age = age;\n",
    "        \n",
    "    def yearOlder(self): # method to increment age by 1\n",
    "        self.age += 1;\n",
    "        \n",
    "    def __str__(self): # method that returns a string when the object is printed\n",
    "        return (f\"My name is {self.name} and I am {self.age} years old.\")\n",
    "\n",
    "Person1 = person(\"John Doe\", 15);\n",
    "print(Person1)\n",
    "\n",
    "\n",
    "print(Person1);"
   ]
  },
  {
   "cell_type": "markdown",
   "metadata": {},
   "source": [
    "<h2 style=\"font-weight:bold\">Popcorn Hack 3:</h2>\n",
    "<h3>1. Create a Car class which has the attributes model, vehicle name, and price</h3>\n",
    "<h3>2. Create instances of the following cars</h3>\n",
    "<ul>\n",
    "    <li>Name: Honda Civic , Model Year: 2018 , Price: $13,000 </li>\n",
    "    <li>Name: Toyota Prius, Model Year: 2023 , Price: $28,000 </li>\n",
    "    <li>Name: Chevrolet Impala, Model Year: 2020 , Price: $22,000 </li>\n",
    "</ul>"
   ]
  },
  {
   "cell_type": "markdown",
   "metadata": {},
   "source": [
    "<h1>Homework:</h1>\n",
    "<h2>Assignment 1: How do you use functions?</h2>\n",
    "<h3>Create a turtle python function that...</h3>\n",
    "<ol>\n",
    "    <li>Takes a single parameter as the number of sides</li>\n",
    "    <li>Outputs a shape corresponding to the number of sides</li>\n",
    "    <li>Call the function with the argument being a variable with the user input</li>\n",
    "</ol>\n",
    "<h3>Hint: </h3>"
   ]
  },
  {
   "cell_type": "code",
   "execution_count": null,
   "metadata": {},
   "outputs": [],
   "source": [
    "import turtle\n",
    "\n",
    "pen = turtle.Turtle(); # pen is the instance of Turtle which has methods that do certain actions\n",
    "\n",
    "# Necessary methods:\n",
    "# .forward(50) - moves the pen forward 50 units\n",
    "# .right(angle) - turns the pen angle degrees right   \n",
    "# OR\n",
    "# .left(angle) - turns the pen angle degrees left\n",
    "\n",
    "def shape(sides):\n",
    "    #code here\n",
    "\n",
    "numsides = input('How many sides do yoUUUU wnat in YOUUUURRRR shape?!?!!?!: ')\n",
    "shape(int(numsides))\n"
   ]
  },
  {
   "cell_type": "markdown",
   "metadata": {},
   "source": [
    "<h2>Assignment 2:</h2>\n",
    "<h3>Create a student class that...</h3>\n",
    "<ol>\n",
    "    <li>Has a constructor that takes three parameters as attributes</li>\n",
    "    <li>\n",
    "        <ul>\n",
    "            <li>email</li>\n",
    "            <li>name</li>\n",
    "            <li>grade</li>\n",
    "        </ul>\n",
    "    </li>\n",
    "    <li>Three getter methods to access the name, email, and grade</li>\n",
    "    <li>Three setter methods to modify the name, email, and grade</li>\n",
    "    <li>A to string method that returns the three instance variables in this format - \"My name is {name}. My email is {email}. My grade is {grade}</li>\n",
    "    <li>Create an instance of the class that corresponds with you</li>\n",
    "</ol>\n"
   ]
  }
 ],
 "metadata": {
  "kernelspec": {
   "display_name": "Python 3",
   "language": "python",
   "name": "python3"
  },
  "language_info": {
   "codemirror_mode": {
    "name": "ipython",
    "version": 3
   },
   "file_extension": ".py",
   "mimetype": "text/x-python",
   "name": "python",
   "nbconvert_exporter": "python",
   "pygments_lexer": "ipython3",
   "version": "3.10.12"
  },
  "orig_nbformat": 4
 },
 "nbformat": 4,
 "nbformat_minor": 2
}
